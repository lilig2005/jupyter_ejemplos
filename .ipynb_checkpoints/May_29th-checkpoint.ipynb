{
 "cells": [
  {
   "cell_type": "code",
   "execution_count": null,
   "metadata": {},
   "outputs": [],
   "source": [
    "import numpy as np\n",
    "import util4d as ul\n",
    "import scipy.misc\n",
    "import hyperspy.api as hs\n",
    "#import pixstem.api as ps\n",
    "import matplotlib.colors as colors\n",
    "import matplotlib.pyplot as plt\n",
    "import matplotlib as mpl \n",
    "import os, os.path as path, glob\n",
    "import scipy.io as sio\n",
    "import pandas as pd \n",
    "#import imageio\n",
    "#import hihi\n",
    "import h5py\n",
    "import json\n",
    "import copy\n",
    "import lmfit\n",
    "from lmfit import Model\n",
    "# If ``empix`` is not installed, run \n",
    "# pip install git+https://gitlab.com/mrfitzpa/empix.git\n",
    "# in virtual environment.\n",
    "import empix\n",
    "\n",
    "from matplotlib.ticker import MultipleLocator, FormatStrFormatter\n",
    "import calc_scan_shape as css #my function"
   ]
  },
  {
   "cell_type": "code",
   "execution_count": 104,
   "metadata": {},
   "outputs": [],
   "source": [
    "# %matplotlib inline  \n",
    "%matplotlib qt\n",
    "# %matplotlib auto"
   ]
  },
  {
   "cell_type": "code",
   "execution_count": 107,
   "metadata": {},
   "outputs": [],
   "source": [
    "#test_file = r'30kV-1uA-C1-15-apert4-2.hp' \n",
    "#test_file = r'28kV-1uA-C1-15-apert4-2.hp' \n",
    "#test_file = r'26kV-1uA-C1-15-apert3.hp'\n",
    "#test_file = r'24kV-1uA-C1-15-apert2.hp' \n",
    "#test_file = r'22kV-1uA-C1-15-to-check.hp' \n",
    "#test_file = r'20kV-1uA-Aperture1-C5-200-iter.hp'\n",
    "#test_file = r'20kV-1uA-30iter.hp' \n",
    "#test_file = r'18kV-1uA-40iter.hp' \n",
    "#test_file = r'16kV-1uA-40iter.hp'\n",
    "test_file = r'16kV-P-6.hp'\n",
    "#test_file = r'14kV-1uA-40iter.hp'\n",
    "#test_file = r'12kV-1uA-40iter.hp'\n",
    "#test_file = r'10kV-1uA-40iter.hp'\n",
    "#test_file = r'8kV-1uA-40iter.hp'\n",
    "#test_file = r'8kv-40-iter.hp'\n",
    "#test_file = r'6kV.hp'\n",
    "#test_file = r'5kV-40-iter.hp'\n",
    "plot_name = 'Test Data'"
   ]
  },
  {
   "cell_type": "code",
   "execution_count": 108,
   "metadata": {},
   "outputs": [
    {
     "ename": "FileNotFoundError",
     "evalue": "[Errno 2] Unable to open file (unable to open file: name = '16kV-P-6.hp', errno = 2, error message = 'No such file or directory', flags = 0, o_flags = 0)",
     "output_type": "error",
     "traceback": [
      "\u001b[1;31m---------------------------------------------------------------------------\u001b[0m",
      "\u001b[1;31mFileNotFoundError\u001b[0m                         Traceback (most recent call last)",
      "Cell \u001b[1;32mIn[108], line 1\u001b[0m\n\u001b[1;32m----> 1\u001b[0m f \u001b[38;5;241m=\u001b[39m \u001b[43mh5py\u001b[49m\u001b[38;5;241;43m.\u001b[39;49m\u001b[43mFile\u001b[49m\u001b[43m(\u001b[49m\u001b[43mtest_file\u001b[49m\u001b[43m,\u001b[49m\u001b[43m \u001b[49m\u001b[38;5;124;43m'\u001b[39;49m\u001b[38;5;124;43mr\u001b[39;49m\u001b[38;5;124;43m'\u001b[39;49m\u001b[43m)\u001b[49m\n\u001b[0;32m      2\u001b[0m \u001b[38;5;66;03m# We can 'see fields' of hdf5 file through: list(f.keys())\u001b[39;00m\n",
      "File \u001b[1;32mC:\\ProgramData\\Anaconda3\\envs\\cris\\lib\\site-packages\\h5py\\_hl\\files.py:567\u001b[0m, in \u001b[0;36mFile.__init__\u001b[1;34m(self, name, mode, driver, libver, userblock_size, swmr, rdcc_nslots, rdcc_nbytes, rdcc_w0, track_order, fs_strategy, fs_persist, fs_threshold, fs_page_size, page_buf_size, min_meta_keep, min_raw_keep, locking, alignment_threshold, alignment_interval, meta_block_size, **kwds)\u001b[0m\n\u001b[0;32m    558\u001b[0m     fapl \u001b[38;5;241m=\u001b[39m make_fapl(driver, libver, rdcc_nslots, rdcc_nbytes, rdcc_w0,\n\u001b[0;32m    559\u001b[0m                      locking, page_buf_size, min_meta_keep, min_raw_keep,\n\u001b[0;32m    560\u001b[0m                      alignment_threshold\u001b[38;5;241m=\u001b[39malignment_threshold,\n\u001b[0;32m    561\u001b[0m                      alignment_interval\u001b[38;5;241m=\u001b[39malignment_interval,\n\u001b[0;32m    562\u001b[0m                      meta_block_size\u001b[38;5;241m=\u001b[39mmeta_block_size,\n\u001b[0;32m    563\u001b[0m                      \u001b[38;5;241m*\u001b[39m\u001b[38;5;241m*\u001b[39mkwds)\n\u001b[0;32m    564\u001b[0m     fcpl \u001b[38;5;241m=\u001b[39m make_fcpl(track_order\u001b[38;5;241m=\u001b[39mtrack_order, fs_strategy\u001b[38;5;241m=\u001b[39mfs_strategy,\n\u001b[0;32m    565\u001b[0m                      fs_persist\u001b[38;5;241m=\u001b[39mfs_persist, fs_threshold\u001b[38;5;241m=\u001b[39mfs_threshold,\n\u001b[0;32m    566\u001b[0m                      fs_page_size\u001b[38;5;241m=\u001b[39mfs_page_size)\n\u001b[1;32m--> 567\u001b[0m     fid \u001b[38;5;241m=\u001b[39m \u001b[43mmake_fid\u001b[49m\u001b[43m(\u001b[49m\u001b[43mname\u001b[49m\u001b[43m,\u001b[49m\u001b[43m \u001b[49m\u001b[43mmode\u001b[49m\u001b[43m,\u001b[49m\u001b[43m \u001b[49m\u001b[43muserblock_size\u001b[49m\u001b[43m,\u001b[49m\u001b[43m \u001b[49m\u001b[43mfapl\u001b[49m\u001b[43m,\u001b[49m\u001b[43m \u001b[49m\u001b[43mfcpl\u001b[49m\u001b[43m,\u001b[49m\u001b[43m \u001b[49m\u001b[43mswmr\u001b[49m\u001b[38;5;241;43m=\u001b[39;49m\u001b[43mswmr\u001b[49m\u001b[43m)\u001b[49m\n\u001b[0;32m    569\u001b[0m \u001b[38;5;28;01mif\u001b[39;00m \u001b[38;5;28misinstance\u001b[39m(libver, \u001b[38;5;28mtuple\u001b[39m):\n\u001b[0;32m    570\u001b[0m     \u001b[38;5;28mself\u001b[39m\u001b[38;5;241m.\u001b[39m_libver \u001b[38;5;241m=\u001b[39m libver\n",
      "File \u001b[1;32mC:\\ProgramData\\Anaconda3\\envs\\cris\\lib\\site-packages\\h5py\\_hl\\files.py:231\u001b[0m, in \u001b[0;36mmake_fid\u001b[1;34m(name, mode, userblock_size, fapl, fcpl, swmr)\u001b[0m\n\u001b[0;32m    229\u001b[0m     \u001b[38;5;28;01mif\u001b[39;00m swmr \u001b[38;5;129;01mand\u001b[39;00m swmr_support:\n\u001b[0;32m    230\u001b[0m         flags \u001b[38;5;241m|\u001b[39m\u001b[38;5;241m=\u001b[39m h5f\u001b[38;5;241m.\u001b[39mACC_SWMR_READ\n\u001b[1;32m--> 231\u001b[0m     fid \u001b[38;5;241m=\u001b[39m \u001b[43mh5f\u001b[49m\u001b[38;5;241;43m.\u001b[39;49m\u001b[43mopen\u001b[49m\u001b[43m(\u001b[49m\u001b[43mname\u001b[49m\u001b[43m,\u001b[49m\u001b[43m \u001b[49m\u001b[43mflags\u001b[49m\u001b[43m,\u001b[49m\u001b[43m \u001b[49m\u001b[43mfapl\u001b[49m\u001b[38;5;241;43m=\u001b[39;49m\u001b[43mfapl\u001b[49m\u001b[43m)\u001b[49m\n\u001b[0;32m    232\u001b[0m \u001b[38;5;28;01melif\u001b[39;00m mode \u001b[38;5;241m==\u001b[39m \u001b[38;5;124m'\u001b[39m\u001b[38;5;124mr+\u001b[39m\u001b[38;5;124m'\u001b[39m:\n\u001b[0;32m    233\u001b[0m     fid \u001b[38;5;241m=\u001b[39m h5f\u001b[38;5;241m.\u001b[39mopen(name, h5f\u001b[38;5;241m.\u001b[39mACC_RDWR, fapl\u001b[38;5;241m=\u001b[39mfapl)\n",
      "File \u001b[1;32mh5py\\_objects.pyx:54\u001b[0m, in \u001b[0;36mh5py._objects.with_phil.wrapper\u001b[1;34m()\u001b[0m\n",
      "File \u001b[1;32mh5py\\_objects.pyx:55\u001b[0m, in \u001b[0;36mh5py._objects.with_phil.wrapper\u001b[1;34m()\u001b[0m\n",
      "File \u001b[1;32mh5py\\h5f.pyx:106\u001b[0m, in \u001b[0;36mh5py.h5f.open\u001b[1;34m()\u001b[0m\n",
      "\u001b[1;31mFileNotFoundError\u001b[0m: [Errno 2] Unable to open file (unable to open file: name = '16kV-P-6.hp', errno = 2, error message = 'No such file or directory', flags = 0, o_flags = 0)"
     ]
    }
   ],
   "source": [
    "f = h5py.File(test_file, 'r')\n",
    "# We can 'see fields' of hdf5 file through: list(f.keys())"
   ]
  },
  {
   "cell_type": "code",
   "execution_count": 5,
   "metadata": {},
   "outputs": [],
   "source": [
    "# Get the set of diffraction patterns. diff_patts[i] gives the\n",
    "# diffraction pattern/image obtained from the ith pixel.\n",
    "dp_superset = np.array(f['diffraction/micrograph'])\n",
    "\n",
    "# Get the set of pixel coordinates. pixel_coord_set[i] gives the\n",
    "# xy coordinates of the ith pixel.\n",
    "pixel_coord_set = np.array(f['coords'])"
   ]
  },
  {
   "cell_type": "code",
   "execution_count": 6,
   "metadata": {},
   "outputs": [],
   "source": [
    "# For files with no iterations\n",
    "diff_patts = np.array(f['diffraction/micrograph'])\n",
    "pixel_coord_set = np.array(f['coords'])\n",
    "\n",
    "num_diff_patts = diff_patts.shape[0]\n",
    "diff_patt_dims = diff_patts.shape[1:]\n",
    "num_pixels = pixel_coord_set.shape[0]"
   ]
  },
  {
   "cell_type": "code",
   "execution_count": 419,
   "metadata": {},
   "outputs": [],
   "source": [
    "# With iterations\n",
    "iteration_idx = 0\n",
    "\n",
    "diff_patts = dp_superset[iteration_idx]\n",
    "\n",
    "num_diff_patts = diff_patts.shape[0]\n",
    "diff_patt_dims = diff_patts.shape[1:]\n",
    "num_pixels = pixel_coord_set.shape[0]"
   ]
  },
  {
   "cell_type": "code",
   "execution_count": 420,
   "metadata": {},
   "outputs": [
    {
     "data": {
      "text/plain": [
       "(25, 512, 512)"
      ]
     },
     "execution_count": 420,
     "metadata": {},
     "output_type": "execute_result"
    }
   ],
   "source": [
    "diff_patts.shape"
   ]
  },
  {
   "cell_type": "code",
   "execution_count": 421,
   "metadata": {},
   "outputs": [],
   "source": [
    "# Calculate \"scan shape\":\n",
    "scan_shape = css.calc_scan_shape(f)\n",
    "x_dim = scan_shape[0]\n",
    "y_dim = scan_shape[1]\n",
    "X_dim = diff_patts.shape[1]\n",
    "Y_dim = diff_patts.shape[2]\n",
    "ps_shape = (y_dim, x_dim, Y_dim, X_dim)"
   ]
  },
  {
   "cell_type": "code",
   "execution_count": 422,
   "metadata": {},
   "outputs": [
    {
     "data": {
      "text/plain": [
       "(5, 5, 512, 512)"
      ]
     },
     "execution_count": 422,
     "metadata": {},
     "output_type": "execute_result"
    }
   ],
   "source": [
    "ps_shape"
   ]
  },
  {
   "cell_type": "code",
   "execution_count": 424,
   "metadata": {},
   "outputs": [],
   "source": [
    "# Now we reshape diff_patts:\n",
    "reshaped_diff_patts = np.reshape(diff_patts, ps_shape, order='F')"
   ]
  },
  {
   "cell_type": "code",
   "execution_count": 441,
   "metadata": {},
   "outputs": [],
   "source": [
    "# Whole plot\n",
    "im = hs.signals.Signal2D(reshaped_diff_patts) \n",
    "im.plot(cmap='Reds', vmin=None, vmax=100, gamma=0.4)"
   ]
  },
  {
   "cell_type": "markdown",
   "metadata": {},
   "source": [
    "### Plotting an intractive profile plot"
   ]
  },
  {
   "cell_type": "code",
   "execution_count": 102,
   "metadata": {},
   "outputs": [],
   "source": [
    "dp = hs.signals.Signal2D(reshaped_diff_patts[0][0].astype(\"float\")) "
   ]
  },
  {
   "cell_type": "code",
   "execution_count": 103,
   "metadata": {},
   "outputs": [
    {
     "name": "stdout",
     "output_type": "stream",
     "text": [
      "\n",
      "Plotting estimated peaks in black.\n",
      "\n",
      "List of estimated peaks (in pixel coordinates):\n",
      "    estimated_peak_idx=0, estimated_peak=(232, 251)\n",
      "    estimated_peak_idx=1, estimated_peak=(278, 266)\n",
      "    estimated_peak_idx=2, estimated_peak=(190, 284)\n",
      "    estimated_peak_idx=3, estimated_peak=(236, 299)\n",
      "    estimated_peak_idx=4, estimated_peak=(283, 316)\n",
      "    estimated_peak_idx=5, estimated_peak=(194, 334)\n",
      "    estimated_peak_idx=6, estimated_peak=(241, 350)\n"
     ]
    }
   ],
   "source": [
    "# direct beam and 1st order peaks.\n",
    "# difference of Gaussians approach for peak finding\n",
    "\n",
    "threshold = 0.005\n",
    "\n",
    "\n",
    "\n",
    "kwargs = {\"method\": \"difference_of_gaussian\", \n",
    "          \"overlap\": 0, \n",
    "          \n",
    "          \"threshold\": threshold, \n",
    "          \"interactive\": False, \n",
    "          \"show_progressbar\": False}\n",
    "estimated_peaks = dp.find_peaks(**kwargs).data[0]\n",
    "\n",
    "\n",
    "\n",
    "dp.plot(gamma=0.3, cmap=\"RdPu\")\n",
    "\n",
    "print()\n",
    "print(\"Plotting estimated peaks in black.\")\n",
    "print()\n",
    "print(\"List of estimated peaks (in pixel coordinates):\")\n",
    "\n",
    "for idx, estimated_peak in enumerate(estimated_peaks):\n",
    "    row, col = estimated_peak\n",
    "    marker = hs.plot.markers.point(x=col, y=row, color='black')\n",
    "    dp.add_marker(marker, permanent=False)\n",
    "    \n",
    "    unformatted_msg = (\"    estimated_peak_idx={}, \"\n",
    "                       \"estimated_peak=({}, {})\")\n",
    "    msg = unformatted_msg.format(idx, row, col)\n",
    "    print(msg)"
   ]
  },
  {
   "cell_type": "code",
   "execution_count": 104,
   "metadata": {},
   "outputs": [
    {
     "name": "stdout",
     "output_type": "stream",
     "text": [
      "Plotting central peak in purple.\n",
      "Plotting satelite peaks in red.\n"
     ]
    }
   ],
   "source": [
    "# dropping peaks misleading \n",
    "# leave direct beam\n",
    "\n",
    "estimated_peaks_to_drop = []\n",
    "\n",
    "peaks = tuple(tuple(estimated_peak)\n",
    "              for estimated_peak_idx, estimated_peak\n",
    "              in enumerate(estimated_peaks)\n",
    "              if estimated_peak_idx not in estimated_peaks_to_drop)\n",
    "\n",
    "peak_intensities = []\n",
    "for peak in peaks:\n",
    "    row = int(np.round(peak[0]))\n",
    "    col = int(np.round(peak[1]))\n",
    "    \n",
    "    peak_intensity = dp.data[row, col]\n",
    "    peak_intensities.append(peak_intensity)\n",
    "\n",
    "peak_idx_of_to_central_peak = \\\n",
    "    np.argmax(peak_intensities)\n",
    "\n",
    "central_peak = tuple(peaks[peak_idx_of_to_central_peak])\n",
    "satelite_peaks = tuple(tuple(peak) \n",
    "                       for peak_idx, peak in enumerate(peaks) \n",
    "                       if peak_idx != peak_idx_of_to_central_peak)\n",
    "\n",
    "\n",
    "\n",
    "dp.plot(gamma=0.3, cmap=\"RdPu\")\n",
    "\n",
    "print(\"Plotting central peak in purple.\")\n",
    "print(\"Plotting satelite peaks in red.\")\n",
    "\n",
    "row, col = central_peak\n",
    "marker = hs.plot.markers.point(x=col, y=row, color='purple')\n",
    "dp.add_marker(marker, permanent=False)\n",
    "\n",
    "for idx, satelite_peak in enumerate(satelite_peaks):\n",
    "    row, col = satelite_peak\n",
    "    marker = hs.plot.markers.point(x=col, y=row, color='red')\n",
    "    dp.add_marker(marker, permanent=False)"
   ]
  },
  {
   "cell_type": "code",
   "execution_count": 105,
   "metadata": {},
   "outputs": [
    {
     "name": "stdout",
     "output_type": "stream",
     "text": [
      "Minimum distance in pixels between thecentral and satelite peaks: 48.16637831516918\n"
     ]
    }
   ],
   "source": [
    "# minimum distance between central peak and satelite\n",
    "distances = []\n",
    "for satelite_peak in satelite_peaks:\n",
    "    peak_1 = np.array(central_peak)\n",
    "    peak_2 = np.array(satelite_peak)\n",
    "    distances.append(np.linalg.norm(peak_1-peak_2))\n",
    "    \n",
    "min_distance_btwn_central_and_satelite_peaks = min(distances)\n",
    "min_distance_btwn_central_and_satelite_peaks\n",
    "\n",
    "val = min_distance_btwn_central_and_satelite_peaks\n",
    "unformatted_msg = (\"Minimum distance in pixels between the\"\n",
    "                   \"central and satelite peaks: {}\")\n",
    "msg = unformatted_msg.format(val)\n",
    "print(msg)"
   ]
  },
  {
   "cell_type": "code",
   "execution_count": 106,
   "metadata": {},
   "outputs": [
    {
     "name": "stdout",
     "output_type": "stream",
     "text": [
      "Plotting the azimuthally averaged intensity profile.\n"
     ]
    }
   ],
   "source": [
    "# radial range in pixels of the azimuthally averaged intensity profile to be calculated\n",
    "min_r = 5\n",
    "max_r = 37\n",
    "\n",
    "kwargs = {\"center\": (central_peak[1], central_peak[0]), \n",
    "          \"radial_range\": (min_r, max_r)}\n",
    "optional_params = empix.OptionalAzimuthalAveragingParams(**kwargs)\n",
    "\n",
    "intensity_profile = empix.azimuthally_average(dp, optional_params)\n",
    "\n",
    "print(\"Plotting the azimuthally averaged intensity profile.\")\n",
    "intensity_profile.plot()"
   ]
  },
  {
   "cell_type": "code",
   "execution_count": 107,
   "metadata": {},
   "outputs": [
    {
     "data": {
      "text/html": [
       "<h2> Model</h2> (Model(lorentzian) + Model(constant)) <h2>Fit Statistics</h2><table><tr><td>fitting method</td><td>leastsq</td><td></td></tr><tr><td># function evals</td><td>146</td><td></td></tr><tr><td># data points</td><td>512</td><td></td></tr><tr><td># variables</td><td>3</td><td></td></tr><tr><td>chi-square</td><td> 6.43558916</td><td></td></tr><tr><td>reduced chi-square</td><td> 0.01264359</td><td></td></tr><tr><td>Akaike info crit.</td><td>-2234.75839</td><td></td></tr><tr><td>Bayesian info crit.</td><td>-2222.04342</td><td></td></tr><tr><td>R-squared</td><td> 0.99073922</td><td></td></tr></table><h2>Variables</h2><table><tr><th> name </th><th> value </th><th> standard error </th><th> relative error </th><th> initial value </th><th> min </th><th> max </th><th> vary </th><th> expression </th></tr><tr><td> amplitude </td><td>  438.432661 </td><td>  64.8726015 </td><td> (14.80%) </td><td> 0.15367887914180756 </td><td>  0.15367888 </td><td>         inf </td><td> True </td><td>  </td></tr><tr><td> center </td><td>  0.00000000 </td><td>  0.00000000 </td><td>  </td><td> 0 </td><td>        -inf </td><td>         inf </td><td> False </td><td>  </td></tr><tr><td> sigma </td><td>  1.17664311 </td><td>  0.18836260 </td><td> (16.01%) </td><td> 64.0 </td><td>  0.00000000 </td><td>  128.000000 </td><td> True </td><td>  </td></tr><tr><td> c </td><td>  0.12437093 </td><td>  0.00791665 </td><td> (6.37%) </td><td> 0 </td><td>  0.00000000 </td><td>         inf </td><td> True </td><td>  </td></tr><tr><td> fwhm </td><td>  2.35328621 </td><td>  0.37672519 </td><td> (16.01%) </td><td> 128.0 </td><td>        -inf </td><td>         inf </td><td> False </td><td> 2.0000000*sigma </td></tr><tr><td> height </td><td>  118.606446 </td><td>  36.5328350 </td><td> (30.80%) </td><td> 0.0007643360726834507 </td><td>        -inf </td><td>         inf </td><td> False </td><td> 0.3183099*amplitude/max(1e-15, sigma) </td></tr></table><h2>Correlations (unreported correlations are < 0.100)</h2><table><tr><td>amplitude</td><td>sigma</td><td>-0.9996</td></tr><tr><td>sigma</td><td>c</td><td>-0.6201</td></tr><tr><td>amplitude</td><td>c</td><td>+0.6062</td></tr></table>"
      ],
      "text/plain": [
       "<lmfit.model.ModelResult at 0x7f0d9b3805e0>"
      ]
     },
     "execution_count": 107,
     "metadata": {},
     "output_type": "execute_result"
    }
   ],
   "source": [
    "# Fit the intensity profile to a Lorentzian\n",
    "I_min = float(np.amin(intensity_profile.data))\n",
    "# I_max = float(np.amax(dp.data))\n",
    "I_max = np.inf\n",
    "#I_max= 1300\n",
    "\n",
    "\n",
    "N = dp.data.shape[0]\n",
    "\n",
    "lorentzian_model = lmfit.models.LorentzianModel()\n",
    "constant_model = lmfit.models.ConstantModel()\n",
    "composite_model = lorentzian_model + constant_model\n",
    "\n",
    "composite_model.set_param_hint(\"center\", value=0, vary=False)\n",
    "composite_model.set_param_hint(\"amplitude\", min=I_min, max=I_max)\n",
    "composite_model.set_param_hint(\"sigma\", min=0, max=N/4)\n",
    "composite_model.set_param_hint(\"c\", min=0, max=I_max)\n",
    "\n",
    "kwargs = {\"amplitude\": I_min, \n",
    "          \"sigma\": N/8, \n",
    "          \"c\": 0}\n",
    "composite_model_params = composite_model.make_params(**kwargs)\n",
    "\n",
    "\n",
    "\n",
    "y = intensity_profile.data\n",
    "\n",
    "r_0 = intensity_profile.axes_manager[0].offset\n",
    "dr = intensity_profile.axes_manager[0].scale\n",
    "x = r_0 + dr*np.arange(intensity_profile.data.size)\n",
    "\n",
    "\n",
    "\n",
    "fit_result = composite_model.fit(y, \n",
    "                                 composite_model_params, \n",
    "                                 x=x)\n",
    "\n",
    "fig, ax = plt.subplots()\n",
    "\n",
    "ax.plot(x, y, label=\"data\")\n",
    "ax.plot(x, fit_result.best_fit, label=\"fit\")\n",
    "ax.legend()\n",
    "plt.plot()\n",
    "\n",
    "fit_result"
   ]
  },
  {
   "cell_type": "code",
   "execution_count": 108,
   "metadata": {},
   "outputs": [
    {
     "name": "stdout",
     "output_type": "stream",
     "text": [
      "Plotting the azimuthally averaged intensity profile without background removal.\n",
      "Plotting the azimuthally averaged intensity profile with background removal.\n"
     ]
    }
   ],
   "source": [
    "# Applying background removal in the vicinity of the direct beam\n",
    "kwargs = {\"center\": (central_peak[1], central_peak[0]), \n",
    "          \"radial_range\": (0, max_r)}\n",
    "optional_params = empix.OptionalAzimuthalAveragingParams(**kwargs)\n",
    "\n",
    "intensity_profile = empix.azimuthally_average(dp, optional_params)\n",
    "\n",
    "intensity_profile_with_background_removal = \\\n",
    "    copy.deepcopy(intensity_profile)\n",
    "\n",
    "\n",
    "r_0 = intensity_profile.axes_manager[0].offset\n",
    "dr = intensity_profile.axes_manager[0].scale\n",
    "r = r_0 + dr*np.arange(intensity_profile.data.size)\n",
    "\n",
    "intensity_profile_with_background_removal.data -= \\\n",
    "    composite_model.eval(fit_result.params, x=r)\n",
    "\n",
    "intensity_profile_with_background_removal.metadata.General.title = \\\n",
    "    \"Intensity profile with background removal\"\n",
    "intensity_profile.metadata.General.title = \\\n",
    "    \"Intensity profile without background removal\"\n",
    "\n",
    "print(\"Plotting the azimuthally averaged intensity profile \"\n",
    "      \"without background removal.\")\n",
    "print(\"Plotting the azimuthally averaged intensity profile \"\n",
    "      \"with background removal.\")\n",
    "intensity_profile_with_background_removal.plot()\n",
    "intensity_profile.plot()"
   ]
  },
  {
   "cell_type": "code",
   "execution_count": 109,
   "metadata": {},
   "outputs": [
    {
     "name": "stdout",
     "output_type": "stream",
     "text": [
      "integrated intensity of direct beam without background: 1020.2921426499245\n"
     ]
    }
   ],
   "source": [
    "# integrated intensity of main beam excluding background\n",
    "max_integration_radius = 5\n",
    "\n",
    "r_0 = intensity_profile.axes_manager[0].offset\n",
    "dr = intensity_profile.axes_manager[0].scale\n",
    "r = r_0 + dr*np.arange(intensity_profile.data.size)\n",
    "cut_off_idx = int(np.round((max_integration_radius-r_0)/dr))\n",
    "\n",
    "azimuthally_integrated_intensity_profile = \\\n",
    "    copy.deepcopy(intensity_profile_with_background_removal)\n",
    "\n",
    "for idx, _ in enumerate(r):\n",
    "    azimuthally_integrated_intensity_profile.data[idx] *= 2*np.pi*r[idx]\n",
    "    \n",
    "integrand = azimuthally_integrated_intensity_profile.data\n",
    "\n",
    "integrated_intensity_of_direct_beam_without_background = \\\n",
    "    np.sum(dr*integrand[0:cut_off_idx])\n",
    "\n",
    "val = integrated_intensity_of_direct_beam_without_background\n",
    "unformatted_msg = (\"integrated intensity of direct beam without \"\n",
    "                   \"background: {}\")\n",
    "msg = unformatted_msg.format(val)\n",
    "print(msg)"
   ]
  },
  {
   "cell_type": "markdown",
   "metadata": {},
   "source": [
    "\n",
    "\n",
    "## Getting the diff spots for averaging ##"
   ]
  },
  {
   "cell_type": "code",
   "execution_count": 110,
   "metadata": {},
   "outputs": [],
   "source": [
    "num_pixels_across_satelite_peak_window = 6\n",
    "\n",
    "num_pixels_across_direct_beam_window = 40\n",
    "num_satelite_peaks = 6\n",
    "\n",
    "#dp = hs.signals.Signal2D(reshaped_diff_patts[1][1])\n",
    "\n",
    "\n",
    "# function that generates masks\n",
    "def generate_sq_mask(signal, \n",
    "                     center_in_pixel_coords, \n",
    "                     num_pixels_across_mask_window):\n",
    "    \n",
    "    beg_row = (center_in_pixel_coords[0]\n",
    "               - ((num_pixels_across_mask_window-1) // 2))\n",
    "    end_row = beg_row + num_pixels_across_mask_window - 1\n",
    "    beg_col = (center_in_pixel_coords[1]\n",
    "               - ((num_pixels_across_mask_window-1) // 2))\n",
    "    end_col = beg_col + num_pixels_across_mask_window - 1\n",
    "    \n",
    "    mask_data = np.ones(signal.data.shape).astype(bool)\n",
    "    mask_data[beg_row:end_row+1, beg_col:end_col+1] = False\n",
    "    mask = hs.signals.Signal2D(mask_data)\n",
    "    \n",
    "    return mask\n",
    "\n",
    "\n",
    "\n",
    "# main beam mask\n",
    "row_idx_of_dp_max, col_idx_of_dp_max = \\\n",
    "    np.unravel_index(np.argmax(dp.data), dp.data.shape)\n",
    "kwargs = {\"signal\": dp, \n",
    "          \"center_in_pixel_coords\": (row_idx_of_dp_max, \n",
    "                                     col_idx_of_dp_max), \n",
    "          \"num_pixels_across_mask_window\": \\\n",
    "          num_pixels_across_direct_beam_window}\n",
    "direct_beam_mask = generate_sq_mask(**kwargs)\n",
    "\n",
    "\n",
    "\n",
    "# locations satelite peaks and generate satelite peak\n",
    "# masks\n",
    "masked_dp = dp * direct_beam_mask\n",
    "locations_of_satelite_peaks_in_pixel_coords = []\n",
    "satelite_peak_masks = []\n",
    "for _ in range(num_satelite_peaks):\n",
    "    row_idx_of_masked_dp_max, col_idx_of_masked_dp_max = \\\n",
    "        np.unravel_index(np.argmax(masked_dp.data), \n",
    "                         masked_dp.data.shape)\n",
    "    kwargs = {\"signal\": dp, \n",
    "              \"center_in_pixel_coords\": (row_idx_of_masked_dp_max, \n",
    "                                         col_idx_of_masked_dp_max), \n",
    "              \"num_pixels_across_mask_window\": \\\n",
    "              num_pixels_across_satelite_peak_window}\n",
    "    satelite_peak_mask = generate_sq_mask(**kwargs)\n",
    "    satelite_peak_masks.append(satelite_peak_mask)\n",
    "\n",
    "    masked_dp = masked_dp * satelite_peak_mask\n",
    "    \n",
    "    location = (row_idx_of_masked_dp_max, col_idx_of_masked_dp_max)\n",
    "    locations_of_satelite_peaks_in_pixel_coords.append(location)\n",
    "    \n",
    "locations_of_satelite_peaks_in_pixel_coords = \\\n",
    "    np.array(locations_of_satelite_peaks_in_pixel_coords)\n",
    "    \n",
    "    \n",
    "    \n",
    "# Estimate center of DP\n",
    "DP_center_in_pixel_coords = \\\n",
    "    (np.mean(locations_of_satelite_peaks_in_pixel_coords[:, 0]),\n",
    "     np.mean(locations_of_satelite_peaks_in_pixel_coords[:, 1]))\n",
    "\n",
    "\n",
    "\n",
    "# Generate quadrant masks\n",
    "N = dp.data.shape[0]\n",
    "center_of_quadrant_0_in_pixel_coords = ((N//2-1)//2+(N//2), \n",
    "                                        (N//2-1)//2)\n",
    "center_of_quadrant_1_in_pixel_coords = ((N//2-1)//2, \n",
    "                                        (N//2-1)//2)\n",
    "center_of_quadrant_2_in_pixel_coords = ((N//2-1)//2, \n",
    "                                        (N//2-1)//2+(N//2))\n",
    "center_of_quadrant_3_in_pixel_coords = ((N//2-1)//2+(N//2), \n",
    "                                        (N//2-1)//2+(N//2))\n",
    "centers_of_quadrants_in_pixel_coords = \\\n",
    "    (center_of_quadrant_0_in_pixel_coords, \n",
    "     center_of_quadrant_1_in_pixel_coords, \n",
    "     center_of_quadrant_2_in_pixel_coords, \n",
    "     center_of_quadrant_3_in_pixel_coords)\n",
    "\n",
    "quadrant_masks = []\n",
    "for quadrant_idx in range(4):\n",
    "    center_in_pixel_coords = \\\n",
    "        centers_of_quadrants_in_pixel_coords[quadrant_idx]\n",
    "\n",
    "    kwargs = {\"signal\": dp, \n",
    "              \"center_in_pixel_coords\": center_in_pixel_coords, \n",
    "              \"num_pixels_across_mask_window\": N//2}\n",
    "    quadrant_mask = generate_sq_mask(**kwargs)\n",
    "    quadrant_masks.append(quadrant_mask)\n",
    "    \n",
    "    \n",
    "    \n",
    "# Average distance of satelite peaks from direct beam\n",
    "relative_locations = \\\n",
    "    (locations_of_satelite_peaks_in_pixel_coords \n",
    "     - DP_center_in_pixel_coords)\n",
    "avg_distance_to_1st_order_peak_in_pixel_coords = \\\n",
    "    np.mean(np.linalg.norm(relative_locations, axis=1))\n",
    "\n",
    "\n",
    "\n",
    "# Generate background masks.\n",
    "background_masks = []\n",
    "for peak_idx in range(num_satelite_peaks):\n",
    "    peak_location = \\\n",
    "        locations_of_satelite_peaks_in_pixel_coords[peak_idx]\n",
    "    origin = \\\n",
    "        np.array(DP_center_in_pixel_coords)\n",
    "    \n",
    "    relative_peak_location = peak_location - origin\n",
    "    start_theta = np.arctan2(relative_peak_location[0], \n",
    "                             relative_peak_location[1])\n",
    "    R = avg_distance_to_1st_order_peak_in_pixel_coords\n",
    "    \n",
    "    quadrant_idx = int(np.floor((start_theta%(2*np.pi))/(np.pi/2)))\n",
    "    quadrant_mask = quadrant_masks[quadrant_idx]\n",
    "    \n",
    "    satelite_peak_mask = satelite_peak_masks[peak_idx]\n",
    "    \n",
    "    candidate_background_masks = []\n",
    "    overlaps = []\n",
    "    for sign in (1, -1):\n",
    "        for theta_idx in range(30):\n",
    "            theta = start_theta + theta_idx*180/np.pi\n",
    "            \n",
    "            center_in_pixel_coords = \\\n",
    "                (int(np.round(origin[0] + R*np.sin(theta))), \n",
    "                 int(np.round(origin[1] + R*np.cos(theta))))\n",
    "            \n",
    "            kwargs = {\"signal\": dp, \n",
    "                      \"center_in_pixel_coords\": \\\n",
    "                      center_in_pixel_coords, \n",
    "                      \"num_pixels_across_mask_window\": \\\n",
    "                      num_pixels_across_satelite_peak_window}\n",
    "            candidate_background_mask = generate_sq_mask(**kwargs)\n",
    "            \n",
    "            overlap_signal = \\\n",
    "                (~candidate_background_mask)*(~satelite_peak_mask)\n",
    "            \n",
    "            if np.sum(overlap_signal.data) == 0:\n",
    "                break\n",
    "                \n",
    "        overlap_signal = \\\n",
    "            (~candidate_background_mask)*(~quadrant_mask)\n",
    "        \n",
    "        candidate_background_masks.append(candidate_background_mask)\n",
    "        overlaps.append(np.sum(overlap_signal.data))\n",
    "        \n",
    "    idx = np.argmin(overlaps)\n",
    "    background_mask = candidate_background_masks[idx]\n",
    "    background_masks.append(background_mask)\n",
    "    \n",
    "    \n",
    "    \n",
    "# Estimate integrated satelite peak intensities with background\n",
    "# subtraction.\n",
    "integrated_satelite_peak_intensities_without_background = []\n",
    "for peak_idx in range(num_satelite_peaks):\n",
    "    satelite_peak_mask = satelite_peak_masks[peak_idx]\n",
    "    background_mask = background_masks[peak_idx]\n",
    "    \n",
    "    \n",
    "    integrated_satelite_peak_intensity_with_background = \\\n",
    "        np.sum((dp*(~satelite_peak_mask)).data)\n",
    "    integrated_background_intensity = \\\n",
    "        np.sum((dp*(~background_mask)).data)\n",
    "    integrated_satelite_peak_intensity_without_background = \\\n",
    "        (integrated_satelite_peak_intensity_with_background \n",
    "         - integrated_background_intensity)\n",
    "    integrated_satelite_peak_intensities_without_background += \\\n",
    "        [integrated_satelite_peak_intensity_without_background]\n",
    "    \n",
    "avg_integrated_satelite_peak_intensity_without_background = \\\n",
    "    np.mean(integrated_satelite_peak_intensities_without_background)\n",
    "    \n",
    "    \n",
    "# Key results from code cell:\n",
    "# - direct_beam_mask\n",
    "# - satelite_peak_masks\n",
    "# - locations_of_satelite_peaks_in_pixel_coords\n",
    "# - DP_center_in_pixel_coords\n",
    "# - quadrant_masks\n",
    "# - avg_distance_to_1st_order_peak_in_pixel_coords\n",
    "# - background_masks\n",
    "# - integrated_satelite_peak_intensities_without_background\n",
    "# - avg_integrated_satelite_peak_intensity_without_background"
   ]
  },
  {
   "cell_type": "code",
   "execution_count": 111,
   "metadata": {},
   "outputs": [],
   "source": [
    "(dp*(~satelite_peak_mask)).plot(cmap='RdPu')"
   ]
  },
  {
   "cell_type": "code",
   "execution_count": 112,
   "metadata": {},
   "outputs": [
    {
     "data": {
      "text/plain": [
       "[83.0, 88.0, 75.0, 62.0, 64.0, 60.0]"
      ]
     },
     "execution_count": 112,
     "metadata": {},
     "output_type": "execute_result"
    }
   ],
   "source": [
    "integrated_satelite_peak_intensities_without_background"
   ]
  },
  {
   "cell_type": "code",
   "execution_count": 113,
   "metadata": {},
   "outputs": [
    {
     "data": {
      "text/plain": [
       "72.0"
      ]
     },
     "execution_count": 113,
     "metadata": {},
     "output_type": "execute_result"
    }
   ],
   "source": [
    "avg_integrated_satelite_peak_intensity_without_background"
   ]
  },
  {
   "cell_type": "markdown",
   "metadata": {},
   "source": [
    "##### DP_center_in_pixel_coords"
   ]
  },
  {
   "cell_type": "code",
   "execution_count": 99,
   "metadata": {},
   "outputs": [],
   "source": [
    "dp.plot()"
   ]
  },
  {
   "cell_type": "code",
   "execution_count": 100,
   "metadata": {},
   "outputs": [],
   "source": [
    "masked_dp.plot(cmap='BuPu', vmin=0, vmax=1)"
   ]
  },
  {
   "cell_type": "code",
   "execution_count": 101,
   "metadata": {},
   "outputs": [
    {
     "data": {
      "text/plain": [
       "array([[189, 319],\n",
       "       [291, 209],\n",
       "       [272, 336],\n",
       "       [208, 192],\n",
       "       [323, 281],\n",
       "       [157, 247]])"
      ]
     },
     "execution_count": 101,
     "metadata": {},
     "output_type": "execute_result"
    }
   ],
   "source": [
    "locations_of_satelite_peaks_in_pixel_coords"
   ]
  },
  {
   "cell_type": "markdown",
   "metadata": {},
   "source": [
    "### Interactive"
   ]
  },
  {
   "cell_type": "code",
   "execution_count": null,
   "metadata": {},
   "outputs": [],
   "source": [
    "im = hs.signals.Signal2D(reshaped_diff_patts[0][0]) \n",
    "im.plot(cmap='Greys', vmin = 0, vmax=50)\n",
    "\n",
    "# Create the ROI\n",
    "line_profile = hs.roi.Line2DROI(0, 0, 50, 50)\n",
    "\n",
    "# Obtain the signals to plot by \"slicing\" the signals with the ROI\n",
    "line0 = line_profile.interactive(im)\n",
    "\n",
    "# Plotting the profile on the same figure\n",
    "hs.plot.plot_spectra([line0])"
   ]
  },
  {
   "cell_type": "markdown",
   "metadata": {},
   "source": [
    "### Plotting results "
   ]
  },
  {
   "cell_type": "code",
   "execution_count": 7,
   "metadata": {},
   "outputs": [],
   "source": [
    "# Read excel spreadsheet and save result to a pandas 'dataframe' object\n",
    "mpl.rcParams['text.usetex'] = True\n",
    "mpl.rcParams['font.family'] = 'sans-serif'\n",
    "plt.rc('text', usetex=True)\n",
    "#plt.rc('font', family='sans-serif')\n",
    "\n",
    "df = pd.read_excel(\"coordinates-May29.xlsx\") # Only modify this with the name of your excel sheet "
   ]
  },
  {
   "cell_type": "code",
   "execution_count": 8,
   "metadata": {},
   "outputs": [],
   "source": [
    "data=df.values "
   ]
  },
  {
   "cell_type": "markdown",
   "metadata": {},
   "source": [
    "## All kVs Paraffin May2 and May11"
   ]
  },
  {
   "cell_type": "code",
   "execution_count": 9,
   "metadata": {},
   "outputs": [],
   "source": [
    "dose_18kV = data[2:17, 1].astype(np.float64) \n",
    "Is_Io_18kV = data[2:17, 2].astype(np.float64) \n",
    "ln_18kV = data[2:17, 3].astype(np.float64) \n",
    "norm_ln_18kV = data[2:17, 4].astype(np.float64) "
   ]
  },
  {
   "cell_type": "code",
   "execution_count": 10,
   "metadata": {},
   "outputs": [],
   "source": [
    "dose_16kV = data[2:17, 5].astype(np.float64) \n",
    "Is_Io_16kV = data[2:17, 6].astype(np.float64) \n",
    "ln_16kV = data[2:17, 7].astype(np.float64) \n",
    "norm_ln_16kV = data[2:17, 8].astype(np.float64) "
   ]
  },
  {
   "cell_type": "code",
   "execution_count": 11,
   "metadata": {},
   "outputs": [],
   "source": [
    "dose_14kV = data[2:17, 9].astype(np.float64) \n",
    "Is_Io_14kV = data[2:17, 10].astype(np.float64) \n",
    "ln_14kV = data[2:17, 11].astype(np.float64) \n",
    "norm_ln_14kV = data[2:17, 12].astype(np.float64) "
   ]
  },
  {
   "cell_type": "code",
   "execution_count": 12,
   "metadata": {},
   "outputs": [],
   "source": [
    "dose_14kV_1 = data[24:48, 9].astype(np.float64) \n",
    "Is_Io_14kV_1 = data[24:48, 10].astype(np.float64) \n",
    "ln_14kV_1 = data[24:48, 11].astype(np.float64) \n",
    "norm_ln_14kV_1 = data[24:48, 12].astype(np.float64) "
   ]
  },
  {
   "cell_type": "code",
   "execution_count": 13,
   "metadata": {},
   "outputs": [],
   "source": [
    "dose_12kV = data[2:17, 13].astype(np.float64) \n",
    "Is_Io_12kV = data[2:17, 14].astype(np.float64) \n",
    "ln_12kV = data[2:17, 15].astype(np.float64) \n",
    "norm_ln_12kV = data[2:17, 16].astype(np.float64) "
   ]
  },
  {
   "cell_type": "code",
   "execution_count": 14,
   "metadata": {},
   "outputs": [],
   "source": [
    "dose_10kV = data[2:16, 17].astype(np.float64) \n",
    "Is_Io_10kV = data[2:16, 18].astype(np.float64) \n",
    "ln_10kV = data[2:16, 19].astype(np.float64) \n",
    "norm_ln_10kV = data[2:16, 20].astype(np.float64) "
   ]
  },
  {
   "cell_type": "code",
   "execution_count": 15,
   "metadata": {},
   "outputs": [],
   "source": [
    "dose_30kV = data[2:23, 21].astype(np.float64) \n",
    "Is_Io_30kV = data[2:23, 22].astype(np.float64) \n",
    "ln_30kV = data[2:23, 23].astype(np.float64) \n",
    "norm_ln_30kV = data[2:23, 24].astype(np.float64) "
   ]
  },
  {
   "cell_type": "code",
   "execution_count": 16,
   "metadata": {},
   "outputs": [],
   "source": [
    "dose_30kV_1 = data[35:76, 21].astype(np.float64) \n",
    "Is_Io_30kV_1 = data[35:76, 22].astype(np.float64) \n",
    "ln_30kV_1 = data[35:76, 23].astype(np.float64) \n",
    "norm_ln_30kV_1 = data[35:76, 24].astype(np.float64) "
   ]
  },
  {
   "cell_type": "code",
   "execution_count": 17,
   "metadata": {},
   "outputs": [],
   "source": [
    "dose_28kV = data[2:32, 25].astype(np.float64) \n",
    "Is_Io_28kV = data[2:32, 26].astype(np.float64) \n",
    "ln_28kV = data[2:32, 27].astype(np.float64) \n",
    "norm_ln_28kV = data[2:32, 28].astype(np.float64) "
   ]
  },
  {
   "cell_type": "code",
   "execution_count": 18,
   "metadata": {},
   "outputs": [],
   "source": [
    "dose_26kV = data[2:33, 29].astype(np.float64) \n",
    "Is_Io_26kV = data[2:33, 30].astype(np.float64) \n",
    "ln_26kV = data[2:33, 31].astype(np.float64) \n",
    "norm_ln_26kV = data[2:33, 32].astype(np.float64) "
   ]
  },
  {
   "cell_type": "code",
   "execution_count": 19,
   "metadata": {},
   "outputs": [],
   "source": [
    "dose_24kV = data[2:24, 33].astype(np.float64) \n",
    "Is_Io_24kV = data[2:24, 34].astype(np.float64) \n",
    "ln_24kV = data[2:24, 35].astype(np.float64) \n",
    "norm_ln_24kV = data[2:24, 36].astype(np.float64)"
   ]
  },
  {
   "cell_type": "code",
   "execution_count": 20,
   "metadata": {},
   "outputs": [],
   "source": [
    "dose_22kV = data[2:30, 37].astype(np.float64) \n",
    "Is_Io_22kV = data[2:30, 38].astype(np.float64) \n",
    "ln_22kV = data[2:30, 39].astype(np.float64) \n",
    "norm_ln_22kV = data[2:30, 40].astype(np.float64)"
   ]
  },
  {
   "cell_type": "code",
   "execution_count": 21,
   "metadata": {},
   "outputs": [],
   "source": [
    "dose_20kV = data[2:17, 41].astype(np.float64) \n",
    "Is_Io_20kV = data[2:17, 42].astype(np.float64) \n",
    "ln_20kV = data[2:17, 43].astype(np.float64) \n",
    "norm_ln_20kV = data[2:17, 44].astype(np.float64)"
   ]
  },
  {
   "cell_type": "markdown",
   "metadata": {},
   "source": [
    "10, 12, 14, 16, 18, 20, 22, 24, 26, 28, 30 bullets no fit "
   ]
  },
  {
   "cell_type": "code",
   "execution_count": 80,
   "metadata": {},
   "outputs": [],
   "source": [
    "fig = plt.figure(figsize=(4,8)) \n",
    "ax = fig.add_subplot(1, 1, 1)\n",
    "ms=2\n",
    "\n",
    "y18 = ln_18kV\n",
    "x18 = dose_18kV\n",
    "y16 = ln_16kV\n",
    "x16 = dose_16kV\n",
    "y14 = ln_14kV\n",
    "x14 = dose_14kV\n",
    "y12 = ln_12kV\n",
    "x12 = dose_12kV\n",
    "y10 = ln_10kV\n",
    "x10 = dose_10kV\n",
    "\n",
    "y30 = ln_30kV\n",
    "x30 = dose_30kV\n",
    "y28 = ln_28kV\n",
    "x28 = dose_28kV\n",
    "y26 = ln_26kV\n",
    "x26 = dose_26kV\n",
    "y24 = ln_24kV\n",
    "x24 = dose_24kV\n",
    "y22 = ln_22kV\n",
    "x22 = dose_22kV\n",
    "y20 = ln_20kV\n",
    "x20 = dose_20kV\n",
    "\n",
    "ax.plot(x18, y18, 'o', color='m',markersize=5, label='18 kV')\n",
    "ax.plot(x16, y16, 'v', color='b',markersize=5, label='16 kV')\n",
    "ax.plot(x14, y14, '^', color='c',markersize=5, label='14 kV')\n",
    "ax.plot(x12, y12, 's', color='pink',markersize=5, label='12 kV')\n",
    "ax.plot(x10, y10, 'p', color='k',markersize=5, label='10 kV')\n",
    "\n",
    "ax.plot(x30, y30, 'X', color='r',markersize=5, label='30 kV')\n",
    "ax.plot(x28, y28, '*', color='royalblue',markersize=5, label='28 kV')\n",
    "ax.plot(x26, y26, 'D', color='indianred',markersize=5, label='26 kV')\n",
    "ax.plot(x24, y24, 'd', color='forestgreen',markersize=5, label='24 kV')\n",
    "ax.plot(x22, y22, '8', color='mediumpurple',markersize=5, label='22 kV')\n",
    "ax.plot(x20, y20, '2', color='orange',markersize=5, label='20 kV')\n",
    "\n",
    "#ax.grid(color='b', linestyle='-', linewidth=0.5)\n",
    "#ax.fill_between(length.astype(np.float64), voltage_non.astype(np.float64), facecolor='blue', alpha=0.1)\n",
    "ax.get_yaxis().set_tick_params(which='both', direction='out',labelsize=13)\n",
    "ax.get_xaxis().set_tick_params(which='both', direction='out', labelsize=13)\n",
    "xmajorLocator = MultipleLocator(0.5)\n",
    "xmajorFormatter = FormatStrFormatter('%0.1f')#format the tick lables \n",
    "xminorLocator = MultipleLocator(0.1)\n",
    "ymajorLocator = MultipleLocator(1)\n",
    "ymajorFormatter = FormatStrFormatter('%g')\n",
    "yminorLocator = MultipleLocator(0.5)\n",
    "ax.xaxis.set_major_locator(xmajorLocator)\n",
    "ax.xaxis.set_major_formatter(xmajorFormatter)\n",
    "ax.xaxis.set_minor_locator(xminorLocator)\n",
    "##############\n",
    "ax.yaxis.set_major_locator(ymajorLocator)\n",
    "ax.yaxis.set_major_formatter(ymajorFormatter)\n",
    "#for the minor ticks, use no labels; default NullFormatter\n",
    "ax.yaxis.set_minor_locator(yminorLocator)\n",
    "plt.draw()\n",
    "plt.xlabel(r'Fluence (e$^-/\\mathring{A}^2$)', fontsize=16)#19\n",
    "plt.ylabel('Ln($I/I_0$)', fontsize=16)\n",
    "#plt.title('12 kV', fontsize=19)\n",
    "ax.axis([0 ,4, -5, -1])\n",
    "plt.legend(frameon=False)\n",
    "#ax.fill_between(position, Au_LA, x1=0,where=None, step=None, facecolor='green')\n",
    "plt.tight_layout()\n",
    "plt.show()"
   ]
  },
  {
   "cell_type": "markdown",
   "metadata": {},
   "source": [
    "10, 14, 18, 22, 26, 30 bullets no fit "
   ]
  },
  {
   "cell_type": "code",
   "execution_count": 23,
   "metadata": {},
   "outputs": [],
   "source": [
    "fig = plt.figure(figsize=(4,8)) \n",
    "ax = fig.add_subplot(1, 1, 1)\n",
    "ms=2\n",
    "\n",
    "y = ln_18kV\n",
    "x = dose_18kV\n",
    "\n",
    "y2 = ln_14kV\n",
    "x2 = dose_14kV\n",
    "\n",
    "y4 = ln_10kV\n",
    "x4 = dose_10kV\n",
    "\n",
    "y5 = ln_30kV\n",
    "x5 = dose_30kV\n",
    "\n",
    "y7 = ln_26kV\n",
    "x7 = dose_26kV\n",
    "\n",
    "y9 = ln_22kV\n",
    "x9 = dose_22kV\n",
    "\n",
    "\n",
    "\n",
    "ax.plot(x, y, 'o', color='m',markersize=5, label='18 kV')\n",
    "ax.plot(x2, y2, '^', color='c',markersize=5, label='14 kV')\n",
    "ax.plot(x4, y4, 'p', color='k',markersize=5, label='10 kV')\n",
    "\n",
    "ax.plot(x5, y5, 'X', color='r',markersize=5, label='30 kV')\n",
    "\n",
    "ax.plot(x7, y7, 'D', color='indianred',markersize=5, label='26 kV')\n",
    "\n",
    "ax.plot(x9, y9, '8', color='mediumpurple',markersize=5, label='22 kV')\n",
    "\n",
    "\n",
    "#ax.grid(color='b', linestyle='-', linewidth=0.5)\n",
    "#ax.fill_between(length.astype(np.float64), voltage_non.astype(np.float64), facecolor='blue', alpha=0.1)\n",
    "ax.get_yaxis().set_tick_params(which='both', direction='out',labelsize=13)\n",
    "ax.get_xaxis().set_tick_params(which='both', direction='out', labelsize=13)\n",
    "xmajorLocator = MultipleLocator(0.5)\n",
    "xmajorFormatter = FormatStrFormatter('%0.1f')#format the tick lables \n",
    "xminorLocator = MultipleLocator(0.1)\n",
    "ymajorLocator = MultipleLocator(1)\n",
    "ymajorFormatter = FormatStrFormatter('%g')\n",
    "yminorLocator = MultipleLocator(0.5)\n",
    "ax.xaxis.set_major_locator(xmajorLocator)\n",
    "ax.xaxis.set_major_formatter(xmajorFormatter)\n",
    "ax.xaxis.set_minor_locator(xminorLocator)\n",
    "##############\n",
    "ax.yaxis.set_major_locator(ymajorLocator)\n",
    "ax.yaxis.set_major_formatter(ymajorFormatter)\n",
    "#for the minor ticks, use no labels; default NullFormatter\n",
    "ax.yaxis.set_minor_locator(yminorLocator)\n",
    "plt.draw()\n",
    "plt.xlabel(r'Fluence (e$^-/\\mathring{A}^2$)', fontsize=16)#19\n",
    "plt.ylabel('Ln($I/I_0$)', fontsize=16)\n",
    "#plt.title('12 kV', fontsize=19)\n",
    "ax.axis([0 ,4, -5, -1])\n",
    "plt.legend(frameon=False)\n",
    "#ax.fill_between(position, Au_LA, x1=0,where=None, step=None, facecolor='green')\n",
    "plt.tight_layout()\n",
    "plt.show()"
   ]
  },
  {
   "cell_type": "markdown",
   "metadata": {},
   "source": [
    "#### Example for IMC20 poster"
   ]
  },
  {
   "cell_type": "code",
   "execution_count": 115,
   "metadata": {},
   "outputs": [
    {
     "name": "stderr",
     "output_type": "stream",
     "text": [
      "WARNING:matplotlib.legend:No artists with labels found to put in legend.  Note that artists whose label start with an underscore are ignored when legend() is called with no argument.\n"
     ]
    }
   ],
   "source": [
    "fig = plt.figure(figsize=(6,4)) \n",
    "ax = fig.add_subplot(1, 1, 1)\n",
    "ms=2\n",
    "\n",
    "y18 = ln_18kV\n",
    "x18 = dose_18kV\n",
    "y16 = ln_16kV\n",
    "x16 = dose_16kV\n",
    "#y14 = ln_14kV\n",
    "#x14 = dose_14kV\n",
    "y12 = ln_12kV\n",
    "x12 = dose_12kV\n",
    "#y10 = ln_10kV\n",
    "#x10 = dose_10kV\n",
    "\n",
    "#y30 = ln_30kV\n",
    "#x30 = dose_30kV\n",
    "#y28 = ln_28kV\n",
    "#x28 = dose_28kV\n",
    "#y26 = ln_26kV\n",
    "#x26 = dose_26kV\n",
    "#y24 = ln_24kV\n",
    "#x24 = dose_24kV\n",
    "y22 = ln_22kV\n",
    "x22 = dose_22kV\n",
    "y20 = ln_20kV\n",
    "x20 = dose_20kV\n",
    "\n",
    "#ax.plot(x18, y18, 'o', color='m',markersize=5, label='18 kV')\n",
    "ax.plot(x16, y16, 'v', color='b',markersize=5) #, label='16 kV')\n",
    "#ax.plot(x14, y14, '^', color='c',markersize=5, label='14 kV')\n",
    "#ax.plot(x12, y12, 's', color='pink',markersize=5, label='12 kV')\n",
    "#ax.plot(x10, y10, 'p', color='k',markersize=5, label='10 kV')\n",
    "\n",
    "#ax.plot(x30, y30, 'X', color='r',markersize=5, label='30 kV')\n",
    "#ax.plot(x28, y28, '*', color='royalblue',markersize=5, label='28 kV')\n",
    "#ax.plot(x26, y26, 'D', color='indianred',markersize=5, label='26 kV')\n",
    "#ax.plot(x24, y24, 'd', color='forestgreen',markersize=5, label='24 kV')\n",
    "#ax.plot(x22, y22, '8', color='mediumpurple',markersize=5, label='22 kV')\n",
    "#ax.plot(x20, y20, '2', color='orange',markersize=5, label='20 kV')\n",
    "\n",
    "#ax.grid(color='b', linestyle='-', linewidth=0.5)\n",
    "#ax.fill_between(length.astype(np.float64), voltage_non.astype(np.float64), facecolor='blue', alpha=0.1)\n",
    "ax.get_yaxis().set_tick_params(which='both', direction='out',labelsize=16)\n",
    "ax.get_xaxis().set_tick_params(which='both', direction='out', labelsize=16)\n",
    "xmajorLocator = MultipleLocator(0.25)\n",
    "xmajorFormatter = FormatStrFormatter('%0.1f')#format the tick lables \n",
    "xminorLocator = MultipleLocator(0.1)\n",
    "ymajorLocator = MultipleLocator(1)\n",
    "ymajorFormatter = FormatStrFormatter('%g')\n",
    "yminorLocator = MultipleLocator(0.5)\n",
    "ax.xaxis.set_major_locator(xmajorLocator)\n",
    "ax.xaxis.set_major_formatter(xmajorFormatter)\n",
    "ax.xaxis.set_minor_locator(xminorLocator)\n",
    "##############\n",
    "ax.yaxis.set_major_locator(ymajorLocator)\n",
    "ax.yaxis.set_major_formatter(ymajorFormatter)\n",
    "#for the minor ticks, use no labels; default NullFormatter\n",
    "ax.yaxis.set_minor_locator(yminorLocator)\n",
    "plt.draw()\n",
    "plt.xlabel(r'Fluence (e$^-/\\mathring{A}^2$)', fontsize=19)#19\n",
    "plt.ylabel('Ln($I_S/I_0$)', fontsize=19)\n",
    "plt.title('16 kV', fontsize=19)\n",
    "ax.axis([0 ,1.8, -4.2, -1])\n",
    "plt.legend(frameon=False)\n",
    "#ax.fill_between(position, Au_LA, x1=0,where=None, step=None, facecolor='green')\n",
    "plt.tight_layout()\n",
    "plt.show()"
   ]
  },
  {
   "cell_type": "markdown",
   "metadata": {},
   "source": [
    "## Various one by one "
   ]
  },
  {
   "cell_type": "code",
   "execution_count": 41,
   "metadata": {},
   "outputs": [],
   "source": [
    "fig = plt.figure(figsize=(4,8)) \n",
    "ax = fig.add_subplot(1, 1, 1)\n",
    "ms=2\n",
    "\n",
    "y14 = ln_14kV\n",
    "x14 = dose_14kV\n",
    "\n",
    "y14_1 = ln_14kV_1\n",
    "x14_1 = dose_14kV_1\n",
    "\n",
    "ax.plot(x14, y14, 'o', color='m',markersize=5, label='14 kV')\n",
    "ax.plot(x14_1, y14_1, 'o', color='b',markersize=5, label='14_1 kV')\n",
    "\n",
    "#ax.grid(color='b', linestyle='-', linewidth=0.5)\n",
    "#ax.fill_between(length.astype(np.float64), voltage_non.astype(np.float64), facecolor='blue', alpha=0.1)\n",
    "ax.get_yaxis().set_tick_params(which='both', direction='out',labelsize=13)\n",
    "ax.get_xaxis().set_tick_params(which='both', direction='out', labelsize=13)\n",
    "xmajorLocator = MultipleLocator(0.5)\n",
    "xmajorFormatter = FormatStrFormatter('%0.1f')#format the tick lables \n",
    "xminorLocator = MultipleLocator(0.1)\n",
    "ymajorLocator = MultipleLocator(1)\n",
    "ymajorFormatter = FormatStrFormatter('%g')\n",
    "yminorLocator = MultipleLocator(0.5)\n",
    "ax.xaxis.set_major_locator(xmajorLocator)\n",
    "ax.xaxis.set_major_formatter(xmajorFormatter)\n",
    "ax.xaxis.set_minor_locator(xminorLocator)\n",
    "##############\n",
    "ax.yaxis.set_major_locator(ymajorLocator)\n",
    "ax.yaxis.set_major_formatter(ymajorFormatter)\n",
    "#for the minor ticks, use no labels; default NullFormatter\n",
    "ax.yaxis.set_minor_locator(yminorLocator)\n",
    "plt.draw()\n",
    "plt.xlabel(r'Fluence (e$^-/\\mathring{A}^2$)', fontsize=16)#19\n",
    "plt.ylabel('Ln($I/I_0$)', fontsize=16)\n",
    "#plt.title('12 kV', fontsize=19)\n",
    "ax.axis([0 ,2.5, -5, -0.7])\n",
    "plt.legend(frameon=False)\n",
    "#ax.fill_between(position, Au_LA, x1=0,where=None, step=None, facecolor='green')\n",
    "plt.tight_layout()\n",
    "plt.show()"
   ]
  },
  {
   "cell_type": "code",
   "execution_count": 87,
   "metadata": {},
   "outputs": [],
   "source": [
    "fig = plt.figure(figsize=(4,8)) \n",
    "ax = fig.add_subplot(1, 1, 1)\n",
    "ms=2\n",
    "\n",
    "y30 = ln_30kV\n",
    "x30 = dose_30kV\n",
    "\n",
    "y30_1 = ln_30kV_1\n",
    "x30_1 = dose_30kV_1\n",
    "\n",
    "ax.plot(x30, y30, 'o', color='m',markersize=5, label='30 kV')\n",
    "ax.plot(x30_1, y30_1, 'o', color='b',markersize=5, label='30_1 kV')\n",
    "\n",
    "#ax.grid(color='b', linestyle='-', linewidth=0.5)\n",
    "#ax.fill_between(length.astype(np.float64), voltage_non.astype(np.float64), facecolor='blue', alpha=0.1)\n",
    "ax.get_yaxis().set_tick_params(which='both', direction='out',labelsize=13)\n",
    "ax.get_xaxis().set_tick_params(which='both', direction='out', labelsize=13)\n",
    "xmajorLocator = MultipleLocator(0.5)\n",
    "xmajorFormatter = FormatStrFormatter('%0.1f')#format the tick lables \n",
    "xminorLocator = MultipleLocator(0.1)\n",
    "ymajorLocator = MultipleLocator(1)\n",
    "ymajorFormatter = FormatStrFormatter('%g')\n",
    "yminorLocator = MultipleLocator(0.5)\n",
    "ax.xaxis.set_major_locator(xmajorLocator)\n",
    "ax.xaxis.set_major_formatter(xmajorFormatter)\n",
    "ax.xaxis.set_minor_locator(xminorLocator)\n",
    "##############\n",
    "ax.yaxis.set_major_locator(ymajorLocator)\n",
    "ax.yaxis.set_major_formatter(ymajorFormatter)\n",
    "#for the minor ticks, use no labels; default NullFormatter\n",
    "ax.yaxis.set_minor_locator(yminorLocator)\n",
    "plt.draw()\n",
    "plt.xlabel(r'Fluence (e$^-/\\mathring{A}^2$)', fontsize=16)#19\n",
    "plt.ylabel('Ln($I/I_0$)', fontsize=16)\n",
    "#plt.title('12 kV', fontsize=19)\n",
    "ax.axis([0 ,2.5, -5, -0.7])\n",
    "plt.legend(frameon=False)\n",
    "#ax.fill_between(position, Au_LA, x1=0,where=None, step=None, facecolor='green')\n",
    "plt.tight_layout()\n",
    "plt.show()"
   ]
  },
  {
   "cell_type": "markdown",
   "metadata": {},
   "source": [
    "### Exponential fit"
   ]
  },
  {
   "cell_type": "code",
   "execution_count": 124,
   "metadata": {},
   "outputs": [],
   "source": [
    "fig = plt.figure(figsize=(4,4), dpi=200) \n",
    "ax = fig.add_subplot(1, 1, 1)\n",
    "ms=2\n",
    "\n",
    "def decay(H, t, N, tau):\n",
    "    return H+N*np.exp(-t/tau)\n",
    "\n",
    "#data30 = norm_ln_30kV\n",
    "#x30 = dose_30kV\n",
    "#model = Model(decay, independent_vars=['t'])\n",
    "#result = model.fit(data30, t=x30, H=-2, N=1.75, tau=0.3)\n",
    "#ax.plot(x30, data30, 'o', color='cyan',markersize=ms, label='30 kV')\n",
    "#ax.plot(x30, result.best_fit, '-', color='deepskyblue')#, label='fit')\n",
    "\n",
    "data30_1 = norm_ln_30kV_1\n",
    "x30_1 = dose_30kV_1\n",
    "model = Model(decay, independent_vars=['t'])\n",
    "result = model.fit(data30_1, t=x30_1, H=-2, N=1.75, tau=0.3)\n",
    "ax.plot(x30_1, data30_1, 'o', color='indianred',markersize=ms, label='30 kV')\n",
    "ax.plot(x30_1, result.best_fit, '-', color='firebrick')#, label='fit')\n",
    "\n",
    "#data28 = norm_ln_28kV\n",
    "#x28 = dose_28kV\n",
    "#model = Model(decay, independent_vars=['t'])\n",
    "#result = model.fit(data28, t=x28, H=-2, N=1.75, tau=0.3)\n",
    "#ax.plot(x28, data28, 'o', color='indianred',markersize=ms, label='28 kV')\n",
    "#ax.plot(x28, result.best_fit, '-', color='firebrick', label='decay fit')\n",
    "\n",
    "data26 = norm_ln_26kV\n",
    "x26 = dose_26kV\n",
    "model = Model(decay, independent_vars=['t'])\n",
    "result = model.fit(data26, t=x26, H=-2, N=1.75, tau=0.3)\n",
    "ax.plot(x26, data26, '*', color='limegreen',markersize=ms, label='26 kV')\n",
    "ax.plot(x26, result.best_fit, '-', color='forestgreen')#, label='power law fit')\n",
    "\n",
    "#data24 = norm_ln_24kV\n",
    "#x24 = dose_24kV\n",
    "#model = Model(power_law, independent_vars=['x'])\n",
    "#result = model.fit(data24, x=x24, A=0.1, k=-1, N=-4.5)\n",
    "#ax.plot(x24, data24, 'o', color='orange',markersize=ms, label='24 kV')\n",
    "#ax.plot(x24, result.best_fit, '-', color='darkorange', label='power law fit')\n",
    "\n",
    "data22 = norm_ln_22kV\n",
    "x22 = dose_22kV\n",
    "model = Model(decay, independent_vars=['t'])\n",
    "result = model.fit(data22, t=x22, H=-2, N=1.75, tau=0.3)\n",
    "ax.plot(x22, data22, 's', color='darkorchid',markersize=ms, label='22 kV')\n",
    "ax.plot(x22, result.best_fit, '-', color='darkviolet')#, label='power law fit')\n",
    "\n",
    "#data20 = norm_ln_20kV\n",
    "#x20 = dose_20kV\n",
    "#model = Model(power_law, independent_vars=['x'])\n",
    "#result = model.fit(data20, x=x20, A=0.1, k=-1, N=-4.5)\n",
    "#ax.plot(x20, data20, 'o', color='cornflowerblue',markersize=ms, label='20 kV')\n",
    "#ax.plot(x20, result.best_fit, '-', color='royalblue', label='power law fit')\n",
    "\n",
    "data18 = norm_ln_18kV\n",
    "x18 = dose_18kV\n",
    "model = Model(decay, independent_vars=['t'])\n",
    "result = model.fit(data18, t=x18, H=-2, N=1.75, tau=0.3)\n",
    "ax.plot(x18, data18, '^', color='royalblue',markersize=ms, label='18 kV')\n",
    "ax.plot(x18, result.best_fit, '-', color='b')#, label='power law fit')\n",
    "\n",
    "#data16 = norm_ln_16kV\n",
    "#x16 = dose_16kV\n",
    "#model = Model(power_law, independent_vars=['x'])\n",
    "#result = model.fit(data16, x=x16, A=0.1, k=-1, N=-4.5)\n",
    "#ax.plot(x16, data16, 'o', color='darkkhaki',markersize=ms, label='16 kV')\n",
    "#ax.plot(x16, result.best_fit, '-', color='olive', label='power law fit')\n",
    "\n",
    "\n",
    "#data14 = norm_ln_14kV\n",
    "#x14 = dose_14kV\n",
    "#model = Model(decay, independent_vars=['t'])\n",
    "#result = model.fit(data14, t=x14, H=-2, N=1.75, tau=0.3)\n",
    "#ax.plot(x14, data14, 'o', color='palevioletred',markersize=ms, label='14 kV')\n",
    "#ax.plot(x14, result.best_fit, '-', color='hotpink', label='power law fit')\n",
    "\n",
    "#data14_1 = norm_ln_14kV_1\n",
    "#x14_1 = dose_14kV_1\n",
    "#model = Model(decay, independent_vars=['t'])\n",
    "#result = model.fit(data14_1, t=x14_1, H=-2, N=1.75, tau=0.3)\n",
    "#ax.plot(x14_1, data14_1, 'o', color='lightsteelblue',markersize=ms, label='14 kV_1')\n",
    "#ax.plot(x14_1, result.best_fit, '-', color='slategrey')#, label='power law fit')\n",
    "\n",
    "\n",
    "data12 = norm_ln_12kV\n",
    "x12 = dose_12kV\n",
    "model = Model(decay, independent_vars=['t'])\n",
    "result = model.fit(data12, t=x12, H=-2, N=1.75, tau=0.3)\n",
    "ax.plot(x12, data12, '8', color='black',markersize=ms, label='12 kV')\n",
    "ax.plot(x12, result.best_fit, '-', color='black')#, label='power law fit')\n",
    "\n",
    "data10 = norm_ln_10kV\n",
    "x10 = dose_10kV\n",
    "model = Model(decay, independent_vars=['t'])\n",
    "result = model.fit(data10, t=x10, H=-2, N=1.75, tau=0.3)\n",
    "ax.plot(x10, data10, 'v', color='goldenrod',markersize=ms, label='10 kV')\n",
    "ax.plot(x10, result.best_fit, '-', color='darkgoldenrod')#, label='power law fit')\n",
    "\n",
    "\n",
    "#ax.grid(color='b', linestyle='-', linewidth=0.5)\n",
    "#ax.fill_between(length.astype(np.float64), voltage_non.astype(np.float64), facecolor='blue', alpha=0.1)\n",
    "ax.get_yaxis().set_tick_params(which='both', direction='out',labelsize=11)\n",
    "ax.get_xaxis().set_tick_params(which='both', direction='out', labelsize=11)\n",
    "xmajorLocator = MultipleLocator(0.5)\n",
    "xmajorFormatter = FormatStrFormatter('%0.1f')#format the tick lables \n",
    "xminorLocator = MultipleLocator(0.1)\n",
    "ymajorLocator = MultipleLocator(1)\n",
    "ymajorFormatter = FormatStrFormatter('%g')\n",
    "yminorLocator = MultipleLocator(0.5)\n",
    "ax.xaxis.set_major_locator(xmajorLocator)\n",
    "ax.xaxis.set_major_formatter(xmajorFormatter)\n",
    "ax.xaxis.set_minor_locator(xminorLocator)\n",
    "##############\n",
    "ax.yaxis.set_major_locator(ymajorLocator)\n",
    "ax.yaxis.set_major_formatter(ymajorFormatter)\n",
    "#for the minor ticks, use no labels; default NullFormatter\n",
    "ax.yaxis.set_minor_locator(yminorLocator)\n",
    "plt.draw()\n",
    "plt.xlabel(r'Fluence (e$^-/\\mathring{A}^2$)', fontsize=13)#19\n",
    "plt.ylabel('Ln($I_S/I_0$)', fontsize=11)\n",
    "#plt.title('12 kV', fontsize=19)\n",
    "ax.axis([0 ,3.5, -2.3, -0.99])\n",
    "plt.legend(frameon=False)\n",
    "#ax.fill_between(position, Au_LA, x1=0,where=None, step=None, facecolor='green')\n",
    "plt.tight_layout()\n",
    "plt.show()"
   ]
  },
  {
   "cell_type": "code",
   "execution_count": 44,
   "metadata": {},
   "outputs": [
    {
     "name": "stdout",
     "output_type": "stream",
     "text": [
      "[[Model]]\n",
      "    Model(decay)\n",
      "[[Fit Statistics]]\n",
      "    # fitting method   = leastsq\n",
      "    # function evals   = 34\n",
      "    # data points      = 14\n",
      "    # variables        = 3\n",
      "    chi-square         = 0.03947713\n",
      "    reduced chi-square = 0.00358883\n",
      "    Akaike info crit   = -76.1952744\n",
      "    Bayesian info crit = -74.2781024\n",
      "    R-squared          = 0.97895754\n",
      "[[Variables]]\n",
      "    H:   -2.16964274 +/- 0.04494594 (2.07%) (init = -2)\n",
      "    N:    1.66510712 +/- 0.09868349 (5.93%) (init = 1.75)\n",
      "    tau:  0.12614402 +/- 0.01702962 (13.50%) (init = 0.3)\n",
      "[[Correlations]] (unreported correlations are < 0.100)\n",
      "    C(H, tau) = -0.8569\n",
      "    C(N, tau) = -0.6661\n",
      "    C(H, N)   = +0.2928\n"
     ]
    }
   ],
   "source": [
    "print(result.fit_report())"
   ]
  },
  {
   "cell_type": "markdown",
   "metadata": {},
   "source": [
    "### Tau vs kV, last update: June 9th 2023"
   ]
  },
  {
   "cell_type": "code",
   "execution_count": 74,
   "metadata": {},
   "outputs": [],
   "source": [
    "# data used for the abstract previous to June 9th, I shiftted the data down\n",
    "# to fit more rows for 14 kV\n",
    "\n",
    "# kv = data[53:63, 9].astype(np.float64)  \n",
    "# tau = data[53:63, 10].astype(np.float64)\n",
    "\n",
    "# data used for after update on June 9th\n",
    "kv = data[190:201, 12].astype(np.float64)  \n",
    "tau = data[190:201, 14].astype(np.float64)"
   ]
  },
  {
   "cell_type": "code",
   "execution_count": 76,
   "metadata": {},
   "outputs": [
    {
     "data": {
      "text/plain": [
       "array([0.16, 0.2 , 0.58, 0.33, 0.35, 0.36, 0.39, 0.35, 0.43, 0.55, 0.58])"
      ]
     },
     "execution_count": 76,
     "metadata": {},
     "output_type": "execute_result"
    }
   ],
   "source": [
    "tau"
   ]
  },
  {
   "cell_type": "code",
   "execution_count": 118,
   "metadata": {},
   "outputs": [],
   "source": [
    "fig = plt.figure(figsize=(4,4), dpi=200) \n",
    "ax = fig.add_subplot(1, 1, 1)\n",
    "ms=4\n",
    "\n",
    "ax.plot(kv, tau, 'o', color='forestgreen',markersize=ms)\n",
    "ax.plot(kv[0], tau[0], 'o', color='goldenrod',markersize=8)\n",
    "ax.plot(kv[1], tau[1], 'o', color='black',markersize=8)\n",
    "ax.plot(kv[3], tau[3], 'o', color='royalblue',markersize=8)\n",
    "ax.plot(kv[5], tau[5], 'o', color='darkorchid',markersize=8)\n",
    "ax.plot(kv[7], tau[7], 'o', color='limegreen',markersize=8)\n",
    "ax.plot(kv[9], tau[9], 'o', color='indianred',markersize=8)\n",
    "\n",
    "ax.get_yaxis().set_tick_params(which='both', direction='out',labelsize=13)\n",
    "ax.get_xaxis().set_tick_params(which='both', direction='out', labelsize=13)\n",
    "xmajorLocator = MultipleLocator(2)\n",
    "xmajorFormatter = FormatStrFormatter('%g')#format the tick lables \n",
    "xminorLocator = MultipleLocator(1)\n",
    "ymajorLocator = MultipleLocator(0.1)\n",
    "ymajorFormatter = FormatStrFormatter('%g')\n",
    "yminorLocator = MultipleLocator(0.05)\n",
    "ax.xaxis.set_major_locator(xmajorLocator)\n",
    "ax.xaxis.set_major_formatter(xmajorFormatter)\n",
    "ax.xaxis.set_minor_locator(xminorLocator)\n",
    "##############\n",
    "ax.yaxis.set_major_locator(ymajorLocator)\n",
    "ax.yaxis.set_major_formatter(ymajorFormatter)\n",
    "#for the minor ticks, use no labels; default NullFormatter\n",
    "ax.yaxis.set_minor_locator(yminorLocator)\n",
    "plt.draw()\n",
    "plt.xlabel('Accelerating voltage (kV)', fontsize=16)#19\n",
    "plt.ylabel('Decay parameter', fontsize=16)\n",
    "#plt.title('12 kV', fontsize=19)\n",
    "ax.axis([8.1 ,31.9, 0, 0.7])\n",
    "#plt.legend(frameon=False)\n",
    "#ax.fill_between(position, Au_LA, x1=0,where=None, step=None, facecolor='green')\n",
    "plt.tight_layout()\n",
    "plt.show()"
   ]
  },
  {
   "cell_type": "markdown",
   "metadata": {},
   "source": [
    "Same previous plot with no fancy markers"
   ]
  },
  {
   "cell_type": "code",
   "execution_count": 78,
   "metadata": {},
   "outputs": [],
   "source": [
    "fig = plt.figure(figsize=(4,4)) \n",
    "ax = fig.add_subplot(1, 1, 1)\n",
    "ms=4\n",
    "\n",
    "ax.plot(kv, tau, 'o', color='forestgreen',markersize=ms)\n",
    "\n",
    "\n",
    "ax.get_yaxis().set_tick_params(which='both', direction='out',labelsize=13)\n",
    "ax.get_xaxis().set_tick_params(which='both', direction='out', labelsize=13)\n",
    "xmajorLocator = MultipleLocator(2)\n",
    "xmajorFormatter = FormatStrFormatter('%g')#format the tick lables \n",
    "xminorLocator = MultipleLocator(1)\n",
    "ymajorLocator = MultipleLocator(0.1)\n",
    "ymajorFormatter = FormatStrFormatter('%g')\n",
    "yminorLocator = MultipleLocator(0.05)\n",
    "ax.xaxis.set_major_locator(xmajorLocator)\n",
    "ax.xaxis.set_major_formatter(xmajorFormatter)\n",
    "ax.xaxis.set_minor_locator(xminorLocator)\n",
    "##############\n",
    "ax.yaxis.set_major_locator(ymajorLocator)\n",
    "ax.yaxis.set_major_formatter(ymajorFormatter)\n",
    "#for the minor ticks, use no labels; default NullFormatter\n",
    "ax.yaxis.set_minor_locator(yminorLocator)\n",
    "plt.draw()\n",
    "plt.xlabel('Accelerating voltage (kV)', fontsize=16)#19\n",
    "plt.ylabel('Decay parameter', fontsize=16)\n",
    "#plt.title('12 kV', fontsize=19)\n",
    "ax.axis([8.1 ,31.9, 0, 0.7])\n",
    "#plt.legend(frameon=False)\n",
    "#ax.fill_between(position, Au_LA, x1=0,where=None, step=None, facecolor='green')\n",
    "plt.tight_layout()\n",
    "plt.show()"
   ]
  },
  {
   "cell_type": "markdown",
   "metadata": {},
   "source": [
    "### fitting ratio Is/Io only exponential fit"
   ]
  },
  {
   "cell_type": "code",
   "execution_count": 36,
   "metadata": {},
   "outputs": [],
   "source": [
    "fig = plt.figure(figsize=(4,4)) \n",
    "ax = fig.add_subplot(1, 1, 1)\n",
    "ms=2\n",
    "\n",
    "def decay(H, t, N, tau):\n",
    "    return H+N*np.exp(-t/tau)\n",
    "\n",
    "#data30 = norm_ln_30kV\n",
    "#x30 = dose_30kV\n",
    "#model = Model(decay, independent_vars=['t'])\n",
    "#result = model.fit(data30, t=x30, H=-2, N=1.75, tau=0.3)\n",
    "#ax.plot(x30, data30, 'o', color='cyan',markersize=ms, label='30 kV')\n",
    "#ax.plot(x30, result.best_fit, '-', color='deepskyblue')#, label='fit')\n",
    "\n",
    "#data30_1 = Is_Io_30kV_1\n",
    "#x30_1 = dose_30kV_1\n",
    "#model = Model(decay, independent_vars=['t'])\n",
    "#result = model.fit(data30_1, t=x30_1, H=-2, N=1.75, tau=0.3)\n",
    "#ax.plot(x30_1, data30_1, 'o', color='indianred',markersize=ms, label='30 kV')\n",
    "#ax.plot(x30_1, result.best_fit, '-', color='firebrick')#, label='fit')\n",
    "\n",
    "data28 = Is_Io_28kV\n",
    "x28 = dose_28kV\n",
    "model = Model(decay, independent_vars=['t'])\n",
    "result = model.fit(data28, t=x28, H=-2, N=1.75, tau=0.3)\n",
    "ax.plot(x28, data28, 'o', color='indianred',markersize=ms, label='28 kV')\n",
    "ax.plot(x28, result.best_fit, '-', color='firebrick', label='power law fit')\n",
    "\n",
    "#data26 = Is_Io_26kV\n",
    "#x26 = dose_26kV\n",
    "#model = Model(decay, independent_vars=['t'])\n",
    "#result = model.fit(data26, t=x26, H=-2, N=1.75, tau=0.3)\n",
    "#ax.plot(x26, data26, '*', color='limegreen',markersize=ms, label='26 kV')\n",
    "#ax.plot(x26, result.best_fit, '-', color='forestgreen')#, label='power law fit')\n",
    "\n",
    "#data24 = Is_Io_24kV\n",
    "#x24 = dose_24kV\n",
    "#model = Model(decay, independent_vars=['t'])\n",
    "#result = model.fit(data24, t=x24, H=-2, N=1.75, tau=0.3)\n",
    "#ax.plot(x24, data24, 'o', color='orange',markersize=ms, label='24 kV')\n",
    "#ax.plot(x24, result.best_fit, '-', color='darkorange')#, label='power law fit')\n",
    "\n",
    "#data22 = Is_Io_22kV\n",
    "#x22 = dose_22kV\n",
    "#model = Model(decay, independent_vars=['t'])\n",
    "#result = model.fit(data22, t=x22, H=-2, N=1.75, tau=0.3)\n",
    "#ax.plot(x22, data22, 's', color='darkorchid',markersize=ms, label='22 kV')\n",
    "#ax.plot(x22, result.best_fit, '-', color='darkviolet')#, label='power law fit')\n",
    "\n",
    "#data20 = Is_Io_20kV\n",
    "#x20 = dose_20kV\n",
    "#model = Model(decay, independent_vars=['t'])\n",
    "#result = model.fit(data20, t=x20, H=-2, N=1.75, tau=0.3)\n",
    "#ax.plot(x20, data20, 'o', color='cornflowerblue',markersize=ms, label='20 kV')\n",
    "#ax.plot(x20, result.best_fit, '-', color='royalblue')#, label='power law fit')\n",
    "\n",
    "#data18 = Is_Io_18kV\n",
    "#x18 = dose_18kV\n",
    "#model = Model(decay, independent_vars=['t'])\n",
    "#result = model.fit(data18, t=x18, H=-2, N=1.75, tau=0.3)\n",
    "#ax.plot(x18, data18, '^', color='royalblue',markersize=ms, label='18 kV')\n",
    "#ax.plot(x18, result.best_fit, '-', color='b')#, label='power law fit')\n",
    "\n",
    "#data16 = Is_Io_16kV\n",
    "#x16 = dose_16kV\n",
    "#model = Model(decay, independent_vars=['t'])\n",
    "#result = model.fit(data16, t=x16, H=-2, N=1.75, tau=0.3)\n",
    "#ax.plot(x16, data16, 'o', color='darkkhaki',markersize=ms, label='16 kV')\n",
    "#ax.plot(x16, result.best_fit, '-', color='olive')#, label='power law fit')\n",
    "\n",
    "\n",
    "#data14 = Is_Io_14kV\n",
    "#x14 = dose_14kV\n",
    "#model = Model(decay, independent_vars=['t'])\n",
    "#result = model.fit(data14, t=x14, H=-2, N=1.75, tau=0.3)\n",
    "#ax.plot(x14, data14, 'o', color='palevioletred',markersize=ms, label='14 kV')\n",
    "#ax.plot(x14, result.best_fit, '-', color='hotpink', label='power law fit')\n",
    "\n",
    "#data14_1 = Is_Io_14kV_1\n",
    "#x14_1 = dose_14kV_1\n",
    "#model = Model(decay, independent_vars=['t'])\n",
    "#result = model.fit(data14_1, t=x14_1, H=-2, N=1.75, tau=0.3)\n",
    "#ax.plot(x14_1, data14_1, 'o', color='lightsteelblue',markersize=ms, label='14 kV_1')\n",
    "#ax.plot(x14_1, result.best_fit, '-', color='slategrey')#, label='power law fit')\n",
    "\n",
    "\n",
    "#data12 = Is_Io_12kV\n",
    "#x12 = dose_12kV\n",
    "#model = Model(decay, independent_vars=['t'])\n",
    "#result = model.fit(data12, t=x12, H=-2, N=1.75, tau=0.3)\n",
    "#ax.plot(x12, data12, '8', color='black',markersize=ms, label='12 kV')\n",
    "#ax.plot(x12, result.best_fit, '-', color='black')#, label='power law fit')\n",
    "\n",
    "#data10 = Is_Io_10kV\n",
    "#x10 = dose_10kV\n",
    "#model = Model(decay, independent_vars=['t'])\n",
    "#result = model.fit(data10, t=x10, H=-2, N=1.75, tau=0.3)\n",
    "#ax.plot(x10, data10, 'v', color='goldenrod',markersize=ms, label='10 kV')\n",
    "#ax.plot(x10, result.best_fit, '-', color='darkgoldenrod')#, label='power law fit')\n",
    "\n",
    "\n",
    "#ax.grid(color='b', linestyle='-', linewidth=0.5)\n",
    "#ax.fill_between(length.astype(np.float64), voltage_non.astype(np.float64), facecolor='blue', alpha=0.1)\n",
    "ax.get_yaxis().set_tick_params(which='both', direction='out',labelsize=13)\n",
    "ax.get_xaxis().set_tick_params(which='both', direction='out', labelsize=13)\n",
    "xmajorLocator = MultipleLocator(0.5)\n",
    "xmajorFormatter = FormatStrFormatter('%0.1f')#format the tick lables \n",
    "xminorLocator = MultipleLocator(0.1)\n",
    "ymajorLocator = MultipleLocator(0.1)\n",
    "ymajorFormatter = FormatStrFormatter('%g')\n",
    "yminorLocator = MultipleLocator(0.05)\n",
    "ax.xaxis.set_major_locator(xmajorLocator)\n",
    "ax.xaxis.set_major_formatter(xmajorFormatter)\n",
    "ax.xaxis.set_minor_locator(xminorLocator)\n",
    "##############\n",
    "ax.yaxis.set_major_locator(ymajorLocator)\n",
    "ax.yaxis.set_major_formatter(ymajorFormatter)\n",
    "#for the minor ticks, use no labels; default NullFormatter\n",
    "ax.yaxis.set_minor_locator(yminorLocator)\n",
    "plt.draw()\n",
    "plt.xlabel(r'Fluence (e$^-/\\mathring{A}^2$)', fontsize=16)#19\n",
    "plt.ylabel('$I_S/I_0$', fontsize=16)\n",
    "#plt.title('12 kV', fontsize=19)\n",
    "ax.axis([-0.1 ,3.5, 0, 0.3])\n",
    "plt.legend(frameon=False)\n",
    "#ax.fill_between(position, Au_LA, x1=0,where=None, step=None, facecolor='green')\n",
    "plt.tight_layout()\n",
    "plt.show()"
   ]
  },
  {
   "cell_type": "code",
   "execution_count": 37,
   "metadata": {},
   "outputs": [
    {
     "name": "stdout",
     "output_type": "stream",
     "text": [
      "[[Model]]\n",
      "    Model(decay)\n",
      "[[Fit Statistics]]\n",
      "    # fitting method   = leastsq\n",
      "    # function evals   = 21\n",
      "    # data points      = 30\n",
      "    # variables        = 3\n",
      "    chi-square         = 2.4157e-04\n",
      "    reduced chi-square = 8.9469e-06\n",
      "    Akaike info crit   = -345.887030\n",
      "    Bayesian info crit = -341.683438\n",
      "    R-squared          = 0.96956063\n",
      "[[Variables]]\n",
      "    H:    0.01998700 +/- 0.00110870 (5.55%) (init = -2)\n",
      "    N:    0.06077609 +/- 0.00216189 (3.56%) (init = 1.75)\n",
      "    tau:  0.28609347 +/- 0.02359342 (8.25%) (init = 0.3)\n",
      "[[Correlations]] (unreported correlations are < 0.100)\n",
      "    C(H, tau) = -0.7678\n",
      "    C(N, tau) = -0.2847\n",
      "    C(H, N)   = -0.1742\n"
     ]
    }
   ],
   "source": [
    "print(result.fit_report())"
   ]
  },
  {
   "cell_type": "markdown",
   "metadata": {},
   "source": [
    "### Power law fit Is/Io ratio only"
   ]
  },
  {
   "cell_type": "code",
   "execution_count": 38,
   "metadata": {},
   "outputs": [],
   "source": [
    "fig = plt.figure(figsize=(4,8)) \n",
    "ax = fig.add_subplot(1, 1, 1)\n",
    "ms=2\n",
    "\n",
    "def power_law(N, x, A, k):\n",
    "    return N+A*x**(k)\n",
    "\n",
    "#data30_1 = Is_Io_30kV_1\n",
    "#x30_1 = dose_30kV_1\n",
    "#model = Model(power_law, independent_vars=['x'])\n",
    "#result = model.fit(data30_1, x=x30_1, A=0.1, k=-1, N=-4.5)\n",
    "#ax.plot(x30_1, data30_1, 'o', color='cyan',markersize=ms, label='30 kV')\n",
    "#ax.plot(x30_1, result.best_fit, '-', color='deepskyblue', label='power law fit')\n",
    "\n",
    "#data30 = Is_Io_30kV\n",
    "#x30 = dose_30kV\n",
    "#model = Model(power_law, independent_vars=['x'])\n",
    "#result = model.fit(data30, x=x30, A=0.1, k=-1, N=-4.5)\n",
    "#ax.plot(x30, data30, 'o', color='cyan',markersize=ms, label='30 kV')\n",
    "#ax.plot(x30, result.best_fit, '-', color='deepskyblue')#, label='fit')\n",
    "\n",
    "#data28 = Is_Io_28kV\n",
    "#x28 = dose_28kV\n",
    "#model = Model(power_law, independent_vars=['x'])\n",
    "#result = model.fit(data28, x=x28, A=0.1, k=-1, N=-4.5)\n",
    "#ax.plot(x28, data28, 'o', color='indianred',markersize=ms, label='28 kV')\n",
    "#ax.plot(x28, result.best_fit, '-', color='firebrick', label='power law fit')\n",
    "\n",
    "#data26 = Is_Io_26kV\n",
    "#x26 = dose_26kV\n",
    "#model = Model(power_law, independent_vars=['x'])\n",
    "#result = model.fit(data26, x=x26, A=0.1, k=-1, N=-4.5)\n",
    "#ax.plot(x26, data26, 'o', color='limegreen',markersize=ms, label='26 kV')\n",
    "#ax.plot(x26, result.best_fit, '-', color='forestgreen', label='power law fit')\n",
    "\n",
    "#data24 = Is_Io_24kV\n",
    "#x24 = dose_24kV\n",
    "#model = Model(power_law, independent_vars=['x'])\n",
    "#result = model.fit(data24, x=x24, A=0.1, k=-1, N=-4.5)\n",
    "#ax.plot(x24, data24, 'o', color='orange',markersize=ms, label='24 kV')\n",
    "#ax.plot(x24, result.best_fit, '-', color='darkorange', label='power law fit')\n",
    "\n",
    "#data22 = Is_Io_22kV\n",
    "#x22 = dose_22kV\n",
    "#model = Model(power_law, independent_vars=['x'])\n",
    "#result = model.fit(data22, x=x22, A=0.1, k=-1, N=-4.5)\n",
    "#ax.plot(x22, data22, 'o', color='darkorchid',markersize=ms, label='22 kV')\n",
    "#ax.plot(x22, result.best_fit, '-', color='darkviolet', label='power law fit')\n",
    "\n",
    "#data20 = Is_Io_20kV\n",
    "#x20 = dose_20kV\n",
    "#model = Model(power_law, independent_vars=['x'])\n",
    "#result = model.fit(data20, x=x20, A=0.1, k=-1, N=-4.5)\n",
    "#ax.plot(x20, data20, 'o', color='cornflowerblue',markersize=ms, label='20 kV')\n",
    "#ax.plot(x20, result.best_fit, '-', color='royalblue', label='power law fit')\n",
    "\n",
    "#data18 = Is_Io_18kV\n",
    "#x18 = dose_18kV\n",
    "#model = Model(power_law, independent_vars=['x'])\n",
    "#result = model.fit(data18, x=x18, A=0.1, k=-1, N=-4.5)\n",
    "#ax.plot(x18, data18, 'o', color='sandybrown',markersize=ms, label='18 kV')\n",
    "#ax.plot(x18, result.best_fit, '-', color='peru', label='power law fit')\n",
    "\n",
    "#data16 = Is_Io_16kV\n",
    "#x16 = dose_16kV\n",
    "#model = Model(power_law, independent_vars=['x'])\n",
    "#result = model.fit(data16, x=x16, A=0.1, k=-1, N=-4.5)\n",
    "#ax.plot(x16, data16, 'o', color='darkkhaki',markersize=ms, label='16 kV')\n",
    "#ax.plot(x16, result.best_fit, '-', color='olive', label='power law fit')\n",
    "\n",
    "#data14 = Is_Io_14kV\n",
    "#x14 = dose_14kV\n",
    "#model = Model(power_law, independent_vars=['x'])\n",
    "#result = model.fit(data14, x=x14, A=0.1, k=-1, N=-4.5)\n",
    "#ax.plot(x14, data14, 'o', color='palevioletred',markersize=ms, label='14 kV')\n",
    "#ax.plot(x14, result.best_fit, '-', color='hotpink', label='power law fit')\n",
    "\n",
    "\n",
    "#data14_1 = Is_Io_14kV_1\n",
    "#x14_1 = dose_14kV_1\n",
    "#model = Model(power_law, independent_vars=['x'])\n",
    "#result = model.fit(data14_1, x=x14_1, A=0.1, k=-1, N=-4.5)\n",
    "#ax.plot(x14_1, data14_1, 'o', color='palevioletred',markersize=ms, label='14 kV')\n",
    "#ax.plot(x14_1, result.best_fit, '-', color='hotpink', label='power law fit')\n",
    "\n",
    "#data12 = Is_Io_12kV\n",
    "#x12 = dose_12kV\n",
    "#model = Model(power_law, independent_vars=['x'])\n",
    "#result = model.fit(data12, x=x12, A=0.1, k=-1, N=-4.5)\n",
    "#ax.plot(x12, data12, 'o', color='lightsteelblue',markersize=ms, label='12 kV')\n",
    "#ax.plot(x12, result.best_fit, '-', color='slategrey', label='power law fit')\n",
    "\n",
    "data10 = Is_Io_10kV\n",
    "x10 = dose_10kV\n",
    "model = Model(power_law, independent_vars=['x'])\n",
    "result = model.fit(data10, x=x10, A=0.1, k=-1, N=-4.5)\n",
    "ax.plot(x10, data10, 'o', color='goldenrod',markersize=ms, label='10 kV')\n",
    "ax.plot(x10, result.best_fit, '-', color='darkgoldenrod', label='power law fit')\n",
    "\n",
    "\n",
    "#ax.grid(color='b', linestyle='-', linewidth=0.5)\n",
    "#ax.fill_between(length.astype(np.float64), voltage_non.astype(np.float64), facecolor='blue', alpha=0.1)\n",
    "ax.get_yaxis().set_tick_params(which='both', direction='out',labelsize=13)\n",
    "ax.get_xaxis().set_tick_params(which='both', direction='out', labelsize=13)\n",
    "xmajorLocator = MultipleLocator(0.5)\n",
    "xmajorFormatter = FormatStrFormatter('%0.1f')#format the tick lables \n",
    "xminorLocator = MultipleLocator(0.1)\n",
    "ymajorLocator = MultipleLocator(0.1)\n",
    "ymajorFormatter = FormatStrFormatter('%g')\n",
    "yminorLocator = MultipleLocator(0.05)\n",
    "ax.xaxis.set_major_locator(xmajorLocator)\n",
    "ax.xaxis.set_major_formatter(xmajorFormatter)\n",
    "ax.xaxis.set_minor_locator(xminorLocator)\n",
    "##############\n",
    "ax.yaxis.set_major_locator(ymajorLocator)\n",
    "ax.yaxis.set_major_formatter(ymajorFormatter)\n",
    "#for the minor ticks, use no labels; default NullFormatter\n",
    "ax.yaxis.set_minor_locator(yminorLocator)\n",
    "plt.draw()\n",
    "plt.xlabel(r'Fluence (e$^-/\\mathring{A}^2$)', fontsize=16)#19\n",
    "plt.ylabel('Ln($I/I_0$)', fontsize=16)\n",
    "#plt.title('12 kV', fontsize=19)\n",
    "ax.axis([-0.1 ,3.5, 0, 0.3])\n",
    "plt.legend(frameon=False)\n",
    "#ax.fill_between(position, Au_LA, x1=0,where=None, step=None, facecolor='green')\n",
    "plt.tight_layout()\n",
    "plt.show()"
   ]
  },
  {
   "cell_type": "code",
   "execution_count": 39,
   "metadata": {},
   "outputs": [
    {
     "name": "stdout",
     "output_type": "stream",
     "text": [
      "[[Model]]\n",
      "    Model(power_law)\n",
      "[[Fit Statistics]]\n",
      "    # fitting method   = leastsq\n",
      "    # function evals   = 3153\n",
      "    # data points      = 14\n",
      "    # variables        = 3\n",
      "    chi-square         = 0.00367100\n",
      "    reduced chi-square = 3.3373e-04\n",
      "    Akaike info crit   = -109.448884\n",
      "    Bayesian info crit = -107.531712\n",
      "    R-squared          = 0.85093757\n",
      "[[Variables]]\n",
      "    N:  8503.45536 +/- 3.3307e+08 (3916933.26%) (init = -4.5)\n",
      "    A: -8503.49051 +/- 3.3307e+08 (3916917.07%) (init = 0.1)\n",
      "    k:  6.3004e-06 +/- 0.24678568 (3916958.77%) (init = -1)\n",
      "[[Correlations]] (unreported correlations are < 0.100)\n",
      "    C(N, A) = -1.0000\n",
      "    C(A, k) = +1.0000\n",
      "    C(N, k) = -1.0000\n"
     ]
    }
   ],
   "source": [
    "print(result.fit_report())"
   ]
  },
  {
   "cell_type": "code",
   "execution_count": 40,
   "metadata": {},
   "outputs": [
    {
     "name": "stdout",
     "output_type": "stream",
     "text": [
      "[[Model]]\n",
      "    Model(exponential)\n",
      "[[Fit Statistics]]\n",
      "    # fitting method   = leastsq\n",
      "    # function evals   = 19\n",
      "    # data points      = 15\n",
      "    # variables        = 2\n",
      "    chi-square         = 1.43487656\n",
      "    reduced chi-square = 0.11037512\n",
      "    Akaike info crit   = -31.2045706\n",
      "    Bayesian info crit = -29.7884702\n",
      "    R-squared          = 0.73988736\n",
      "[[Variables]]\n",
      "    amplitude: -2.51121482 +/- 0.14918281 (5.94%) (init = 2.354564)\n",
      "    decay:     -2.85071085 +/- 0.49201495 (17.26%) (init = -2.366763)\n",
      "[[Correlations]] (unreported correlations are < 0.100)\n",
      "    C(amplitude, decay) = +0.9023\n"
     ]
    }
   ],
   "source": [
    "xdat = x18\n",
    "ydat = y18\n",
    "mod = lmfit.models.ExponentialModel()\n",
    "pars = mod.guess(ydat, x=xdat)\n",
    "out = mod.fit(ydat, pars, x=xdat)\n",
    "\n",
    "print(out.fit_report())\n",
    "\n",
    "out.plot()\n",
    "plt.legend()\n",
    "plt.show()"
   ]
  },
  {
   "cell_type": "code",
   "execution_count": 97,
   "metadata": {},
   "outputs": [],
   "source": [
    "def power_law(x, A, k):\n",
    "    return A*x**(k)"
   ]
  },
  {
   "cell_type": "code",
   "execution_count": 102,
   "metadata": {},
   "outputs": [],
   "source": [
    "A=2\n",
    "k=-2"
   ]
  },
  {
   "cell_type": "code",
   "execution_count": 103,
   "metadata": {},
   "outputs": [],
   "source": [
    "x=x18"
   ]
  },
  {
   "cell_type": "code",
   "execution_count": 171,
   "metadata": {},
   "outputs": [],
   "source": [
    "data_power = -4+0.19*x**(-1)"
   ]
  },
  {
   "cell_type": "code",
   "execution_count": 172,
   "metadata": {},
   "outputs": [
    {
     "data": {
      "text/plain": [
       "[<matplotlib.lines.Line2D at 0x29320b96190>]"
      ]
     },
     "execution_count": 172,
     "metadata": {},
     "output_type": "execute_result"
    }
   ],
   "source": [
    "plt.plot(x, data_power)"
   ]
  },
  {
   "cell_type": "code",
   "execution_count": null,
   "metadata": {},
   "outputs": [],
   "source": []
  },
  {
   "cell_type": "code",
   "execution_count": null,
   "metadata": {},
   "outputs": [],
   "source": []
  },
  {
   "cell_type": "code",
   "execution_count": 42,
   "metadata": {},
   "outputs": [],
   "source": [
    "def decay(t, N, tau):\n",
    "    return N*np.exp(-t/tau)"
   ]
  },
  {
   "cell_type": "code",
   "execution_count": 64,
   "metadata": {},
   "outputs": [],
   "source": [
    "y16 = ln_16kV\n",
    "x16 = dose_16kV"
   ]
  },
  {
   "cell_type": "code",
   "execution_count": null,
   "metadata": {},
   "outputs": [],
   "source": [
    "t = x18\n",
    "data = y18"
   ]
  },
  {
   "cell_type": "code",
   "execution_count": 101,
   "metadata": {},
   "outputs": [
    {
     "ename": "NameError",
     "evalue": "name 't' is not defined",
     "output_type": "error",
     "traceback": [
      "\u001b[1;31m---------------------------------------------------------------------------\u001b[0m",
      "\u001b[1;31mNameError\u001b[0m                                 Traceback (most recent call last)",
      "Cell \u001b[1;32mIn[101], line 1\u001b[0m\n\u001b[1;32m----> 1\u001b[0m data_exp \u001b[38;5;241m=\u001b[39m \u001b[38;5;241m-\u001b[39m\u001b[38;5;241m2\u001b[39m \u001b[38;5;241m+\u001b[39m\u001b[38;5;241m1.75\u001b[39m\u001b[38;5;241m*\u001b[39mnp\u001b[38;5;241m.\u001b[39mexp(\u001b[38;5;241m-\u001b[39m\u001b[43mt\u001b[49m\u001b[38;5;241m/\u001b[39m\u001b[38;5;241m0.3\u001b[39m)\n",
      "\u001b[1;31mNameError\u001b[0m: name 't' is not defined"
     ]
    }
   ],
   "source": [
    "data_exp = -2 +1.75*np.exp(-t/0.3)"
   ]
  },
  {
   "cell_type": "code",
   "execution_count": 75,
   "metadata": {},
   "outputs": [
    {
     "data": {
      "text/plain": [
       "15"
      ]
     },
     "execution_count": 75,
     "metadata": {},
     "output_type": "execute_result"
    }
   ],
   "source": [
    "np.size(t)"
   ]
  },
  {
   "cell_type": "code",
   "execution_count": 73,
   "metadata": {},
   "outputs": [
    {
     "data": {
      "text/plain": [
       "[<matplotlib.lines.Line2D at 0x1d01e149cd0>]"
      ]
     },
     "execution_count": 73,
     "metadata": {},
     "output_type": "execute_result"
    }
   ],
   "source": [
    "plt.plot(t, data_exp)"
   ]
  },
  {
   "cell_type": "code",
   "execution_count": 69,
   "metadata": {},
   "outputs": [
    {
     "name": "stderr",
     "output_type": "stream",
     "text": [
      "C:\\Users\\Merlin\\AppData\\Local\\Temp\\ipykernel_11372\\52107684.py:2: RuntimeWarning: divide by zero encountered in divide\n",
      "  return N*np.exp(-t/tau)\n"
     ]
    },
    {
     "data": {
      "image/png": "[encoded data removed]",
      "text/plain": [
       "<Figure size 640x640 with 2 Axes>"
      ]
     },
     "execution_count": 69,
     "metadata": {},
     "output_type": "execute_result"
    }
   ],
   "source": [
    "result.plot()"
   ]
  },
  {
   "cell_type": "code",
   "execution_count": 220,
   "metadata": {},
   "outputs": [
    {
     "data": {
      "text/plain": [
       "[<matplotlib.lines.Line2D at 0x7ff037fb4970>]"
      ]
     },
     "execution_count": 220,
     "metadata": {},
     "output_type": "execute_result"
    }
   ],
   "source": [
    "plt.plot(t,data)"
   ]
  },
  {
   "cell_type": "code",
   "execution_count": null,
   "metadata": {},
   "outputs": [],
   "source": []
  },
  {
   "cell_type": "code",
   "execution_count": null,
   "metadata": {},
   "outputs": [],
   "source": []
  },
  {
   "cell_type": "code",
   "execution_count": null,
   "metadata": {},
   "outputs": [],
   "source": []
  },
  {
   "cell_type": "markdown",
   "metadata": {},
   "source": [
    "# 12kV"
   ]
  },
  {
   "cell_type": "code",
   "execution_count": 1841,
   "metadata": {},
   "outputs": [],
   "source": [
    "Ln_Is_Im = data[1:12, 8].astype(np.float64) "
   ]
  },
  {
   "cell_type": "code",
   "execution_count": 1842,
   "metadata": {},
   "outputs": [
    {
     "data": {
      "text/plain": [
       "-2.60115297309108"
      ]
     },
     "execution_count": 1842,
     "metadata": {},
     "output_type": "execute_result"
    }
   ],
   "source": [
    "Ln_Is_Im[10]"
   ]
  },
  {
   "cell_type": "code",
   "execution_count": 1843,
   "metadata": {},
   "outputs": [],
   "source": [
    "Dose = data[1:12, 7]#.astype(np.float64)"
   ]
  },
  {
   "cell_type": "code",
   "execution_count": 1844,
   "metadata": {},
   "outputs": [
    {
     "name": "stderr",
     "output_type": "stream",
     "text": [
      "WARNING:matplotlib.legend:No artists with labels found to put in legend.  Note that artists whose label start with an underscore are ignored when legend() is called with no argument.\n"
     ]
    }
   ],
   "source": [
    "fig = plt.figure(figsize=(5,3.5)) \n",
    "ax = fig.add_subplot(1, 1, 1)\n",
    "ms=2\n",
    "\n",
    "y = Ln_Is_Im\n",
    "\n",
    "x = Dose\n",
    "\n",
    "ax.plot(x, y, 'o', color='m',markersize=3)\n",
    "\n",
    "#ax.grid(color='b', linestyle='-', linewidth=0.5)\n",
    "#ax.fill_between(length.astype(np.float64), voltage_non.astype(np.float64), facecolor='blue', alpha=0.1)\n",
    "ax.get_yaxis().set_tick_params(which='both', direction='out',labelsize=13)\n",
    "ax.get_xaxis().set_tick_params(which='both', direction='out', labelsize=13)\n",
    "xmajorLocator = MultipleLocator(0.5)\n",
    "xmajorFormatter = FormatStrFormatter('%0.1f')#format the tick lables \n",
    "xminorLocator = MultipleLocator(0.25)\n",
    "ymajorLocator = MultipleLocator(0.5)\n",
    "ymajorFormatter = FormatStrFormatter('%g')\n",
    "yminorLocator = MultipleLocator(0.25)\n",
    "ax.xaxis.set_major_locator(xmajorLocator)\n",
    "ax.xaxis.set_major_formatter(xmajorFormatter)\n",
    "ax.xaxis.set_minor_locator(xminorLocator)\n",
    "##############\n",
    "ax.yaxis.set_major_locator(ymajorLocator)\n",
    "ax.yaxis.set_major_formatter(ymajorFormatter)\n",
    "#for the minor ticks, use no labels; default NullFormatter\n",
    "ax.yaxis.set_minor_locator(yminorLocator)\n",
    "plt.draw()\n",
    "plt.xlabel(r'Fluence (e$^-/\\mathring{A}^2$)', fontsize=16)#19\n",
    "plt.ylabel('Ln($I/I_0$)', fontsize=16)\n",
    "plt.title('12 kV', fontsize=19)\n",
    "ax.axis([0.9, 4.1, -3, 0.2])\n",
    "plt.legend(frameon=False)\n",
    "#ax.fill_between(position, Au_LA, x1=0,where=None, step=None, facecolor='green')\n",
    "plt.tight_layout()\n",
    "plt.show()"
   ]
  },
  {
   "cell_type": "markdown",
   "metadata": {},
   "source": [
    "# 8 kV"
   ]
  },
  {
   "cell_type": "code",
   "execution_count": 1847,
   "metadata": {},
   "outputs": [],
   "source": [
    "Ln_Is_Im_8 = data[43:54, 9].astype(np.float64) "
   ]
  },
  {
   "cell_type": "code",
   "execution_count": 1848,
   "metadata": {},
   "outputs": [
    {
     "data": {
      "text/plain": [
       "nan"
      ]
     },
     "execution_count": 1848,
     "metadata": {},
     "output_type": "execute_result"
    }
   ],
   "source": [
    "Ln_Is_Im_8[10]"
   ]
  },
  {
   "cell_type": "code",
   "execution_count": 1849,
   "metadata": {},
   "outputs": [],
   "source": [
    "Dose_8 = data[43:54, 6]#.astype(np.float64)"
   ]
  },
  {
   "cell_type": "code",
   "execution_count": 1850,
   "metadata": {},
   "outputs": [
    {
     "name": "stderr",
     "output_type": "stream",
     "text": [
      "WARNING:matplotlib.legend:No artists with labels found to put in legend.  Note that artists whose label start with an underscore are ignored when legend() is called with no argument.\n"
     ]
    }
   ],
   "source": [
    "fig = plt.figure(figsize=(5,3.5)) \n",
    "ax = fig.add_subplot(1, 1, 1)\n",
    "ms=2\n",
    "\n",
    "y = Ln_Is_Im_8\n",
    "\n",
    "x = Dose_8\n",
    "\n",
    "ax.plot(x, y, 'o', color='green',markersize=3)\n",
    "\n",
    "#ax.grid(color='b', linestyle='-', linewidth=0.5)\n",
    "#ax.fill_between(length.astype(np.float64), voltage_non.astype(np.float64), facecolor='blue', alpha=0.1)\n",
    "ax.get_yaxis().set_tick_params(which='both', direction='out',labelsize=13)\n",
    "ax.get_xaxis().set_tick_params(which='both', direction='out', labelsize=13)\n",
    "xmajorLocator = MultipleLocator(0.2)\n",
    "xmajorFormatter = FormatStrFormatter('%0.1f')#format the tick lables \n",
    "xminorLocator = MultipleLocator(0.1)\n",
    "ymajorLocator = MultipleLocator(0.5)\n",
    "ymajorFormatter = FormatStrFormatter('%g')\n",
    "yminorLocator = MultipleLocator(0.25)\n",
    "ax.xaxis.set_major_locator(xmajorLocator)\n",
    "ax.xaxis.set_major_formatter(xmajorFormatter)\n",
    "ax.xaxis.set_minor_locator(xminorLocator)\n",
    "##############\n",
    "ax.yaxis.set_major_locator(ymajorLocator)\n",
    "ax.yaxis.set_major_formatter(ymajorFormatter)\n",
    "#for the minor ticks, use no labels; default NullFormatter\n",
    "ax.yaxis.set_minor_locator(yminorLocator)\n",
    "plt.draw()\n",
    "plt.xlabel(r'Fluence (e$^-/\\mathring{A}^2$)', fontsize=16)#19\n",
    "plt.ylabel('Ln($I/I_0$)', fontsize=16)\n",
    "plt.title('8 kV', fontsize=19)\n",
    "ax.axis([1, 2.1, -4, 0.1])\n",
    "plt.legend(frameon=False)\n",
    "#ax.fill_between(position, Au_LA, x1=0,where=None, step=None, facecolor='green')\n",
    "plt.tight_layout()\n",
    "plt.show()"
   ]
  },
  {
   "cell_type": "code",
   "execution_count": null,
   "metadata": {},
   "outputs": [],
   "source": []
  },
  {
   "cell_type": "markdown",
   "metadata": {},
   "source": [
    "## Diff 1"
   ]
  },
  {
   "cell_type": "code",
   "execution_count": 451,
   "metadata": {},
   "outputs": [
    {
     "ename": "ValueError",
     "evalue": "The value is out of the axis limits",
     "output_type": "error",
     "traceback": [
      "\u001b[0;31m---------------------------------------------------------------------------\u001b[0m",
      "\u001b[0;31mValueError\u001b[0m                                Traceback (most recent call last)",
      "Cell \u001b[0;32mIn[451], line 6\u001b[0m\n\u001b[1;32m      2\u001b[0m roi \u001b[38;5;241m=\u001b[39m hs\u001b[38;5;241m.\u001b[39mroi\u001b[38;5;241m.\u001b[39mRectangularROI(left\u001b[38;5;241m=\u001b[39m\u001b[38;5;241m213.\u001b[39m, right\u001b[38;5;241m=\u001b[39m\u001b[38;5;241m233.\u001b[39m, top\u001b[38;5;241m=\u001b[39m\u001b[38;5;241m128\u001b[39m, bottom\u001b[38;5;241m=\u001b[39m\u001b[38;5;241m148\u001b[39m)\n\u001b[1;32m      4\u001b[0m im\u001b[38;5;241m.\u001b[39mplot(cmap\u001b[38;5;241m=\u001b[39m\u001b[38;5;124m'\u001b[39m\u001b[38;5;124mBuPu\u001b[39m\u001b[38;5;124m'\u001b[39m, vmin\u001b[38;5;241m=\u001b[39m\u001b[38;5;241m0\u001b[39m, vmax\u001b[38;5;241m=\u001b[39m\u001b[38;5;241m50\u001b[39m)\n\u001b[0;32m----> 6\u001b[0m imc \u001b[38;5;241m=\u001b[39m \u001b[43mroi\u001b[49m\u001b[38;5;241;43m.\u001b[39;49m\u001b[43minteractive\u001b[49m\u001b[43m(\u001b[49m\u001b[43mim\u001b[49m\u001b[43m)\u001b[49m\n\u001b[1;32m      8\u001b[0m imc\u001b[38;5;241m.\u001b[39mplot(cmap\u001b[38;5;241m=\u001b[39m\u001b[38;5;124m'\u001b[39m\u001b[38;5;124mBuPu\u001b[39m\u001b[38;5;124m'\u001b[39m, vmin\u001b[38;5;241m=\u001b[39m\u001b[38;5;241m0\u001b[39m, vmax\u001b[38;5;241m=\u001b[39m\u001b[38;5;241m50\u001b[39m)\n",
      "File \u001b[0;32m~/anaconda3/envs/temp/lib/python3.9/site-packages/hyperspy/roi.py:438\u001b[0m, in \u001b[0;36mBaseInteractiveROI.interactive\u001b[0;34m(self, signal, navigation_signal, out, color, snap, **kwargs)\u001b[0m\n\u001b[1;32m    434\u001b[0m     signal\u001b[38;5;241m.\u001b[39maxes_manager\u001b[38;5;241m.\u001b[39mevents\u001b[38;5;241m.\u001b[39many_axis_changed\u001b[38;5;241m.\u001b[39mconnect(\n\u001b[1;32m    435\u001b[0m         \u001b[38;5;28mself\u001b[39m\u001b[38;5;241m.\u001b[39mupdate,\n\u001b[1;32m    436\u001b[0m         [])\n\u001b[1;32m    437\u001b[0m \u001b[38;5;28;01mif\u001b[39;00m out \u001b[38;5;129;01mis\u001b[39;00m \u001b[38;5;28;01mNone\u001b[39;00m:\n\u001b[0;32m--> 438\u001b[0m     \u001b[38;5;28;01mreturn\u001b[39;00m \u001b[43minteractive\u001b[49m\u001b[43m(\u001b[49m\u001b[38;5;28;43mself\u001b[39;49m\u001b[38;5;241;43m.\u001b[39;49m\u001b[38;5;21;43m__call__\u001b[39;49m\u001b[43m,\u001b[49m\n\u001b[1;32m    439\u001b[0m \u001b[43m                       \u001b[49m\u001b[43mevent\u001b[49m\u001b[38;5;241;43m=\u001b[39;49m\u001b[38;5;28;43mself\u001b[39;49m\u001b[38;5;241;43m.\u001b[39;49m\u001b[43mevents\u001b[49m\u001b[38;5;241;43m.\u001b[39;49m\u001b[43mchanged\u001b[49m\u001b[43m,\u001b[49m\n\u001b[1;32m    440\u001b[0m \u001b[43m                       \u001b[49m\u001b[43msignal\u001b[49m\u001b[38;5;241;43m=\u001b[39;49m\u001b[43msignal\u001b[49m\u001b[43m,\u001b[49m\n\u001b[1;32m    441\u001b[0m \u001b[43m                       \u001b[49m\u001b[38;5;241;43m*\u001b[39;49m\u001b[38;5;241;43m*\u001b[39;49m\u001b[43mkwargs\u001b[49m\u001b[43m)\u001b[49m\n\u001b[1;32m    442\u001b[0m \u001b[38;5;28;01melse\u001b[39;00m:\n\u001b[1;32m    443\u001b[0m     \u001b[38;5;28;01mreturn\u001b[39;00m interactive(\u001b[38;5;28mself\u001b[39m\u001b[38;5;241m.\u001b[39m\u001b[38;5;21m__call__\u001b[39m,\n\u001b[1;32m    444\u001b[0m                        event\u001b[38;5;241m=\u001b[39m\u001b[38;5;28mself\u001b[39m\u001b[38;5;241m.\u001b[39mevents\u001b[38;5;241m.\u001b[39mchanged,\n\u001b[1;32m    445\u001b[0m                        signal\u001b[38;5;241m=\u001b[39msignal, out\u001b[38;5;241m=\u001b[39mout, \u001b[38;5;241m*\u001b[39m\u001b[38;5;241m*\u001b[39mkwargs)\n",
      "File \u001b[0;32m~/anaconda3/envs/temp/lib/python3.9/site-packages/hyperspy/interactive.py:140\u001b[0m, in \u001b[0;36minteractive\u001b[0;34m(f, event, recompute_out_event, *args, **kwargs)\u001b[0m\n\u001b[1;32m    129\u001b[0m \u001b[38;5;28;01mdef\u001b[39;00m \u001b[38;5;21minteractive\u001b[39m(f, event\u001b[38;5;241m=\u001b[39m\u001b[38;5;124m\"\u001b[39m\u001b[38;5;124mauto\u001b[39m\u001b[38;5;124m\"\u001b[39m, recompute_out_event\u001b[38;5;241m=\u001b[39m\u001b[38;5;124m\"\u001b[39m\u001b[38;5;124mauto\u001b[39m\u001b[38;5;124m\"\u001b[39m, \u001b[38;5;241m*\u001b[39margs, \u001b[38;5;241m*\u001b[39m\u001b[38;5;241m*\u001b[39mkwargs):\n\u001b[1;32m    130\u001b[0m     \u001b[38;5;124;03m\"\"\"\u001b[39;00m\n\u001b[1;32m    131\u001b[0m \u001b[38;5;124;03m    %s\u001b[39;00m\n\u001b[1;32m    132\u001b[0m \n\u001b[0;32m   (...)\u001b[0m\n\u001b[1;32m    138\u001b[0m \n\u001b[1;32m    139\u001b[0m \u001b[38;5;124;03m    \"\"\"\u001b[39;00m\n\u001b[0;32m--> 140\u001b[0m     \u001b[38;5;28mcls\u001b[39m \u001b[38;5;241m=\u001b[39m \u001b[43mInteractive\u001b[49m\u001b[43m(\u001b[49m\u001b[43mf\u001b[49m\u001b[43m,\u001b[49m\u001b[43m \u001b[49m\u001b[43mevent\u001b[49m\u001b[43m,\u001b[49m\u001b[43m \u001b[49m\u001b[43mrecompute_out_event\u001b[49m\u001b[43m,\u001b[49m\u001b[43m \u001b[49m\u001b[38;5;241;43m*\u001b[39;49m\u001b[43margs\u001b[49m\u001b[43m,\u001b[49m\u001b[43m \u001b[49m\u001b[38;5;241;43m*\u001b[39;49m\u001b[38;5;241;43m*\u001b[39;49m\u001b[43mkwargs\u001b[49m\u001b[43m)\u001b[49m\n\u001b[1;32m    141\u001b[0m     \u001b[38;5;28;01mreturn\u001b[39;00m \u001b[38;5;28mcls\u001b[39m\u001b[38;5;241m.\u001b[39mout\n",
      "File \u001b[0;32m~/anaconda3/envs/temp/lib/python3.9/site-packages/hyperspy/interactive.py:81\u001b[0m, in \u001b[0;36mInteractive.__init__\u001b[0;34m(self, f, event, recompute_out_event, *args, **kwargs)\u001b[0m\n\u001b[1;32m     79\u001b[0m     \u001b[38;5;28mself\u001b[39m\u001b[38;5;241m.\u001b[39mout \u001b[38;5;241m=\u001b[39m \u001b[38;5;28mself\u001b[39m\u001b[38;5;241m.\u001b[39mkwargs\u001b[38;5;241m.\u001b[39mpop(\u001b[38;5;124m'\u001b[39m\u001b[38;5;124mout\u001b[39m\u001b[38;5;124m'\u001b[39m)\n\u001b[1;32m     80\u001b[0m \u001b[38;5;28;01melse\u001b[39;00m:\n\u001b[0;32m---> 81\u001b[0m     \u001b[38;5;28mself\u001b[39m\u001b[38;5;241m.\u001b[39mout \u001b[38;5;241m=\u001b[39m \u001b[38;5;28;43mself\u001b[39;49m\u001b[38;5;241;43m.\u001b[39;49m\u001b[43mf\u001b[49m\u001b[43m(\u001b[49m\u001b[38;5;241;43m*\u001b[39;49m\u001b[38;5;28;43mself\u001b[39;49m\u001b[38;5;241;43m.\u001b[39;49m\u001b[43margs\u001b[49m\u001b[43m,\u001b[49m\u001b[43m \u001b[49m\u001b[38;5;241;43m*\u001b[39;49m\u001b[38;5;241;43m*\u001b[39;49m\u001b[38;5;28;43mself\u001b[39;49m\u001b[38;5;241;43m.\u001b[39;49m\u001b[43mkwargs\u001b[49m\u001b[43m)\u001b[49m\n\u001b[1;32m     82\u001b[0m \u001b[38;5;66;03m# Reuse the `_plot_kwargs` for the roi if available\u001b[39;00m\n\u001b[1;32m     83\u001b[0m \u001b[38;5;28;01mif\u001b[39;00m _plot_kwargs \u001b[38;5;129;01mand\u001b[39;00m \u001b[38;5;124m'\u001b[39m\u001b[38;5;124msignal\u001b[39m\u001b[38;5;124m'\u001b[39m \u001b[38;5;129;01min\u001b[39;00m \u001b[38;5;28mself\u001b[39m\u001b[38;5;241m.\u001b[39mkwargs:\n",
      "File \u001b[0;32m~/anaconda3/envs/temp/lib/python3.9/site-packages/hyperspy/roi.py:216\u001b[0m, in \u001b[0;36mBaseROI.__call__\u001b[0;34m(self, signal, out, axes)\u001b[0m\n\u001b[1;32m    213\u001b[0m     axes \u001b[38;5;241m=\u001b[39m \u001b[38;5;28mself\u001b[39m\u001b[38;5;241m.\u001b[39m_parse_axes(axes, signal\u001b[38;5;241m.\u001b[39maxes_manager)\n\u001b[1;32m    215\u001b[0m natax \u001b[38;5;241m=\u001b[39m signal\u001b[38;5;241m.\u001b[39maxes_manager\u001b[38;5;241m.\u001b[39m_get_axes_in_natural_order()\n\u001b[0;32m--> 216\u001b[0m slices \u001b[38;5;241m=\u001b[39m \u001b[38;5;28;43mself\u001b[39;49m\u001b[38;5;241;43m.\u001b[39;49m\u001b[43m_make_slices\u001b[49m\u001b[43m(\u001b[49m\u001b[43mnatax\u001b[49m\u001b[43m,\u001b[49m\u001b[43m \u001b[49m\u001b[43maxes\u001b[49m\u001b[43m)\u001b[49m\n\u001b[1;32m    217\u001b[0m nav_axes \u001b[38;5;241m=\u001b[39m [ax\u001b[38;5;241m.\u001b[39mnavigate \u001b[38;5;28;01mfor\u001b[39;00m ax \u001b[38;5;129;01min\u001b[39;00m axes]\n\u001b[1;32m    218\u001b[0m nav_dim \u001b[38;5;241m=\u001b[39m signal\u001b[38;5;241m.\u001b[39maxes_manager\u001b[38;5;241m.\u001b[39mnavigation_dimension\n",
      "File \u001b[0;32m~/anaconda3/envs/temp/lib/python3.9/site-packages/hyperspy/roi.py:173\u001b[0m, in \u001b[0;36mBaseROI._make_slices\u001b[0;34m(self, axes_collection, axes, ranges)\u001b[0m\n\u001b[1;32m    171\u001b[0m i \u001b[38;5;241m=\u001b[39m axes\u001b[38;5;241m.\u001b[39mindex(ax)\n\u001b[1;32m    172\u001b[0m \u001b[38;5;28;01mtry\u001b[39;00m:\n\u001b[0;32m--> 173\u001b[0m     ilow \u001b[38;5;241m=\u001b[39m \u001b[43max\u001b[49m\u001b[38;5;241;43m.\u001b[39;49m\u001b[43mvalue2index\u001b[49m\u001b[43m(\u001b[49m\u001b[43mranges\u001b[49m\u001b[43m[\u001b[49m\u001b[43mi\u001b[49m\u001b[43m]\u001b[49m\u001b[43m[\u001b[49m\u001b[38;5;241;43m0\u001b[39;49m\u001b[43m]\u001b[49m\u001b[43m)\u001b[49m\n\u001b[1;32m    174\u001b[0m \u001b[38;5;28;01mexcept\u001b[39;00m \u001b[38;5;167;01mValueError\u001b[39;00m:\n\u001b[1;32m    175\u001b[0m     \u001b[38;5;28;01mif\u001b[39;00m ranges[i][\u001b[38;5;241m0\u001b[39m] \u001b[38;5;241m<\u001b[39m ax\u001b[38;5;241m.\u001b[39mlow_value:\n",
      "File \u001b[0;32m~/anaconda3/envs/temp/lib/python3.9/site-packages/hyperspy/axes.py:1236\u001b[0m, in \u001b[0;36mUniformDataAxis.value2index\u001b[0;34m(self, value, rounding)\u001b[0m\n\u001b[1;32m   1234\u001b[0m     \u001b[38;5;28;01mreturn\u001b[39;00m index\n\u001b[1;32m   1235\u001b[0m \u001b[38;5;28;01melse\u001b[39;00m:\n\u001b[0;32m-> 1236\u001b[0m     \u001b[38;5;28;01mraise\u001b[39;00m \u001b[38;5;167;01mValueError\u001b[39;00m(\u001b[38;5;124m\"\u001b[39m\u001b[38;5;124mThe value is out of the axis limits\u001b[39m\u001b[38;5;124m\"\u001b[39m)\n",
      "\u001b[0;31mValueError\u001b[0m: The value is out of the axis limits"
     ]
    }
   ],
   "source": [
    "#using 20 by 20 pixels around the diff spot \n",
    "roi = hs.roi.RectangularROI(left=213., right=233., top=128, bottom=148)\n",
    "\n",
    "im.plot(cmap='BuPu', vmin=0, vmax=50)\n",
    "\n",
    "imc = roi.interactive(im)\n",
    "\n",
    "imc.plot(cmap='BuPu', vmin=0, vmax=50)"
   ]
  },
  {
   "cell_type": "code",
   "execution_count": null,
   "metadata": {},
   "outputs": [],
   "source": [
    "np.average "
   ]
  },
  {
   "cell_type": "code",
   "execution_count": 452,
   "metadata": {},
   "outputs": [
    {
     "ename": "ValueError",
     "evalue": "The value is out of the axis limits",
     "output_type": "error",
     "traceback": [
      "\u001b[0;31m---------------------------------------------------------------------------\u001b[0m",
      "\u001b[0;31mValueError\u001b[0m                                Traceback (most recent call last)",
      "Cell \u001b[0;32mIn[452], line 6\u001b[0m\n\u001b[1;32m      2\u001b[0m roi \u001b[38;5;241m=\u001b[39m hs\u001b[38;5;241m.\u001b[39mroi\u001b[38;5;241m.\u001b[39mRectangularROI(left\u001b[38;5;241m=\u001b[39m\u001b[38;5;241m193.\u001b[39m, right\u001b[38;5;241m=\u001b[39m\u001b[38;5;241m213.\u001b[39m, top\u001b[38;5;241m=\u001b[39m\u001b[38;5;241m108\u001b[39m, bottom\u001b[38;5;241m=\u001b[39m\u001b[38;5;241m128\u001b[39m)\n\u001b[1;32m      4\u001b[0m im\u001b[38;5;241m.\u001b[39mplot(cmap\u001b[38;5;241m=\u001b[39m\u001b[38;5;124m'\u001b[39m\u001b[38;5;124mBuPu\u001b[39m\u001b[38;5;124m'\u001b[39m, vmin\u001b[38;5;241m=\u001b[39m\u001b[38;5;241m0\u001b[39m, vmax\u001b[38;5;241m=\u001b[39m\u001b[38;5;241m50\u001b[39m)\n\u001b[0;32m----> 6\u001b[0m imc \u001b[38;5;241m=\u001b[39m \u001b[43mroi\u001b[49m\u001b[38;5;241;43m.\u001b[39;49m\u001b[43minteractive\u001b[49m\u001b[43m(\u001b[49m\u001b[43mim\u001b[49m\u001b[43m)\u001b[49m\n\u001b[1;32m      8\u001b[0m imc\u001b[38;5;241m.\u001b[39mplot(cmap\u001b[38;5;241m=\u001b[39m\u001b[38;5;124m'\u001b[39m\u001b[38;5;124mBuPu\u001b[39m\u001b[38;5;124m'\u001b[39m, vmin\u001b[38;5;241m=\u001b[39m\u001b[38;5;241m0\u001b[39m, vmax\u001b[38;5;241m=\u001b[39m\u001b[38;5;241m50\u001b[39m)\n",
      "File \u001b[0;32m~/anaconda3/envs/temp/lib/python3.9/site-packages/hyperspy/roi.py:438\u001b[0m, in \u001b[0;36mBaseInteractiveROI.interactive\u001b[0;34m(self, signal, navigation_signal, out, color, snap, **kwargs)\u001b[0m\n\u001b[1;32m    434\u001b[0m     signal\u001b[38;5;241m.\u001b[39maxes_manager\u001b[38;5;241m.\u001b[39mevents\u001b[38;5;241m.\u001b[39many_axis_changed\u001b[38;5;241m.\u001b[39mconnect(\n\u001b[1;32m    435\u001b[0m         \u001b[38;5;28mself\u001b[39m\u001b[38;5;241m.\u001b[39mupdate,\n\u001b[1;32m    436\u001b[0m         [])\n\u001b[1;32m    437\u001b[0m \u001b[38;5;28;01mif\u001b[39;00m out \u001b[38;5;129;01mis\u001b[39;00m \u001b[38;5;28;01mNone\u001b[39;00m:\n\u001b[0;32m--> 438\u001b[0m     \u001b[38;5;28;01mreturn\u001b[39;00m \u001b[43minteractive\u001b[49m\u001b[43m(\u001b[49m\u001b[38;5;28;43mself\u001b[39;49m\u001b[38;5;241;43m.\u001b[39;49m\u001b[38;5;21;43m__call__\u001b[39;49m\u001b[43m,\u001b[49m\n\u001b[1;32m    439\u001b[0m \u001b[43m                       \u001b[49m\u001b[43mevent\u001b[49m\u001b[38;5;241;43m=\u001b[39;49m\u001b[38;5;28;43mself\u001b[39;49m\u001b[38;5;241;43m.\u001b[39;49m\u001b[43mevents\u001b[49m\u001b[38;5;241;43m.\u001b[39;49m\u001b[43mchanged\u001b[49m\u001b[43m,\u001b[49m\n\u001b[1;32m    440\u001b[0m \u001b[43m                       \u001b[49m\u001b[43msignal\u001b[49m\u001b[38;5;241;43m=\u001b[39;49m\u001b[43msignal\u001b[49m\u001b[43m,\u001b[49m\n\u001b[1;32m    441\u001b[0m \u001b[43m                       \u001b[49m\u001b[38;5;241;43m*\u001b[39;49m\u001b[38;5;241;43m*\u001b[39;49m\u001b[43mkwargs\u001b[49m\u001b[43m)\u001b[49m\n\u001b[1;32m    442\u001b[0m \u001b[38;5;28;01melse\u001b[39;00m:\n\u001b[1;32m    443\u001b[0m     \u001b[38;5;28;01mreturn\u001b[39;00m interactive(\u001b[38;5;28mself\u001b[39m\u001b[38;5;241m.\u001b[39m\u001b[38;5;21m__call__\u001b[39m,\n\u001b[1;32m    444\u001b[0m                        event\u001b[38;5;241m=\u001b[39m\u001b[38;5;28mself\u001b[39m\u001b[38;5;241m.\u001b[39mevents\u001b[38;5;241m.\u001b[39mchanged,\n\u001b[1;32m    445\u001b[0m                        signal\u001b[38;5;241m=\u001b[39msignal, out\u001b[38;5;241m=\u001b[39mout, \u001b[38;5;241m*\u001b[39m\u001b[38;5;241m*\u001b[39mkwargs)\n",
      "File \u001b[0;32m~/anaconda3/envs/temp/lib/python3.9/site-packages/hyperspy/interactive.py:140\u001b[0m, in \u001b[0;36minteractive\u001b[0;34m(f, event, recompute_out_event, *args, **kwargs)\u001b[0m\n\u001b[1;32m    129\u001b[0m \u001b[38;5;28;01mdef\u001b[39;00m \u001b[38;5;21minteractive\u001b[39m(f, event\u001b[38;5;241m=\u001b[39m\u001b[38;5;124m\"\u001b[39m\u001b[38;5;124mauto\u001b[39m\u001b[38;5;124m\"\u001b[39m, recompute_out_event\u001b[38;5;241m=\u001b[39m\u001b[38;5;124m\"\u001b[39m\u001b[38;5;124mauto\u001b[39m\u001b[38;5;124m\"\u001b[39m, \u001b[38;5;241m*\u001b[39margs, \u001b[38;5;241m*\u001b[39m\u001b[38;5;241m*\u001b[39mkwargs):\n\u001b[1;32m    130\u001b[0m     \u001b[38;5;124;03m\"\"\"\u001b[39;00m\n\u001b[1;32m    131\u001b[0m \u001b[38;5;124;03m    %s\u001b[39;00m\n\u001b[1;32m    132\u001b[0m \n\u001b[0;32m   (...)\u001b[0m\n\u001b[1;32m    138\u001b[0m \n\u001b[1;32m    139\u001b[0m \u001b[38;5;124;03m    \"\"\"\u001b[39;00m\n\u001b[0;32m--> 140\u001b[0m     \u001b[38;5;28mcls\u001b[39m \u001b[38;5;241m=\u001b[39m \u001b[43mInteractive\u001b[49m\u001b[43m(\u001b[49m\u001b[43mf\u001b[49m\u001b[43m,\u001b[49m\u001b[43m \u001b[49m\u001b[43mevent\u001b[49m\u001b[43m,\u001b[49m\u001b[43m \u001b[49m\u001b[43mrecompute_out_event\u001b[49m\u001b[43m,\u001b[49m\u001b[43m \u001b[49m\u001b[38;5;241;43m*\u001b[39;49m\u001b[43margs\u001b[49m\u001b[43m,\u001b[49m\u001b[43m \u001b[49m\u001b[38;5;241;43m*\u001b[39;49m\u001b[38;5;241;43m*\u001b[39;49m\u001b[43mkwargs\u001b[49m\u001b[43m)\u001b[49m\n\u001b[1;32m    141\u001b[0m     \u001b[38;5;28;01mreturn\u001b[39;00m \u001b[38;5;28mcls\u001b[39m\u001b[38;5;241m.\u001b[39mout\n",
      "File \u001b[0;32m~/anaconda3/envs/temp/lib/python3.9/site-packages/hyperspy/interactive.py:81\u001b[0m, in \u001b[0;36mInteractive.__init__\u001b[0;34m(self, f, event, recompute_out_event, *args, **kwargs)\u001b[0m\n\u001b[1;32m     79\u001b[0m     \u001b[38;5;28mself\u001b[39m\u001b[38;5;241m.\u001b[39mout \u001b[38;5;241m=\u001b[39m \u001b[38;5;28mself\u001b[39m\u001b[38;5;241m.\u001b[39mkwargs\u001b[38;5;241m.\u001b[39mpop(\u001b[38;5;124m'\u001b[39m\u001b[38;5;124mout\u001b[39m\u001b[38;5;124m'\u001b[39m)\n\u001b[1;32m     80\u001b[0m \u001b[38;5;28;01melse\u001b[39;00m:\n\u001b[0;32m---> 81\u001b[0m     \u001b[38;5;28mself\u001b[39m\u001b[38;5;241m.\u001b[39mout \u001b[38;5;241m=\u001b[39m \u001b[38;5;28;43mself\u001b[39;49m\u001b[38;5;241;43m.\u001b[39;49m\u001b[43mf\u001b[49m\u001b[43m(\u001b[49m\u001b[38;5;241;43m*\u001b[39;49m\u001b[38;5;28;43mself\u001b[39;49m\u001b[38;5;241;43m.\u001b[39;49m\u001b[43margs\u001b[49m\u001b[43m,\u001b[49m\u001b[43m \u001b[49m\u001b[38;5;241;43m*\u001b[39;49m\u001b[38;5;241;43m*\u001b[39;49m\u001b[38;5;28;43mself\u001b[39;49m\u001b[38;5;241;43m.\u001b[39;49m\u001b[43mkwargs\u001b[49m\u001b[43m)\u001b[49m\n\u001b[1;32m     82\u001b[0m \u001b[38;5;66;03m# Reuse the `_plot_kwargs` for the roi if available\u001b[39;00m\n\u001b[1;32m     83\u001b[0m \u001b[38;5;28;01mif\u001b[39;00m _plot_kwargs \u001b[38;5;129;01mand\u001b[39;00m \u001b[38;5;124m'\u001b[39m\u001b[38;5;124msignal\u001b[39m\u001b[38;5;124m'\u001b[39m \u001b[38;5;129;01min\u001b[39;00m \u001b[38;5;28mself\u001b[39m\u001b[38;5;241m.\u001b[39mkwargs:\n",
      "File \u001b[0;32m~/anaconda3/envs/temp/lib/python3.9/site-packages/hyperspy/roi.py:216\u001b[0m, in \u001b[0;36mBaseROI.__call__\u001b[0;34m(self, signal, out, axes)\u001b[0m\n\u001b[1;32m    213\u001b[0m     axes \u001b[38;5;241m=\u001b[39m \u001b[38;5;28mself\u001b[39m\u001b[38;5;241m.\u001b[39m_parse_axes(axes, signal\u001b[38;5;241m.\u001b[39maxes_manager)\n\u001b[1;32m    215\u001b[0m natax \u001b[38;5;241m=\u001b[39m signal\u001b[38;5;241m.\u001b[39maxes_manager\u001b[38;5;241m.\u001b[39m_get_axes_in_natural_order()\n\u001b[0;32m--> 216\u001b[0m slices \u001b[38;5;241m=\u001b[39m \u001b[38;5;28;43mself\u001b[39;49m\u001b[38;5;241;43m.\u001b[39;49m\u001b[43m_make_slices\u001b[49m\u001b[43m(\u001b[49m\u001b[43mnatax\u001b[49m\u001b[43m,\u001b[49m\u001b[43m \u001b[49m\u001b[43maxes\u001b[49m\u001b[43m)\u001b[49m\n\u001b[1;32m    217\u001b[0m nav_axes \u001b[38;5;241m=\u001b[39m [ax\u001b[38;5;241m.\u001b[39mnavigate \u001b[38;5;28;01mfor\u001b[39;00m ax \u001b[38;5;129;01min\u001b[39;00m axes]\n\u001b[1;32m    218\u001b[0m nav_dim \u001b[38;5;241m=\u001b[39m signal\u001b[38;5;241m.\u001b[39maxes_manager\u001b[38;5;241m.\u001b[39mnavigation_dimension\n",
      "File \u001b[0;32m~/anaconda3/envs/temp/lib/python3.9/site-packages/hyperspy/roi.py:173\u001b[0m, in \u001b[0;36mBaseROI._make_slices\u001b[0;34m(self, axes_collection, axes, ranges)\u001b[0m\n\u001b[1;32m    171\u001b[0m i \u001b[38;5;241m=\u001b[39m axes\u001b[38;5;241m.\u001b[39mindex(ax)\n\u001b[1;32m    172\u001b[0m \u001b[38;5;28;01mtry\u001b[39;00m:\n\u001b[0;32m--> 173\u001b[0m     ilow \u001b[38;5;241m=\u001b[39m \u001b[43max\u001b[49m\u001b[38;5;241;43m.\u001b[39;49m\u001b[43mvalue2index\u001b[49m\u001b[43m(\u001b[49m\u001b[43mranges\u001b[49m\u001b[43m[\u001b[49m\u001b[43mi\u001b[49m\u001b[43m]\u001b[49m\u001b[43m[\u001b[49m\u001b[38;5;241;43m0\u001b[39;49m\u001b[43m]\u001b[49m\u001b[43m)\u001b[49m\n\u001b[1;32m    174\u001b[0m \u001b[38;5;28;01mexcept\u001b[39;00m \u001b[38;5;167;01mValueError\u001b[39;00m:\n\u001b[1;32m    175\u001b[0m     \u001b[38;5;28;01mif\u001b[39;00m ranges[i][\u001b[38;5;241m0\u001b[39m] \u001b[38;5;241m<\u001b[39m ax\u001b[38;5;241m.\u001b[39mlow_value:\n",
      "File \u001b[0;32m~/anaconda3/envs/temp/lib/python3.9/site-packages/hyperspy/axes.py:1236\u001b[0m, in \u001b[0;36mUniformDataAxis.value2index\u001b[0;34m(self, value, rounding)\u001b[0m\n\u001b[1;32m   1234\u001b[0m     \u001b[38;5;28;01mreturn\u001b[39;00m index\n\u001b[1;32m   1235\u001b[0m \u001b[38;5;28;01melse\u001b[39;00m:\n\u001b[0;32m-> 1236\u001b[0m     \u001b[38;5;28;01mraise\u001b[39;00m \u001b[38;5;167;01mValueError\u001b[39;00m(\u001b[38;5;124m\"\u001b[39m\u001b[38;5;124mThe value is out of the axis limits\u001b[39m\u001b[38;5;124m\"\u001b[39m)\n",
      "\u001b[0;31mValueError\u001b[0m: The value is out of the axis limits"
     ]
    }
   ],
   "source": [
    "#using 20 by 20 pixels around the diff spot background\n",
    "roi = hs.roi.RectangularROI(left=193., right=213., top=108, bottom=128)\n",
    "\n",
    "im.plot(cmap='BuPu', vmin=0, vmax=50)\n",
    "\n",
    "imc = roi.interactive(im)\n",
    "\n",
    "imc.plot(cmap='BuPu', vmin=0, vmax=50)"
   ]
  },
  {
   "cell_type": "markdown",
   "metadata": {},
   "source": [
    "## Diff 2"
   ]
  },
  {
   "cell_type": "code",
   "execution_count": 73,
   "metadata": {},
   "outputs": [
    {
     "name": "stdout",
     "output_type": "stream",
     "text": [
      "using interactive roi\n"
     ]
    }
   ],
   "source": [
    "#using 20 by 20 pixels around the diff spot \n",
    "roi = hs.roi.RectangularROI(left=313., right=333., top=97., bottom=117.)\n",
    "\n",
    "im.plot(cmap='BuPu', vmin=0, vmax=50)\n",
    "\n",
    "imc = roi.interactive(im)\n",
    "\n",
    "imc.plot(cmap='BuPu', vmin=0, vmax=50)"
   ]
  },
  {
   "cell_type": "code",
   "execution_count": 75,
   "metadata": {},
   "outputs": [
    {
     "name": "stdout",
     "output_type": "stream",
     "text": [
      "using interactive roi\n",
      "removing widget\n"
     ]
    }
   ],
   "source": [
    "#using 20 by 20 pixels around the diff spot background\n",
    "roi = hs.roi.RectangularROI(left=320., right=340., top=77., bottom=97)\n",
    "\n",
    "im.plot(cmap='BuPu', vmin=0, vmax=50)\n",
    "\n",
    "imc = roi.interactive(im)\n",
    "\n",
    "imc.plot(cmap='BuPu', vmin=0, vmax=50)"
   ]
  },
  {
   "cell_type": "markdown",
   "metadata": {},
   "source": [
    "## Diff 3 "
   ]
  },
  {
   "cell_type": "code",
   "execution_count": 76,
   "metadata": {},
   "outputs": [
    {
     "name": "stdout",
     "output_type": "stream",
     "text": [
      "using interactive roi\n",
      "removing widget\n"
     ]
    }
   ],
   "source": [
    "#using 20 by 20 pixels around the diff spot \n",
    "roi = hs.roi.RectangularROI(left=385., right=405., top=176, bottom=196)\n",
    "\n",
    "im.plot(cmap='BuPu', vmin=0, vmax=50)\n",
    "\n",
    "imc = roi.interactive(im)\n",
    "\n",
    "imc.plot(cmap='BuPu', vmin=0, vmax=50)"
   ]
  },
  {
   "cell_type": "code",
   "execution_count": 77,
   "metadata": {},
   "outputs": [
    {
     "name": "stdout",
     "output_type": "stream",
     "text": [
      "using interactive roi\n",
      "removing widget\n"
     ]
    }
   ],
   "source": [
    "#using 20 by 20 pixels around the diff spot background\n",
    "roi = hs.roi.RectangularROI(left=405., right=425., top=161, bottom=181)\n",
    "\n",
    "im.plot(cmap='BuPu', vmin=0, vmax=50)\n",
    "\n",
    "imc = roi.interactive(im)\n",
    "\n",
    "imc.plot(cmap='BuPu', vmin=0, vmax=50)"
   ]
  },
  {
   "cell_type": "markdown",
   "metadata": {},
   "source": [
    "## Diff 4 "
   ]
  },
  {
   "cell_type": "code",
   "execution_count": 91,
   "metadata": {},
   "outputs": [
    {
     "name": "stdout",
     "output_type": "stream",
     "text": [
      "removing widget\n",
      "using interactive roi\n",
      "removing widget\n"
     ]
    }
   ],
   "source": [
    "#using 20 by 20 pixels around the diff spot \n",
    "roi = hs.roi.RectangularROI(left=358., right=378., top=282., bottom=302.)\n",
    "\n",
    "im.plot(cmap='BuPu', vmin=0, vmax=50)\n",
    "\n",
    "imc = roi.interactive(im)\n",
    "\n",
    "imc.plot(cmap='BuPu', vmin=0, vmax=50)"
   ]
  },
  {
   "cell_type": "code",
   "execution_count": 87,
   "metadata": {},
   "outputs": [
    {
     "name": "stdout",
     "output_type": "stream",
     "text": [
      "using interactive roi\n"
     ]
    }
   ],
   "source": [
    "#using 20 by 20 pixels around the diff spot background\n",
    "roi = hs.roi.RectangularROI(left=378., right=398., top=302, bottom=322)\n",
    "\n",
    "im.plot(cmap='BuPu', vmin=0, vmax=50)\n",
    "\n",
    "imc = roi.interactive(im)\n",
    "\n",
    "imc.plot(cmap='BuPu', vmin=0, vmax=50)"
   ]
  },
  {
   "cell_type": "markdown",
   "metadata": {},
   "source": [
    "## Diff 5 "
   ]
  },
  {
   "cell_type": "code",
   "execution_count": 98,
   "metadata": {},
   "outputs": [
    {
     "name": "stdout",
     "output_type": "stream",
     "text": [
      "using interactive roi\n"
     ]
    }
   ],
   "source": [
    "#using 20 by 20 pixels around the diff spot \n",
    "roi = hs.roi.RectangularROI(left=259., right=279., top=312, bottom=332)\n",
    "\n",
    "im.plot(cmap='BuPu', vmin=0, vmax=50)\n",
    "\n",
    "imc = roi.interactive(im)\n",
    "\n",
    "imc.plot(cmap='BuPu', vmin=0, vmax=50)"
   ]
  },
  {
   "cell_type": "code",
   "execution_count": 97,
   "metadata": {},
   "outputs": [
    {
     "name": "stdout",
     "output_type": "stream",
     "text": [
      "using interactive roi\n",
      "removing widget\n"
     ]
    }
   ],
   "source": [
    "#using 20 by 20 pixels around the diff spot background\n",
    "roi = hs.roi.RectangularROI(left=256., right=276., top=332, bottom=352)\n",
    "\n",
    "im.plot(cmap='BuPu', vmin=0, vmax=50)\n",
    "\n",
    "imc = roi.interactive(im)\n",
    "\n",
    "imc.plot(cmap='BuPu', vmin=0, vmax=50)"
   ]
  },
  {
   "cell_type": "markdown",
   "metadata": {},
   "source": [
    "## Diff 6"
   ]
  },
  {
   "cell_type": "code",
   "execution_count": 108,
   "metadata": {},
   "outputs": [
    {
     "name": "stdout",
     "output_type": "stream",
     "text": [
      "removing widget\n",
      "using interactive roi\n",
      "removing widget\n"
     ]
    }
   ],
   "source": [
    "#using 20 by 20 pixels around the diff spot \n",
    "roi = hs.roi.RectangularROI(left=186., right=206., top=234., bottom=254.)\n",
    "\n",
    "im.plot(cmap='BuPu', vmin=0, vmax=50)\n",
    "\n",
    "imc = roi.interactive(im)\n",
    "\n",
    "imc.plot(cmap='BuPu', vmin=0, vmax=50)"
   ]
  },
  {
   "cell_type": "code",
   "execution_count": 112,
   "metadata": {},
   "outputs": [
    {
     "name": "stdout",
     "output_type": "stream",
     "text": [
      "removing widget\n",
      "using interactive roi\n",
      "removing widget\n"
     ]
    }
   ],
   "source": [
    "#using 20 by 20 pixels around the diff spot background\n",
    "roi = hs.roi.RectangularROI(left=166., right=186., top=241., bottom=261.)\n",
    "\n",
    "im.plot(cmap='BuPu', vmin=0, vmax=50)\n",
    "\n",
    "imc = roi.interactive(im)\n",
    "\n",
    "imc.plot(cmap='BuPu', vmin=0, vmax=50)"
   ]
  },
  {
   "cell_type": "code",
   "execution_count": null,
   "metadata": {},
   "outputs": [],
   "source": []
  },
  {
   "cell_type": "code",
   "execution_count": null,
   "metadata": {},
   "outputs": [],
   "source": []
  },
  {
   "cell_type": "code",
   "execution_count": null,
   "metadata": {},
   "outputs": [],
   "source": []
  },
  {
   "cell_type": "code",
   "execution_count": null,
   "metadata": {},
   "outputs": [],
   "source": []
  },
  {
   "cell_type": "code",
   "execution_count": null,
   "metadata": {},
   "outputs": [],
   "source": []
  },
  {
   "cell_type": "code",
   "execution_count": 454,
   "metadata": {},
   "outputs": [
    {
     "data": {
      "text/plain": [
       "<Axes: xlabel='<undefined> (<undefined>)', ylabel='Intensity'>"
      ]
     },
     "execution_count": 454,
     "metadata": {},
     "output_type": "execute_result"
    }
   ],
   "source": [
    "im = hs.signals.Signal2D(reshaped_diff_patts[0][0]) \n",
    "im.plot(cmap='Greys', vmin = 0, vmax=50)\n",
    "\n",
    "# Create the ROI\n",
    "line_profile = hs.roi.Line2DROI(0, 0, 50, 50)\n",
    "\n",
    "# Obtain the signals to plot by \"slicing\" the signals with the ROI\n",
    "line0 = line_profile.interactive(im)\n",
    "\n",
    "# Plotting the profile on the same figure\n",
    "hs.plot.plot_spectra([line0])"
   ]
  },
  {
   "cell_type": "code",
   "execution_count": null,
   "metadata": {},
   "outputs": [],
   "source": []
  },
  {
   "cell_type": "code",
   "execution_count": null,
   "metadata": {},
   "outputs": [],
   "source": []
  },
  {
   "cell_type": "code",
   "execution_count": null,
   "metadata": {},
   "outputs": [],
   "source": []
  },
  {
   "cell_type": "code",
   "execution_count": null,
   "metadata": {},
   "outputs": [],
   "source": []
  },
  {
   "cell_type": "code",
   "execution_count": null,
   "metadata": {},
   "outputs": [],
   "source": []
  },
  {
   "cell_type": "code",
   "execution_count": null,
   "metadata": {},
   "outputs": [],
   "source": []
  },
  {
   "cell_type": "code",
   "execution_count": null,
   "metadata": {},
   "outputs": [],
   "source": []
  },
  {
   "cell_type": "code",
   "execution_count": 207,
   "metadata": {},
   "outputs": [
    {
     "name": "stdout",
     "output_type": "stream",
     "text": [
      "[########################################] | 100% Completed |  0.2s\n"
     ]
    }
   ],
   "source": [
    "s = ps.PixelatedSTEM(im)\n",
    "s_rem = s.subtract_diffraction_background(method='median kernel',lazy_result=False, show_progressbar=True)#method='difference of gaussians', \n",
    "s_rem.plot(cmap='BuPu', vmin = 0, vmax = 100)#cmap='RdYlBu_r',"
   ]
  },
  {
   "cell_type": "markdown",
   "metadata": {},
   "source": [
    "### Interactive profile 1\n"
   ]
  },
  {
   "cell_type": "code",
   "execution_count": 24,
   "metadata": {},
   "outputs": [
    {
     "name": "stdout",
     "output_type": "stream",
     "text": [
      "using interactive roi\n"
     ]
    },
    {
     "data": {
      "text/plain": [
       "<AxesSubplot:xlabel='<undefined> (<undefined>)', ylabel='Intensity'>"
      ]
     },
     "execution_count": 24,
     "metadata": {},
     "output_type": "execute_result"
    },
    {
     "name": "stdout",
     "output_type": "stream",
     "text": [
      "removing widget\n"
     ]
    }
   ],
   "source": [
    "im0 = hs.signals.Signal2D(reshaped_diff_patts[25][16]) \n",
    "im0.plot(cmap='Greys', vmin = 0, vmax=50)\n",
    "\n",
    "# Create the ROI\n",
    "line_profile = hs.roi.Line2DROI(0, 0, 50, 50)\n",
    "\n",
    "# Obtain the signals to plot by \"slicing\" the signals with the ROI\n",
    "line0 = line_profile.interactive(im0)\n",
    "\n",
    "# Plotting the profile on the same figure\n",
    "hs.plot.plot_spectra([line0])"
   ]
  },
  {
   "cell_type": "code",
   "execution_count": 199,
   "metadata": {},
   "outputs": [
    {
     "data": {
      "text/plain": [
       "64"
      ]
     },
     "execution_count": 199,
     "metadata": {},
     "output_type": "execute_result"
    }
   ],
   "source": [
    "np.size(line0)"
   ]
  },
  {
   "cell_type": "markdown",
   "metadata": {},
   "source": [
    "### Interactive profile 2"
   ]
  },
  {
   "cell_type": "code",
   "execution_count": 453,
   "metadata": {},
   "outputs": [
    {
     "ename": "NameError",
     "evalue": "name 'line_profile' is not defined",
     "output_type": "error",
     "traceback": [
      "\u001b[0;31m---------------------------------------------------------------------------\u001b[0m",
      "\u001b[0;31mNameError\u001b[0m                                 Traceback (most recent call last)",
      "Cell \u001b[0;32mIn[453], line 8\u001b[0m\n\u001b[1;32m      5\u001b[0m line_profile_2 \u001b[38;5;241m=\u001b[39m hs\u001b[38;5;241m.\u001b[39mroi\u001b[38;5;241m.\u001b[39mLine2DROI(\u001b[38;5;241m0\u001b[39m, \u001b[38;5;241m0\u001b[39m, \u001b[38;5;241m50\u001b[39m, \u001b[38;5;241m50\u001b[39m)\n\u001b[1;32m      7\u001b[0m \u001b[38;5;66;03m# Obtain the signals to plot by \"slicing\" the signals with the ROI\u001b[39;00m\n\u001b[0;32m----> 8\u001b[0m line_2 \u001b[38;5;241m=\u001b[39m \u001b[43mline_profile\u001b[49m\u001b[38;5;241m.\u001b[39minteractive(im2)\n\u001b[1;32m     10\u001b[0m \u001b[38;5;66;03m# Plotting the profile on the same figure\u001b[39;00m\n\u001b[1;32m     11\u001b[0m hs\u001b[38;5;241m.\u001b[39mplot\u001b[38;5;241m.\u001b[39mplot_spectra([line_2])\n",
      "\u001b[0;31mNameError\u001b[0m: name 'line_profile' is not defined"
     ]
    }
   ],
   "source": [
    "im2 = hs.signals.Signal2D(reshaped_diff_patts[0][0]) \n",
    "im2.plot(cmap='RdPu', vmin = 0, vmax=80)\n",
    "\n",
    "# Create the ROI\n",
    "line_profile_2 = hs.roi.Line2DROI(0, 0, 50, 50)\n",
    "\n",
    "# Obtain the signals to plot by \"slicing\" the signals with the ROI\n",
    "line_2 = line_profile.interactive(im2)\n",
    "\n",
    "# Plotting the profile on the same figure\n",
    "hs.plot.plot_spectra([line_2])"
   ]
  },
  {
   "cell_type": "code",
   "execution_count": 19,
   "metadata": {},
   "outputs": [
    {
     "data": {
      "text/plain": [
       "90"
      ]
     },
     "execution_count": 19,
     "metadata": {},
     "output_type": "execute_result"
    }
   ],
   "source": [
    "np.size(line_2)"
   ]
  },
  {
   "cell_type": "markdown",
   "metadata": {},
   "source": [
    "### Interactive profile 3"
   ]
  },
  {
   "cell_type": "code",
   "execution_count": 176,
   "metadata": {},
   "outputs": [
    {
     "name": "stdout",
     "output_type": "stream",
     "text": [
      "using interactive roi\n"
     ]
    },
    {
     "data": {
      "text/plain": [
       "<AxesSubplot:xlabel='<undefined> (<undefined>)', ylabel='Intensity'>"
      ]
     },
     "execution_count": 176,
     "metadata": {},
     "output_type": "execute_result"
    }
   ],
   "source": [
    "im3 = hs.signals.Signal2D(reshaped_diff_patts[18][3]) \n",
    "im3.plot(cmap='RdPu', vmin = 0, vmax=80)\n",
    "\n",
    "# Create the ROI\n",
    "line_profile_3 = hs.roi.Line2DROI(0, 0, 50, 50)\n",
    "\n",
    "# Obtain the signals to plot by \"slicing\" the signals with the ROI\n",
    "line_3 = line_profile.interactive(im3)\n",
    "\n",
    "# Plotting the profile on the same figure\n",
    "hs.plot.plot_spectra([line_3])"
   ]
  },
  {
   "cell_type": "code",
   "execution_count": null,
   "metadata": {},
   "outputs": [],
   "source": []
  },
  {
   "cell_type": "markdown",
   "metadata": {},
   "source": [
    "### Interactive profile 4"
   ]
  },
  {
   "cell_type": "code",
   "execution_count": 184,
   "metadata": {},
   "outputs": [
    {
     "name": "stdout",
     "output_type": "stream",
     "text": [
      "using interactive roi\n"
     ]
    },
    {
     "data": {
      "text/plain": [
       "<AxesSubplot:xlabel='<undefined> (<undefined>)', ylabel='Intensity'>"
      ]
     },
     "execution_count": 184,
     "metadata": {},
     "output_type": "execute_result"
    }
   ],
   "source": [
    "im4 = hs.signals.Signal2D(reshaped_diff_patts[18][3]) \n",
    "im4.plot(cmap='RdPu', vmin = 0, vmax=80)\n",
    "\n",
    "# Create the ROI\n",
    "line_profile_4 = hs.roi.Line2DROI(0, 0, 50, 50)\n",
    "\n",
    "# Obtain the signals to plot by \"slicing\" the signals with the ROI\n",
    "line_4 = line_profile.interactive(im4)\n",
    "\n",
    "# Plotting the profile on the same figure\n",
    "hs.plot.plot_spectra([line_4])"
   ]
  },
  {
   "cell_type": "code",
   "execution_count": null,
   "metadata": {},
   "outputs": [],
   "source": []
  },
  {
   "cell_type": "markdown",
   "metadata": {},
   "source": [
    "### Interactive profile 5"
   ]
  },
  {
   "cell_type": "code",
   "execution_count": 191,
   "metadata": {},
   "outputs": [
    {
     "name": "stdout",
     "output_type": "stream",
     "text": [
      "using interactive roi\n"
     ]
    },
    {
     "data": {
      "text/plain": [
       "<AxesSubplot:xlabel='<undefined> (<undefined>)', ylabel='Intensity'>"
      ]
     },
     "execution_count": 191,
     "metadata": {},
     "output_type": "execute_result"
    }
   ],
   "source": [
    "im5 = hs.signals.Signal2D(reshaped_diff_patts[18][3]) \n",
    "im5.plot(cmap='RdPu', vmin = 0, vmax=80)\n",
    "\n",
    "# Create the ROI\n",
    "line_profile_5 = hs.roi.Line2DROI(0, 0, 50, 50)\n",
    "\n",
    "# Obtain the signals to plot by \"slicing\" the signals with the ROI\n",
    "line_5 = line_profile.interactive(im5)\n",
    "\n",
    "# Plotting the profile on the same figure\n",
    "hs.plot.plot_spectra([line_5])"
   ]
  },
  {
   "cell_type": "code",
   "execution_count": null,
   "metadata": {},
   "outputs": [],
   "source": []
  },
  {
   "cell_type": "markdown",
   "metadata": {},
   "source": [
    "### Interactive profile 6"
   ]
  },
  {
   "cell_type": "code",
   "execution_count": 198,
   "metadata": {},
   "outputs": [
    {
     "name": "stdout",
     "output_type": "stream",
     "text": [
      "using interactive roi\n"
     ]
    },
    {
     "data": {
      "text/plain": [
       "<AxesSubplot:xlabel='<undefined> (<undefined>)', ylabel='Intensity'>"
      ]
     },
     "execution_count": 198,
     "metadata": {},
     "output_type": "execute_result"
    }
   ],
   "source": [
    "im6 = hs.signals.Signal2D(reshaped_diff_patts[18][3]) \n",
    "im6.plot(cmap='RdPu', vmin = 0, vmax=80)\n",
    "\n",
    "# Create the ROI\n",
    "line_profile_6 = hs.roi.Line2DROI(0, 0, 50, 50)\n",
    "\n",
    "# Obtain the signals to plot by \"slicing\" the signals with the ROI\n",
    "line_6 = line_profile.interactive(im6)\n",
    "\n",
    "# Plotting the profile on the same figure\n",
    "hs.plot.plot_spectra([line_6])"
   ]
  },
  {
   "cell_type": "code",
   "execution_count": null,
   "metadata": {},
   "outputs": [],
   "source": []
  },
  {
   "cell_type": "code",
   "execution_count": null,
   "metadata": {},
   "outputs": [],
   "source": []
  },
  {
   "cell_type": "code",
   "execution_count": 405,
   "metadata": {},
   "outputs": [
    {
     "name": "stdout",
     "output_type": "stream",
     "text": [
      "removing widget\n",
      "removing widget\n"
     ]
    }
   ],
   "source": [
    "fig = plt.figure(figsize=(5,3.5)) \n",
    "ax = fig.add_subplot(1, 1, 1)\n",
    "ms=2\n",
    "\n",
    "y = line0.data\n",
    "\n",
    "x = np.arange(y.size)\n",
    "\n",
    "ax.plot(x, y,label='First pass')\n",
    "\n",
    "#ax.grid(color='b', linestyle='-', linewidth=0.5)\n",
    "#ax.fill_between(length.astype(np.float64), voltage_non.astype(np.float64), facecolor='blue', alpha=0.1)\n",
    "ax.get_yaxis().set_tick_params(which='both', direction='out',labelsize=13)\n",
    "ax.get_xaxis().set_tick_params(which='both', direction='out', labelsize=13)\n",
    "xmajorLocator = MultipleLocator(25)\n",
    "xmajorFormatter = FormatStrFormatter('%d')#format the tick lables \n",
    "xminorLocator = MultipleLocator(10)\n",
    "ymajorLocator = MultipleLocator(100)\n",
    "ymajorFormatter = FormatStrFormatter('%g')\n",
    "yminorLocator = MultipleLocator(50)\n",
    "ax.xaxis.set_major_locator(xmajorLocator)\n",
    "ax.xaxis.set_major_formatter(xmajorFormatter)\n",
    "ax.xaxis.set_minor_locator(xminorLocator)\n",
    "##############\n",
    "ax.yaxis.set_major_locator(ymajorLocator)\n",
    "ax.yaxis.set_major_formatter(ymajorFormatter)\n",
    "#for the minor ticks, use no labels; default NullFormatter\n",
    "ax.yaxis.set_minor_locator(yminorLocator)\n",
    "plt.draw()\n",
    "plt.xlabel('X', fontsize=16)#19\n",
    "plt.ylabel('Intensity (a.u)', fontsize=16)\n",
    "#plt.title('NW1 phase profile', fontsize=19)\n",
    "ax.axis([0, 80, 0, 1000])\n",
    "plt.legend(frameon=False)\n",
    "#ax.fill_between(position, Au_LA, x1=0,where=None, step=None, facecolor='green')\n",
    "plt.tight_layout()\n",
    "plt.show()"
   ]
  },
  {
   "cell_type": "code",
   "execution_count": 410,
   "metadata": {},
   "outputs": [],
   "source": [
    "import numpy as np\n",
    "import matplotlib.pyplot as plt\n",
    "\n",
    "y = line0.data\n",
    "x = np.arange(y.size)\n",
    "\n",
    "\n",
    "# If we were to simply plot pts, we'd lose most of the interesting\n",
    "# details due to the outliers. So let's 'break' or 'cut-out' the y-axis\n",
    "# into two portions - use the top (ax1) for the outliers, and the bottom\n",
    "# (ax2) for the details of the majority of our data\n",
    "\n",
    "fig, (ax1, ax2) = plt.subplots(2, 1, sharex=True)\n",
    "fig.subplots_adjust(hspace=0.05)  # adjust space between axes\n",
    "\n",
    "# plot the same data on both axes\n",
    "ax1.plot(x, y)\n",
    "ax2.plot(x, y)\n",
    "\n",
    "\n",
    "ax1.get_yaxis().set_tick_params(which='both', direction='out',labelsize=13)\n",
    "ax1.get_xaxis().set_tick_params(which='both', direction='out', labelsize=13)\n",
    "ax2.get_yaxis().set_tick_params(which='both', direction='out',labelsize=13)\n",
    "ax2.get_xaxis().set_tick_params(which='both', direction='out', labelsize=13)\n",
    "\n",
    "\n",
    "\n",
    "# zoom-in / limit the view to different portions of the data\n",
    "ax1.set_ylim(50, 1000)  # outliers only\n",
    "ax2.set_ylim(0, 30)  # most of the data\n",
    "\n",
    "# hide the spines between ax and ax2\n",
    "\n",
    "ax1.spines['top'].set_visible(True)\n",
    "ax1.spines['bottom'].set_visible(False)\n",
    "ax2.spines['top'].set_visible(False)\n",
    "ax1.xaxis.tick_top()\n",
    "ax1.tick_params(labeltop=False)  # don't put tick labels at the top\n",
    "ax2.xaxis.tick_bottom()\n",
    "\n",
    "\n",
    "\n",
    "# Now, let's turn towards the cut-out slanted lines.\n",
    "# We create line objects in axes coordinates, in which (0,0), (0,1),\n",
    "# (1,0), and (1,1) are the four corners of the axes.\n",
    "# The slanted lines themselves are markers at those locations, such that the\n",
    "# lines keep their angle and position, independent of the axes size or scale\n",
    "# Finally, we need to disable clipping.\n",
    "\n",
    "d = .5  # proportion of vertical to horizontal extent of the slanted line\n",
    "kwargs = dict(marker=[(-1, -d), (1, d)], markersize=12,\n",
    "              linestyle=\"none\", color='k', mec='k', mew=1, clip_on=False)\n",
    "ax1.plot([0, 1], [0, 0], transform=ax1.transAxes, **kwargs)\n",
    "ax2.plot([0, 1], [1, 1], transform=ax2.transAxes, **kwargs)\n",
    "\n",
    "\n",
    "plt.draw()\n",
    "\n",
    "plt.xlabel('Profile lengh (px)', fontsize=16)#19\n",
    "fig.text(0.03, 0.5, 'Intensity (a.u)', ha='center', va='center', rotation='vertical', fontsize=16)\n",
    "#ax2.set_ylabel('common ylabel')\n",
    "#plt.ylabel('Intensity (a.u)', labelpad=20, fontsize=16)\n",
    "#plt.tight_layout()\n",
    "plt.show()"
   ]
  },
  {
   "cell_type": "markdown",
   "metadata": {},
   "source": [
    "### Background removal"
   ]
  },
  {
   "cell_type": "code",
   "execution_count": 320,
   "metadata": {},
   "outputs": [],
   "source": [
    "s = ps.PixelatedSTEM(im)"
   ]
  },
  {
   "cell_type": "code",
   "execution_count": 321,
   "metadata": {},
   "outputs": [
    {
     "name": "stdout",
     "output_type": "stream",
     "text": [
      "[########################################] | 100% Completed |  0.2s\n"
     ]
    }
   ],
   "source": [
    "s_rem = s.subtract_diffraction_background(method='median kernel',lazy_result=False, show_progressbar=True)#method='difference of gaussians', "
   ]
  },
  {
   "cell_type": "code",
   "execution_count": 341,
   "metadata": {},
   "outputs": [],
   "source": [
    "s_rem.plot(cmap='RdPu', vmin = 0, vmax = 40)#cmap='RdYlBu_r',"
   ]
  },
  {
   "cell_type": "code",
   "execution_count": null,
   "metadata": {},
   "outputs": [],
   "source": []
  },
  {
   "cell_type": "code",
   "execution_count": null,
   "metadata": {},
   "outputs": [],
   "source": []
  },
  {
   "cell_type": "code",
   "execution_count": 411,
   "metadata": {},
   "outputs": [],
   "source": [
    "import matplotlib.pyplot as plt\n",
    "import numpy as np\n",
    "\n",
    "\n",
    "# Fixing random state for reproducibility\n",
    "np.random.seed(19680801)\n",
    "\n",
    "x = np.linspace(0, 10)\n",
    "with plt.style.context('Solarize_Light2'):\n",
    "    plt.plot(x, np.sin(x) + x + np.random.randn(50))\n",
    "    plt.plot(x, np.sin(x) + 2 * x + np.random.randn(50))\n",
    "    plt.plot(x, np.sin(x) + 3 * x + np.random.randn(50))\n",
    "    plt.plot(x, np.sin(x) + 4 + np.random.randn(50))\n",
    "    plt.plot(x, np.sin(x) + 5 * x + np.random.randn(50))\n",
    "    plt.plot(x, np.sin(x) + 6 * x + np.random.randn(50))\n",
    "    plt.plot(x, np.sin(x) + 7 * x + np.random.randn(50))\n",
    "    plt.plot(x, np.sin(x) + 8 * x + np.random.randn(50))\n",
    "    # Number of accent colors in the color scheme\n",
    "    plt.title('8 Random Lines - Line')\n",
    "    plt.xlabel('x label', fontsize=14)\n",
    "    plt.ylabel('y label', fontsize=14)\n",
    "\n",
    "plt.show()"
   ]
  },
  {
   "cell_type": "code",
   "execution_count": null,
   "metadata": {},
   "outputs": [],
   "source": []
  },
  {
   "cell_type": "markdown",
   "metadata": {},
   "source": [
    "# Finding peaks"
   ]
  },
  {
   "cell_type": "code",
   "execution_count": 323,
   "metadata": {},
   "outputs": [],
   "source": [
    "import lmfit\n",
    "import copy\n",
    "from skimage.feature import peak_local_max"
   ]
  },
  {
   "cell_type": "code",
   "execution_count": 324,
   "metadata": {},
   "outputs": [],
   "source": [
    "def circular_mask(x0, y0, r):\n",
    "    mask = []  # Create an empty list.\n",
    "    for x in range(x0-r, x0+r+1):\n",
    "        for y in range(y0-r, y0+r+1):\n",
    "            if (x-x0)**2 + (y-y0)**2 <= r**2:\n",
    "                mask.append((x, y))\n",
    "                \n",
    "    return mask"
   ]
  },
  {
   "cell_type": "code",
   "execution_count": 325,
   "metadata": {},
   "outputs": [],
   "source": [
    "def find_peaks(signal,\n",
    "               mask_radius,\n",
    "               min_distance, \n",
    "               threshold_abs):\n",
    "    data = signal.data\n",
    "    central_peak = peak_local_max(data, \n",
    "                                  min_distance=1, \n",
    "                                  num_peaks=1)[0]\n",
    "    x0 = central_peak[1]\n",
    "    y0 = central_peak[0]\n",
    "    mask = circular_mask(x0, y0, mask_radius)\n",
    "    masked_data = copy.deepcopy(data)\n",
    "    for (x, y) in mask:\n",
    "        masked_data[y][x] = 0\n",
    "    \n",
    "    peaks = peak_local_max(masked_data, \n",
    "                           min_distance=min_distance, \n",
    "                           threshold_abs=threshold_abs)\n",
    "    peaks = np.concatenate((peaks, [central_peak]))\n",
    "    \n",
    "    print(type(masked_data.max()))\n",
    "    signal_copy = hs.signals.Signal2D(data)\n",
    "    signal_copy.plot(cmap='RdYlBu_r', vmax=float(masked_data.max()))\n",
    "    #signal_copy.plot(cmap='RdYlBu_r', vmax=100)\n",
    "                           \n",
    "    for peak in peaks:\n",
    "        m = hs.plot.markers.point(x=peak[1], \n",
    "                                  y=peak[0], \n",
    "                                  color='red')\n",
    "        signal_copy.add_marker(m)\n",
    "    \n",
    "    return peaks"
   ]
  },
  {
   "cell_type": "code",
   "execution_count": 326,
   "metadata": {},
   "outputs": [],
   "source": [
    "signal = hs.signals.Signal2D(reshaped_diff_patts[18][3])"
   ]
  },
  {
   "cell_type": "code",
   "execution_count": 330,
   "metadata": {},
   "outputs": [],
   "source": [
    "signal.plot(cmap='RdYlBu_r', vmax=100)"
   ]
  },
  {
   "cell_type": "code",
   "execution_count": 331,
   "metadata": {
    "scrolled": true
   },
   "outputs": [
    {
     "name": "stdout",
     "output_type": "stream",
     "text": [
      "<class 'numpy.float32'>\n"
     ]
    }
   ],
   "source": [
    "peaks = find_peaks(signal, \n",
    "                   mask_radius=14, min_distance=3, \n",
    "                   threshold_abs=60)"
   ]
  },
  {
   "cell_type": "code",
   "execution_count": null,
   "metadata": {},
   "outputs": [],
   "source": []
  },
  {
   "cell_type": "code",
   "execution_count": 68,
   "metadata": {},
   "outputs": [
    {
     "name": "stderr",
     "output_type": "stream",
     "text": [
      "C:\\Anaconda3\\lib\\site-packages\\ipykernel_launcher.py:6: MatplotlibDeprecationWarning: Passing non-integers as three-element position specification is deprecated since 3.3 and will be removed two minor releases later.\n",
      "  \n"
     ]
    }
   ],
   "source": [
    "fig = plt.figure(figsize=(4,5))\n",
    "# create a figure object; think of it aa the \"canvas\" for all your plots\n",
    "# Create a subplot within the confines of the figure boundary.\n",
    "# The 3-integer set specifies (# of rows, # of cols, plot index),\n",
    "# in this case\n",
    "ax = fig.add_subplot(1, 1.5, 1)\n",
    "\n",
    "y = line0.data\n",
    "y1 = line_2.data\n",
    "y2 = line_3.data\n",
    "y3 = line_4.data\n",
    "y4 = line_5.data\n",
    "y5 = line_6.data\n",
    "\n",
    "x = np.arange(y.size)\n",
    "x1 = np.arange(y1.size)\n",
    "x2 = np.arange(y2.size)\n",
    "x3 = np.arange(y3.size)\n",
    "x4 = np.arange(y4.size)\n",
    "x5 = np.arange(y5.size)\n",
    "\n",
    "ax.plot(x, y, linestyle='-', label='Pass 1')\n",
    "#ax.plot(x1, y1, linestyle='--',label='Pass 2')#, markeredgecolor=\"black\"\n",
    "ax.plot(x2, y2, linestyle='-', label='Pass 3')\n",
    "#ax.plot(x3, y3, linestyle='--',label='Pass 4')#, markeredgecolor=\"black\"\n",
    "ax.plot(x4, y4, linestyle='-', label='Pass 5')\n",
    "#ax.plot(x5, y5, linestyle='--',label='Pass 6')#, markeredgecolor=\"black\"\n",
    "\n",
    "#ax.get_yaxis().set_tick_params(which='major', direction='in',labelsize=12)\n",
    "#ax.get_yaxis().set_tick_params(which='minor', direction='in',labelsize=12)\n",
    "#ax.get_xaxis().set_tick_params(which='both', direction='in', labelsize=12)\n",
    "\n",
    "\n",
    "xmajorLocator = MultipleLocator(10)\n",
    "xmajorFormatter = FormatStrFormatter('%d')#format the tick lables \n",
    "xminorLocator = MultipleLocator(5)\n",
    "ymajorLocator = MultipleLocator(10)\n",
    "ymajorFormatter = FormatStrFormatter('%d')\n",
    "yminorLocator = MultipleLocator(2)\n",
    "\n",
    "#ax.xaxis.set_major_locator(xmajorLocator)\n",
    "#ax.xaxis.set_major_formatter(xmajorFormatter)\n",
    "# for the minor ticks, use no labels; default NullFormatter\n",
    "#ax.xaxis.set_minor_locator(xminorLocator)\n",
    "##############\n",
    "#ax.yaxis.set_major_locator(ymajorLocator)\n",
    "#ax.yaxis.set_major_formatter(ymajorFormatter)\n",
    "# for the minor ticks, use no labels; default NullFormatter\n",
    "#ax.yaxis.set_minor_locator(yminorLocator)\n",
    "\n",
    "plt.draw()\n",
    "plt.xlabel('Profile length (nm)', fontsize=18)\n",
    "plt.ylabel('Intensity (a.u.)', fontsize=18)\n",
    "#plt.title('Raw and interpolated phase', fontsize=18)\n",
    "#ax.axis([0, 90, 0, 40])\n",
    "plt.legend()\n",
    "plt.tight_layout()\n",
    "plt.show()"
   ]
  },
  {
   "cell_type": "code",
   "execution_count": 48,
   "metadata": {},
   "outputs": [],
   "source": [
    "y = line0.data\n",
    "y1 = line_2.data\n",
    "y2 = line_3.data\n",
    "y3 = line_4.data\n",
    "y4 = line_5.data\n",
    "y5 = line_6.data\n",
    "\n",
    "x = np.arange(y.size)\n",
    "x1 = np.arange(y1.size)\n",
    "x2 = np.arange(y2.size)\n",
    "x3 = np.arange(y3.size)\n",
    "x4 = np.arange(y4.size)\n",
    "x5 = np.arange(y5.size)"
   ]
  },
  {
   "cell_type": "code",
   "execution_count": 144,
   "metadata": {},
   "outputs": [],
   "source": [
    "mpl.rcParams['text.usetex'] = True\n",
    "plt.rc('text', usetex=True)\n",
    "plt.rc('font', family='serif')"
   ]
  },
  {
   "cell_type": "markdown",
   "metadata": {},
   "source": [
    "### Profile 1 "
   ]
  },
  {
   "cell_type": "code",
   "execution_count": 154,
   "metadata": {},
   "outputs": [
    {
     "name": "stdout",
     "output_type": "stream",
     "text": [
      "removing widget\n"
     ]
    },
    {
     "name": "stderr",
     "output_type": "stream",
     "text": [
      "Traceback (most recent call last):\n",
      "  File \"C:\\Anaconda3\\lib\\site-packages\\matplotlib\\cbook\\__init__.py\", line 224, in process\n",
      "    func(*args, **kwargs)\n",
      "  File \"C:\\Anaconda3\\lib\\site-packages\\hyperspy\\drawing\\utils.py\", line 192, in function_wrapper\n",
      "    function()\n",
      "  File \"C:\\Anaconda3\\lib\\site-packages\\hyperspy\\drawing\\widget.py\", line 254, in close\n",
      "    self.events.closed.trigger(obj=self)\n",
      "  File \"<string>\", line 4, in trigger\n",
      "  File \"C:\\Anaconda3\\lib\\site-packages\\hyperspy\\events.py\", line 425, in trigger\n",
      "    function(**{kwf: kwargs[kwt] for kwt, kwf in kwsd.items()})\n",
      "  File \"C:\\Anaconda3\\lib\\site-packages\\hyperspy\\roi.py\", line 497, in _remove_widget\n",
      "    [])\n",
      "TypeError: disconnect() takes 2 positional arguments but 3 were given\n"
     ]
    },
    {
     "name": "stdout",
     "output_type": "stream",
     "text": [
      "removing widget\n"
     ]
    },
    {
     "name": "stderr",
     "output_type": "stream",
     "text": [
      "Traceback (most recent call last):\n",
      "  File \"C:\\Anaconda3\\lib\\site-packages\\matplotlib\\cbook\\__init__.py\", line 224, in process\n",
      "    func(*args, **kwargs)\n",
      "  File \"C:\\Anaconda3\\lib\\site-packages\\hyperspy\\drawing\\utils.py\", line 192, in function_wrapper\n",
      "    function()\n",
      "  File \"C:\\Anaconda3\\lib\\site-packages\\hyperspy\\drawing\\widget.py\", line 254, in close\n",
      "    self.events.closed.trigger(obj=self)\n",
      "  File \"<string>\", line 4, in trigger\n",
      "  File \"C:\\Anaconda3\\lib\\site-packages\\hyperspy\\events.py\", line 425, in trigger\n",
      "    function(**{kwf: kwargs[kwt] for kwt, kwf in kwsd.items()})\n",
      "  File \"C:\\Anaconda3\\lib\\site-packages\\hyperspy\\roi.py\", line 497, in _remove_widget\n",
      "    [])\n",
      "TypeError: disconnect() takes 2 positional arguments but 3 were given\n"
     ]
    },
    {
     "name": "stdout",
     "output_type": "stream",
     "text": [
      "removing widget\n"
     ]
    },
    {
     "name": "stderr",
     "output_type": "stream",
     "text": [
      "Traceback (most recent call last):\n",
      "  File \"C:\\Anaconda3\\lib\\site-packages\\matplotlib\\cbook\\__init__.py\", line 224, in process\n",
      "    func(*args, **kwargs)\n",
      "  File \"C:\\Anaconda3\\lib\\site-packages\\hyperspy\\drawing\\utils.py\", line 192, in function_wrapper\n",
      "    function()\n",
      "  File \"C:\\Anaconda3\\lib\\site-packages\\hyperspy\\drawing\\widget.py\", line 254, in close\n",
      "    self.events.closed.trigger(obj=self)\n",
      "  File \"<string>\", line 4, in trigger\n",
      "  File \"C:\\Anaconda3\\lib\\site-packages\\hyperspy\\events.py\", line 425, in trigger\n",
      "    function(**{kwf: kwargs[kwt] for kwt, kwf in kwsd.items()})\n",
      "  File \"C:\\Anaconda3\\lib\\site-packages\\hyperspy\\roi.py\", line 497, in _remove_widget\n",
      "    [])\n",
      "TypeError: disconnect() takes 2 positional arguments but 3 were given\n"
     ]
    },
    {
     "name": "stdout",
     "output_type": "stream",
     "text": [
      "removing widget\n"
     ]
    },
    {
     "name": "stderr",
     "output_type": "stream",
     "text": [
      "Traceback (most recent call last):\n",
      "  File \"C:\\Anaconda3\\lib\\site-packages\\matplotlib\\cbook\\__init__.py\", line 224, in process\n",
      "    func(*args, **kwargs)\n",
      "  File \"C:\\Anaconda3\\lib\\site-packages\\hyperspy\\drawing\\utils.py\", line 192, in function_wrapper\n",
      "    function()\n",
      "  File \"C:\\Anaconda3\\lib\\site-packages\\hyperspy\\drawing\\widget.py\", line 254, in close\n",
      "    self.events.closed.trigger(obj=self)\n",
      "  File \"<string>\", line 4, in trigger\n",
      "  File \"C:\\Anaconda3\\lib\\site-packages\\hyperspy\\events.py\", line 425, in trigger\n",
      "    function(**{kwf: kwargs[kwt] for kwt, kwf in kwsd.items()})\n",
      "  File \"C:\\Anaconda3\\lib\\site-packages\\hyperspy\\roi.py\", line 497, in _remove_widget\n",
      "    [])\n",
      "TypeError: disconnect() takes 2 positional arguments but 3 were given\n"
     ]
    },
    {
     "name": "stdout",
     "output_type": "stream",
     "text": [
      "removing widget\n"
     ]
    },
    {
     "name": "stderr",
     "output_type": "stream",
     "text": [
      "Traceback (most recent call last):\n",
      "  File \"C:\\Anaconda3\\lib\\site-packages\\matplotlib\\cbook\\__init__.py\", line 224, in process\n",
      "    func(*args, **kwargs)\n",
      "  File \"C:\\Anaconda3\\lib\\site-packages\\hyperspy\\drawing\\utils.py\", line 192, in function_wrapper\n",
      "    function()\n",
      "  File \"C:\\Anaconda3\\lib\\site-packages\\hyperspy\\drawing\\widget.py\", line 254, in close\n",
      "    self.events.closed.trigger(obj=self)\n",
      "  File \"<string>\", line 4, in trigger\n",
      "  File \"C:\\Anaconda3\\lib\\site-packages\\hyperspy\\events.py\", line 425, in trigger\n",
      "    function(**{kwf: kwargs[kwt] for kwt, kwf in kwsd.items()})\n",
      "  File \"C:\\Anaconda3\\lib\\site-packages\\hyperspy\\roi.py\", line 497, in _remove_widget\n",
      "    [])\n",
      "TypeError: disconnect() takes 2 positional arguments but 3 were given\n"
     ]
    },
    {
     "name": "stdout",
     "output_type": "stream",
     "text": [
      "removing widget\n"
     ]
    }
   ],
   "source": [
    "\n",
    "#f, (ax1, ax2) = plt.subplots(2, 1, figsize=(5,5),sharex=True, gridspec_kw = {'height_ratios':[0.4, 0.6]}) #1\n",
    "f, (ax1, ax2) = plt.subplots(2, 1, figsize=(5,5),sharex=True, gridspec_kw = {'height_ratios':[0.4, 0.6]})  #2\n",
    "# plot the same data on both axes\n",
    "ms=2\n",
    "ax1.plot(x, y, linestyle='-', label='1')\n",
    "#ax1.plot(x1, y1,linestyle='--', label='2')\n",
    "ax1.plot(x2, y2, linestyle='-', label='3')\n",
    "#ax1.plot(x3, y3, linestyle='-', label='4')\n",
    "ax1.plot(x4, y4, linestyle='-', label='5')\n",
    "#ax1.plot(x5, y5, linestyle='-', label='6')\n",
    "#\n",
    "ax2.plot(x, y,linestyle='-', label='1')\n",
    "#ax2.plot(x1, y1, linestyle='--', label='2')\n",
    "ax2.plot(x2, y2, linestyle='-', label='3')\n",
    "#ax2.plot(x3, y3, linestyle='-', label='4')\n",
    "ax2.plot(x4, y4, linestyle='-', label='5')\n",
    "#ax2.plot(x5, y5, linestyle='-', label='6')\n",
    "#\n",
    "# zoom-in / limit the view to different portions of the data\n",
    "#ax1.set_ylim(8, 20)  # outliers only\n",
    "#ax2.set_ylim(-1, 1)  # most of the data\n",
    "\n",
    "# hide the spines between ax and ax2\n",
    "ax1.spines['bottom'].set_visible(False)\n",
    "ax2.spines['top'].set_visible(False)\n",
    "ax1.xaxis.tick_top()\n",
    "#ax1.tick_params(labeltop='off') \n",
    "#ax2.tick_params(labeltop='off') # don't put tick labels at the top\n",
    "ax2.xaxis.tick_bottom()\n",
    "\n",
    "ax1.get_yaxis().set_tick_params(which='both', direction='out',labelsize=14)\n",
    "ax1.get_xaxis().set_tick_params(which='both', direction='out', labelsize=14)\n",
    "ax2.get_yaxis().set_tick_params(which='both', direction='out',labelsize=14)\n",
    "ax2.get_xaxis().set_tick_params(which='both', direction='out', labelsize=14)\n",
    "\n",
    "xmajorLocator = MultipleLocator(10)\n",
    "xmajorFormatter = FormatStrFormatter('%d')#format the tick lables \n",
    "xminorLocator = MultipleLocator(5)\n",
    "ymajorLocator = MultipleLocator(200)\n",
    "ymajorFormatter = FormatStrFormatter('%d')\n",
    "yminorLocator = MultipleLocator(100)\n",
    "ax1.xaxis.set_major_locator(xmajorLocator)\n",
    "ax1.xaxis.set_major_formatter(xmajorFormatter)\n",
    "ax1.xaxis.set_minor_locator(xminorLocator)\n",
    "ax1.xaxis.set_minor_locator(xminorLocator)\n",
    "##############\n",
    "ax1.yaxis.set_major_locator(ymajorLocator)\n",
    "ax1.yaxis.set_major_formatter(ymajorFormatter)\n",
    "#for the minor ticks, use no labels; default NullFormatter\n",
    "ax1.yaxis.set_minor_locator(yminorLocator)\n",
    "ax1.yaxis.set_minor_locator(yminorLocator)\n",
    "\n",
    "ax1.axis([0, 90, 100, 1000])\n",
    "ax2.axis([0, 90, 0, 50])\n",
    "\n",
    "\n",
    "ax2.set_xlabel('Profile length (nm)', fontsize=18)\n",
    "\n",
    "f.text(0, 0.55, 'Intensity (a.u.)', va='center', rotation='vertical', fontsize=18)\n",
    "\n",
    "ax1.legend(title = \"Pass number\", loc='best',frameon=True, fontsize=11)\n",
    "plt.tight_layout()\n",
    "\n",
    "d = .01  # how big to make the diagonal lines in axes coordinates\n",
    "# arguments to pass to plot, just so we don't keep repeating them\n",
    "kwargs = dict(transform=ax1.transAxes, color='k', clip_on=False)\n",
    "ax1.plot((-d, +d), (-d, +d), **kwargs)        # top-left diagonal\n",
    "ax1.plot((1 - d, 1 + d), (-d, +d), **kwargs)  # top-right diagonal\n",
    "\n",
    "kwargs.update(transform=ax2.transAxes)  # switch to the bottom axes\n",
    "ax2.plot((-d, +d), (1 - d, 1 + d), **kwargs)  # bottom-left diagonal\n",
    "ax2.plot((1 - d, 1 + d), (1 - d, 1 + d), **kwargs)  # bottom-right diagonal\n",
    "\n",
    "# What's cool about this is that now if we vary the distance between\n",
    "# ax and ax2 via f.subplots_adjust(hspace=...) or plt.subplot_tool(),\n",
    "# the diagonal lines will move accordingly, and stay right at the tips\n",
    "# of the spines they are 'breaking'\n",
    "plt.draw()\n",
    "plt.show()"
   ]
  },
  {
   "cell_type": "markdown",
   "metadata": {},
   "source": [
    "### Profile 2 "
   ]
  },
  {
   "cell_type": "code",
   "execution_count": 207,
   "metadata": {},
   "outputs": [
    {
     "name": "stderr",
     "output_type": "stream",
     "text": [
      "C:\\Anaconda3\\lib\\site-packages\\ipykernel_launcher.py:6: MatplotlibDeprecationWarning: Passing non-integers as three-element position specification is deprecated since 3.3 and will be removed two minor releases later.\n",
      "  \n"
     ]
    },
    {
     "name": "stdout",
     "output_type": "stream",
     "text": [
      "removing widget\n"
     ]
    },
    {
     "name": "stderr",
     "output_type": "stream",
     "text": [
      "Traceback (most recent call last):\n",
      "  File \"C:\\Anaconda3\\lib\\site-packages\\matplotlib\\cbook\\__init__.py\", line 224, in process\n",
      "    func(*args, **kwargs)\n",
      "  File \"C:\\Anaconda3\\lib\\site-packages\\hyperspy\\drawing\\utils.py\", line 192, in function_wrapper\n",
      "    function()\n",
      "  File \"C:\\Anaconda3\\lib\\site-packages\\hyperspy\\drawing\\widget.py\", line 254, in close\n",
      "    self.events.closed.trigger(obj=self)\n",
      "  File \"<string>\", line 4, in trigger\n",
      "  File \"C:\\Anaconda3\\lib\\site-packages\\hyperspy\\events.py\", line 425, in trigger\n",
      "    function(**{kwf: kwargs[kwt] for kwt, kwf in kwsd.items()})\n",
      "  File \"C:\\Anaconda3\\lib\\site-packages\\hyperspy\\roi.py\", line 497, in _remove_widget\n",
      "    [])\n",
      "TypeError: disconnect() takes 2 positional arguments but 3 were given\n"
     ]
    },
    {
     "name": "stdout",
     "output_type": "stream",
     "text": [
      "removing widget\n"
     ]
    },
    {
     "name": "stderr",
     "output_type": "stream",
     "text": [
      "Traceback (most recent call last):\n",
      "  File \"C:\\Anaconda3\\lib\\site-packages\\matplotlib\\cbook\\__init__.py\", line 224, in process\n",
      "    func(*args, **kwargs)\n",
      "  File \"C:\\Anaconda3\\lib\\site-packages\\hyperspy\\drawing\\utils.py\", line 192, in function_wrapper\n",
      "    function()\n",
      "  File \"C:\\Anaconda3\\lib\\site-packages\\hyperspy\\drawing\\widget.py\", line 254, in close\n",
      "    self.events.closed.trigger(obj=self)\n",
      "  File \"<string>\", line 4, in trigger\n",
      "  File \"C:\\Anaconda3\\lib\\site-packages\\hyperspy\\events.py\", line 425, in trigger\n",
      "    function(**{kwf: kwargs[kwt] for kwt, kwf in kwsd.items()})\n",
      "  File \"C:\\Anaconda3\\lib\\site-packages\\hyperspy\\roi.py\", line 497, in _remove_widget\n",
      "    [])\n",
      "TypeError: disconnect() takes 2 positional arguments but 3 were given\n"
     ]
    },
    {
     "name": "stdout",
     "output_type": "stream",
     "text": [
      "removing widget\n",
      "removing widget\n",
      "removing widget\n",
      "removing widget\n"
     ]
    },
    {
     "name": "stderr",
     "output_type": "stream",
     "text": [
      "Traceback (most recent call last):\n",
      "  File \"C:\\Anaconda3\\lib\\site-packages\\matplotlib\\cbook\\__init__.py\", line 224, in process\n",
      "    func(*args, **kwargs)\n",
      "  File \"C:\\Anaconda3\\lib\\site-packages\\hyperspy\\drawing\\utils.py\", line 192, in function_wrapper\n",
      "    function()\n",
      "  File \"C:\\Anaconda3\\lib\\site-packages\\hyperspy\\drawing\\widget.py\", line 254, in close\n",
      "    self.events.closed.trigger(obj=self)\n",
      "  File \"<string>\", line 4, in trigger\n",
      "  File \"C:\\Anaconda3\\lib\\site-packages\\hyperspy\\events.py\", line 425, in trigger\n",
      "    function(**{kwf: kwargs[kwt] for kwt, kwf in kwsd.items()})\n",
      "  File \"C:\\Anaconda3\\lib\\site-packages\\hyperspy\\roi.py\", line 497, in _remove_widget\n",
      "    [])\n",
      "TypeError: disconnect() takes 2 positional arguments but 3 were given\n",
      "Traceback (most recent call last):\n",
      "  File \"C:\\Anaconda3\\lib\\site-packages\\matplotlib\\cbook\\__init__.py\", line 224, in process\n",
      "    func(*args, **kwargs)\n",
      "  File \"C:\\Anaconda3\\lib\\site-packages\\hyperspy\\drawing\\utils.py\", line 192, in function_wrapper\n",
      "    function()\n",
      "  File \"C:\\Anaconda3\\lib\\site-packages\\hyperspy\\drawing\\widget.py\", line 254, in close\n",
      "    self.events.closed.trigger(obj=self)\n",
      "  File \"<string>\", line 4, in trigger\n",
      "  File \"C:\\Anaconda3\\lib\\site-packages\\hyperspy\\events.py\", line 425, in trigger\n",
      "    function(**{kwf: kwargs[kwt] for kwt, kwf in kwsd.items()})\n",
      "  File \"C:\\Anaconda3\\lib\\site-packages\\hyperspy\\roi.py\", line 497, in _remove_widget\n",
      "    [])\n",
      "TypeError: disconnect() takes 2 positional arguments but 3 were given\n",
      "Traceback (most recent call last):\n",
      "  File \"C:\\Anaconda3\\lib\\site-packages\\matplotlib\\cbook\\__init__.py\", line 224, in process\n",
      "    func(*args, **kwargs)\n",
      "  File \"C:\\Anaconda3\\lib\\site-packages\\hyperspy\\drawing\\utils.py\", line 192, in function_wrapper\n",
      "    function()\n",
      "  File \"C:\\Anaconda3\\lib\\site-packages\\hyperspy\\drawing\\widget.py\", line 254, in close\n",
      "    self.events.closed.trigger(obj=self)\n",
      "  File \"<string>\", line 4, in trigger\n",
      "  File \"C:\\Anaconda3\\lib\\site-packages\\hyperspy\\events.py\", line 425, in trigger\n",
      "    function(**{kwf: kwargs[kwt] for kwt, kwf in kwsd.items()})\n",
      "  File \"C:\\Anaconda3\\lib\\site-packages\\hyperspy\\roi.py\", line 497, in _remove_widget\n",
      "    [])\n",
      "TypeError: disconnect() takes 2 positional arguments but 3 were given\n"
     ]
    }
   ],
   "source": [
    "fig = plt.figure(figsize=(4,5))\n",
    "# create a figure object; think of it aa the \"canvas\" for all your plots\n",
    "# Create a subplot within the confines of the figure boundary.\n",
    "# The 3-integer set specifies (# of rows, # of cols, plot index),\n",
    "# in this case\n",
    "ax = fig.add_subplot(1, 1.5, 1)\n",
    "\n",
    "y = line0.data\n",
    "y1 = line_2.data\n",
    "y2 = line_3.data\n",
    "y3 = line_4.data\n",
    "y4 = line_5.data\n",
    "y5 = line_6.data\n",
    "\n",
    "x = np.arange(y.size)\n",
    "x1 = np.arange(y1.size)\n",
    "x2 = np.arange(y2.size)\n",
    "x3 = np.arange(y3.size)\n",
    "x4 = np.arange(y4.size)\n",
    "x5 = np.arange(y5.size)\n",
    "\n",
    "ax.plot(x, y, linestyle='-', label='Pass 1')\n",
    "#ax.plot(x1, y1, linestyle='--',label='Pass 2')#, markeredgecolor=\"black\"\n",
    "ax.plot(x2, y2, linestyle='-', label='Pass 3')\n",
    "#ax.plot(x3, y3, linestyle='--',label='Pass 4')#, markeredgecolor=\"black\"\n",
    "ax.plot(x4, y4, linestyle='-', label='Pass 5')\n",
    "#ax.plot(x5, y5, linestyle='--',label='Pass 6')#, markeredgecolor=\"black\"\n",
    "\n",
    "ax.get_yaxis().set_tick_params(which='major', direction='out',labelsize=14)\n",
    "ax.get_yaxis().set_tick_params(which='minor', direction='out',labelsize=14)\n",
    "ax.get_xaxis().set_tick_params(which='both', direction='out', labelsize=14)\n",
    "\n",
    "xmajorLocator = MultipleLocator(10)\n",
    "xmajorFormatter = FormatStrFormatter('%d')#format the tick lables \n",
    "xminorLocator = MultipleLocator(5)\n",
    "ymajorLocator = MultipleLocator(10)\n",
    "ymajorFormatter = FormatStrFormatter('%d')\n",
    "yminorLocator = MultipleLocator(5)\n",
    "\n",
    "\n",
    "ax.xaxis.set_major_locator(xmajorLocator)\n",
    "ax.xaxis.set_major_formatter(xmajorFormatter)\n",
    "ax.xaxis.set_minor_locator(xminorLocator)\n",
    "ax.xaxis.set_minor_locator(xminorLocator)\n",
    "\n",
    "ax.yaxis.set_major_locator(ymajorLocator)\n",
    "ax.yaxis.set_major_formatter(ymajorFormatter)\n",
    "#for the minor ticks, use no labels; default NullFormatter\n",
    "ax.yaxis.set_minor_locator(yminorLocator)\n",
    "ax.yaxis.set_minor_locator(yminorLocator)\n",
    "\n",
    "plt.draw()\n",
    "plt.xlabel('Profile length (nm)', fontsize=18)\n",
    "plt.ylabel('Intensity (a.u.)', fontsize=18)\n",
    "ax.legend(title = \"Pass number\", loc='best',frameon=True, fontsize=11)\n",
    "ax.axis([0, 65, 0, 70])\n",
    "plt.legend()\n",
    "plt.tight_layout()\n",
    "plt.show()"
   ]
  },
  {
   "cell_type": "code",
   "execution_count": null,
   "metadata": {},
   "outputs": [],
   "source": []
  }
 ],
 "metadata": {
  "kernelspec": {
   "display_name": "Python 3 (ipykernel)",
   "language": "python",
   "name": "python3"
  },
  "language_info": {
   "codemirror_mode": {
    "name": "ipython",
    "version": 3
   },
   "file_extension": ".py",
   "mimetype": "text/x-python",
   "name": "python",
   "nbconvert_exporter": "python",
   "pygments_lexer": "ipython3",
   "version": "3.9.13"
  }
 },
 "nbformat": 4,
 "nbformat_minor": 4
}
